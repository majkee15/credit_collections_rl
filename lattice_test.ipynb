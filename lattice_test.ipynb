{
 "cells": [
  {
   "cell_type": "code",
   "execution_count": 54,
   "metadata": {},
   "outputs": [],
   "source": [
    "from __future__ import absolute_import\n",
    "from __future__ import division\n",
    "from __future__ import print_function\n",
    "import os \n",
    "\n",
    "os.environ[\"CUDA_VISIBLE_DEVICES\"] = \"-1\"\n",
    "\n",
    "from absl import app\n",
    "from absl import flags\n",
    "\n",
    "import numpy as np\n",
    "import pandas as pd\n",
    "\n",
    "import tensorflow as tf\n",
    "from tensorflow import keras\n",
    "import tensorflow_lattice as tfl\n"
   ]
  },
  {
   "cell_type": "code",
   "execution_count": 55,
   "metadata": {},
   "outputs": [],
   "source": [
    "# UCI Statlog (Heart) dataset.\n",
    "csv_file = tf.keras.utils.get_file(\n",
    "  'heart.csv', 'http://storage.googleapis.com/applied-dl/heart.csv')\n",
    "training_data_df = pd.read_csv(csv_file).sample(\n",
    "  frac=1.0, random_state=41).reset_index(drop=True)\n",
    "\n",
    "# Feature columns.\n",
    "# 0  age\n",
    "# 1  sex\n",
    "# 2  cp        chest pain type (4 values)\n",
    "# 3  trestbps  resting blood pressure\n",
    "# 4  chol      serum cholestoral in mg/dl\n",
    "# 5  fbs       fasting blood sugar > 120 mg/dl\n",
    "# 6  restecg   resting electrocardiographic results (values 0,1,2)\n",
    "# 7  thalach   maximum heart rate achieved\n",
    "# 8  exang     exercise induced angina\n",
    "# 9  oldpeak   ST depression induced by exercise relative to rest\n",
    "# 10 slope     the slope of the peak exercise ST segment\n",
    "# 11 ca        number of major vessels (0-3) colored by flourosopy\n",
    "# 12 thal      3 = normal; 6 = fixed defect; 7 = reversable defect\n",
    "\n",
    "# Example slice of training data:\n",
    "#     age  sex  cp  trestbps  chol  fbs  restecg  thalach  exang  oldpeak\n",
    "# 0   63    1   1       145   233    1        2      150      0      2.3\n",
    "# 1   67    1   4       160   286    0        2      108      1      1.5\n",
    "# 2   67    1   4       120   229    0        2      129      1      2.6\n",
    "# 3   37    1   3       130   250    0        0      187      0      3.5\n",
    "# 4   41    0   2       130   204    0        2      172      0      1.4\n",
    "# 5   56    1   2       120   236    0        0      178      0      0.8\n",
    "# 6   62    0   4       140   268    0        2      160      0      3.6\n",
    "# 7   57    0   4       120   354    0        0      163      1      0.6\n",
    "# 8   63    1   4       130   254    0        2      147      0      1.4\n",
    "# 9   53    1   4       140   203    1        2      155      1      3.1\n",
    "\n",
    "# Lattice sizes per dimension for Lattice layer.\n",
    "# Lattice layer expects input[i] to be within [0, lattice_sizes[i] - 1.0], so\n",
    "# we need to define lattice sizes ahead of calibration layers so we can\n",
    "# properly specify output range of calibration layers.\n",
    "lattice_sizes = [3, 2, 2, 2, 2, 2, 2]\n",
    "\n",
    "# Use ParallelCombination helper layer to group togehter calibration layers\n",
    "# which have to be executed in paralel in order to be able to use Sequential\n",
    "# model. Alternatively you can use functional API.\n",
    "combined_calibrators = tfl.layers.ParallelCombination()\n"
   ]
  },
  {
   "cell_type": "code",
   "execution_count": 56,
   "metadata": {},
   "outputs": [
    {
     "data": {
      "text/plain": [
       "count    303.000000\n",
       "mean      54.594059\n",
       "std        9.016370\n",
       "min       29.000000\n",
       "25%       48.000000\n",
       "50%       56.000000\n",
       "75%       61.000000\n",
       "max       77.000000\n",
       "Name: age, dtype: float64"
      ]
     },
     "execution_count": 56,
     "metadata": {},
     "output_type": "execute_result"
    }
   ],
   "source": [
    "training_data_df.age.describe()"
   ]
  },
  {
   "cell_type": "markdown",
   "metadata": {},
   "source": [
    "Calibrators"
   ]
  },
  {
   "cell_type": "code",
   "execution_count": 57,
   "metadata": {},
   "outputs": [],
   "source": [
    "# Configure calibration layers for every feature:\n",
    "\n",
    "# ############### age ###############\n",
    "\n",
    "calibrator = tfl.layers.PWLCalibration(\n",
    "  # Every PWLCalibration layer must have keypoints of piecewise linear\n",
    "  # function specified. Easiest way to specify them is to uniformly cover\n",
    "  # entire input range by using numpy.linspace().\n",
    "  input_keypoints=np.linspace(training_data_df['age'].min(),\n",
    "                              training_data_df['age'].max(),\n",
    "                              num=5),\n",
    "  # You need to ensure that input keypoints have same dtype as layer input.\n",
    "  # You can do it by setting dtype here or by providing keypoints in such\n",
    "  # format which will be converted to deisred tf.dtype by default.\n",
    "  dtype=tf.float32,\n",
    "  # Output range must correspond to expected lattice input range.\n",
    "  output_min=0.0,\n",
    "  output_max=lattice_sizes[0] - 1.0,\n",
    "  monotonicity='increasing')\n",
    "combined_calibrators.append(calibrator)\n",
    "\n",
    "# ############### sex ###############\n",
    "\n",
    "# For boolean features simply specify CategoricalCalibration layer with 2\n",
    "# buckets.\n",
    "calibrator = tfl.layers.CategoricalCalibration(\n",
    "  num_buckets=2,\n",
    "  output_min=0.0,\n",
    "  output_max=lattice_sizes[1] - 1.0,\n",
    "  # Initializes all outputs to (output_min + output_max) / 2.0.\n",
    "  kernel_initializer='constant')\n",
    "combined_calibrators.append(calibrator)\n",
    "\n",
    "# ############### cp ###############\n",
    "\n",
    "calibrator = tfl.layers.PWLCalibration(\n",
    "  # Here instead of specifying dtype of layer we convert keypoints into\n",
    "  # np.float32.\n",
    "  input_keypoints=np.linspace(1, 4, num=4, dtype=np.float32),\n",
    "  output_min=0.0,\n",
    "  output_max=lattice_sizes[2] - 1.0,\n",
    "  monotonicity='increasing',\n",
    "  # You can specify TFL regularizers as tuple ('regularizer name', l1, l2).\n",
    "  kernel_regularizer=('hessian', 0.0, 1e-4))\n",
    "combined_calibrators.append(calibrator)\n",
    "\n",
    "# ############### trestbps ###############\n",
    "\n",
    "calibrator = tfl.layers.PWLCalibration(\n",
    "  # Alternatively to uniform keypoints you might want to use quantiles as\n",
    "  # keypoints.\n",
    "  input_keypoints=np.quantile(\n",
    "      training_data_df['trestbps'], np.linspace(0.0, 1.0, num=5)),\n",
    "  dtype=tf.float32,\n",
    "  # Together with quantile keypoints you might want to initialize piecewise\n",
    "  # linear function to have 'equal_slopes' in order for output of layer\n",
    "  # after initialization to preserve original distribution.\n",
    "  kernel_initializer='equal_slopes',\n",
    "  output_min=0.0,\n",
    "  output_max=lattice_sizes[3] - 1.0,\n",
    "  # You might consider clamping extreme inputs of the calibrator to output\n",
    "  # bounds.\n",
    "  clamp_min=True,\n",
    "  clamp_max=True,\n",
    "  monotonicity='increasing')\n",
    "combined_calibrators.append(calibrator)\n",
    "\n",
    "# ############### chol ###############\n",
    "\n",
    "calibrator = tfl.layers.PWLCalibration(\n",
    "  # Explicit input keypoint initialization.\n",
    "  input_keypoints=[126.0, 210.0, 247.0, 286.0, 564.0],\n",
    "  dtype=tf.float32,\n",
    "  output_min=0.0,\n",
    "  output_max=lattice_sizes[4] - 1.0,\n",
    "  # Monotonicity of calibrator can be 'decreasing'. Note that corresponding\n",
    "  # lattice dimension must have 'increasing' monotonicity regardless of\n",
    "  # monotonicity direction of calibrator.\n",
    "  # Its not some weird configuration hack. Its just how math works :)\n",
    "  monotonicity='decreasing',\n",
    "  # Convexity together with decreasing monotonicity result in diminishing\n",
    "  # return constraint.\n",
    "  convexity='convex',\n",
    "  # You can specify list of regularizers. You are not limited to TFL\n",
    "  # regularizrs. Feel free to use any :)\n",
    "  kernel_regularizer=[('laplacian', 0.0, 1e-4),\n",
    "                      keras.regularizers.l1_l2(l1=0.001)])\n",
    "combined_calibrators.append(calibrator)\n",
    "\n",
    "# ############### fbs ###############\n",
    "\n",
    "calibrator = tfl.layers.CategoricalCalibration(\n",
    "  num_buckets=2,\n",
    "  output_min=0.0,\n",
    "  output_max=lattice_sizes[5] - 1.0,\n",
    "  # For categorical calibration layer monotonicity is specified for pairs\n",
    "  # of indices of categories. Output for first category in pair will be\n",
    "  # smaller than output for second category.\n",
    "  #\n",
    "  # Don't forget to set monotonicity of corresponding dimension of Lattice\n",
    "  # layer to 'increasing'.\n",
    "  monotonicities=[(0, 1)],\n",
    "  # This initializer is identical to default one('uniform'), but has fixed\n",
    "  # seed in order to simplify experimentation.\n",
    "  kernel_initializer=keras.initializers.RandomUniform(\n",
    "      minval=0.0, maxval=lattice_sizes[5] - 1.0, seed=1))\n",
    "combined_calibrators.append(calibrator)\n",
    "\n",
    "# ############### restecg ###############\n",
    "\n",
    "calibrator = tfl.layers.CategoricalCalibration(\n",
    "  num_buckets=3,\n",
    "  output_min=0.0,\n",
    "  output_max=lattice_sizes[6] - 1.0,\n",
    "  # Categorical monotonicity can be partial order.\n",
    "  monotonicities=[(0, 1), (0, 2)],\n",
    "  # Categorical calibration layer supports standard Keras regularizers.\n",
    "  kernel_regularizer=keras.regularizers.l1_l2(l1=0.001),\n",
    "  kernel_initializer='constant')\n",
    "combined_calibrators.append(calibrator)\n",
    "\n",
    "# Create Lattice layer to nonlineary fuse output of calibrators. Don't forget\n",
    "# to specify monotonicity 'increasing' for any dimension which calibrator is\n",
    "# monotonic regardless of monotonicity direction of calibrator. This includes\n",
    "# partial monotonicity of CategoricalCalibration layer.\n",
    "lattice = tfl.layers.Lattice(\n",
    "  lattice_sizes=lattice_sizes,\n",
    "  monotonicities=['increasing', 'none', 'increasing', 'increasing',\n",
    "                  'increasing', 'increasing', 'increasing'],\n",
    "  output_min=0.0,\n",
    "  output_max=1.0)"
   ]
  },
  {
   "cell_type": "code",
   "execution_count": 58,
   "metadata": {},
   "outputs": [
    {
     "data": {
      "text/plain": [
       "<tensorflow_lattice.python.parallel_combination_layer.ParallelCombination at 0x277019cc4c8>"
      ]
     },
     "execution_count": 58,
     "metadata": {},
     "output_type": "execute_result"
    }
   ],
   "source": [
    "combined_calibrators"
   ]
  },
  {
   "cell_type": "code",
   "execution_count": 59,
   "metadata": {},
   "outputs": [],
   "source": [
    "model = keras.models.Sequential()\n",
    "# We have just 2 layer as far as Sequential model is concerned.\n",
    "# PWLConcatenate layer takes care of grouping calibrators.\n",
    "model.add(combined_calibrators)\n",
    "model.add(lattice)\n",
    "model.compile(loss=keras.losses.mean_squared_error,\n",
    "            optimizer=keras.optimizers.Adagrad(learning_rate=1.0), metrics=[tf.keras.metrics.Accuracy()])"
   ]
  },
  {
   "cell_type": "code",
   "execution_count": 60,
   "metadata": {},
   "outputs": [],
   "source": [
    "features = training_data_df[\n",
    "  ['age', 'sex', 'cp',\n",
    "   'trestbps', 'chol', 'fbs', 'restecg']].values.astype(np.float32)\n",
    "target = training_data_df[['target']].values.astype(np.float32)\n",
    "\n",
    "# model.fit(features,\n",
    "#         target,\n",
    "#         batch_size=32,\n",
    "#         epochs=200,\n",
    "#         validation_split=0.2,\n",
    "#         shuffle=False)\n"
   ]
  },
  {
   "cell_type": "markdown",
   "metadata": {},
   "source": [
    "My lattice"
   ]
  },
  {
   "cell_type": "code",
   "execution_count": 61,
   "metadata": {},
   "outputs": [],
   "source": [
    "lattice_sizes = [10, 10]\n",
    "lattice = tfl.layers.Lattice(\n",
    "    # Number of vertices along each dimension.\n",
    "    units=2,\n",
    "    lattice_sizes=lattice_sizes,\n",
    "    # You can specify monotonicity constraints.\n",
    "    monotonicities=['increasing', 'increasing'],\n",
    "    output_min=0.0,\n",
    "    output_max=100)"
   ]
  },
  {
   "cell_type": "code",
   "execution_count": 62,
   "metadata": {},
   "outputs": [],
   "source": [
    "calibrator_w = tfl.layers.PWLCalibration(\n",
    "  # Every PWLCalibration layer must have keypoints of piecewise linear\n",
    "  # function specified. Easiest way to specify them is to uniformly cover\n",
    "  # entire input range by using numpy.linspace().\n",
    "  input_keypoints=np.linspace(0, 100,num=100),\n",
    "  units=1,\n",
    "  # You need to ensure that input keypoints have same dtype as layer input.\n",
    "  # You can do it by setting dtype here or by providing keypoints in such\n",
    "  # format which will be converted to deisred tf.dtype by default.\n",
    "  dtype=tf.float32,\n",
    "  # Output range must correspond to expected lattice input range.\n",
    "  output_min=0.0,\n",
    "  output_max=lattice_sizes[0] - 1.0,\n",
    "  monotonicity='increasing')\n",
    "\n",
    "calibrator_l = tfl.layers.PWLCalibration(\n",
    "  # Every PWLCalibration layer must have keypoints of piecewise linear\n",
    "  # function specified. Easiest way to specify them is to uniformly cover\n",
    "  # entire input range by using numpy.linspace().\n",
    "  input_keypoints=np.linspace(0, 20,num=100),\n",
    "  units=1,\n",
    "  # You need to ensure that input keypoints have same dtype as layer input.\n",
    "  # You can do it by setting dtype here or by providing keypoints in such\n",
    "  # format which will be converted to deisred tf.dtype by default.\n",
    "  dtype=tf.float32,\n",
    "  # Output range must correspond to expected lattice input range.\n",
    "  output_min=0.0,\n",
    "  output_max=lattice_sizes[1] - 1.0,\n",
    "  monotonicity='increasing')\n",
    "\n",
    "combined_calibrators = combined_calibrators = tfl.layers.ParallelCombination([calibrator_w, calibrator_l], single_output=True)"
   ]
  },
  {
   "cell_type": "code",
   "execution_count": 10,
   "metadata": {},
   "outputs": [
    {
     "data": {
      "text/plain": [
       "array([], shape=(0, 2), dtype=float64)"
      ]
     },
     "execution_count": 10,
     "metadata": {},
     "output_type": "execute_result"
    }
   ],
   "source": [
    "obs = np.array([2.,100.])\n",
    "lattice.compute_output_shape(obs[None,:])"
   ]
  },
  {
   "cell_type": "code",
   "execution_count": 12,
   "metadata": {},
   "outputs": [],
   "source": [
    "model = keras.models.Sequential()\n",
    "# We have just 2 layer as far as Sequential model is concerned.\n",
    "# PWLConcatenate layer takes care of grouping calibrators.\n",
    "model.add(combined_calibrators)\n",
    "model.add(tf.keras.layers.RepeatVector(2))\n",
    "model.add(lattice)\n",
    "model.compile(loss=keras.losses.mean_squared_error,\n",
    "            optimizer=keras.optimizers.Adam(learning_rate=0.001))"
   ]
  },
  {
   "cell_type": "code",
   "execution_count": 13,
   "metadata": {},
   "outputs": [
    {
     "data": {
      "text/plain": [
       "<tf.Tensor: shape=(1, 2), dtype=float32, numpy=array([[3.0000005, 3.0000005]], dtype=float32)>"
      ]
     },
     "execution_count": 13,
     "metadata": {},
     "output_type": "execute_result"
    }
   ],
   "source": [
    "x = tf.ones((1, 2))\n",
    "y = model(x)\n",
    "y"
   ]
  },
  {
   "cell_type": "code",
   "execution_count": 14,
   "metadata": {},
   "outputs": [
    {
     "name": "stdout",
     "output_type": "stream",
     "text": [
      "Model: \"sequential_2\"\n",
      "_________________________________________________________________\n",
      "Layer (type)                 Output Shape              Param #   \n",
      "=================================================================\n",
      "parallel_combination_1 (Para multiple                  200       \n",
      "_________________________________________________________________\n",
      "repeat_vector_1 (RepeatVecto multiple                  0         \n",
      "_________________________________________________________________\n",
      "lattice_1 (Lattice)          multiple                  200       \n",
      "=================================================================\n",
      "Total params: 400\n",
      "Trainable params: 400\n",
      "Non-trainable params: 0\n",
      "_________________________________________________________________\n"
     ]
    }
   ],
   "source": [
    "model.summary()"
   ]
  },
  {
   "cell_type": "code",
   "execution_count": 15,
   "metadata": {},
   "outputs": [
    {
     "data": {
      "text/plain": [
       "array([[50.99997, 50.99997]], dtype=float32)"
      ]
     },
     "execution_count": 15,
     "metadata": {},
     "output_type": "execute_result"
    }
   ],
   "source": [
    "model.predict(obs[None,])"
   ]
  },
  {
   "cell_type": "code",
   "execution_count": 16,
   "metadata": {},
   "outputs": [],
   "source": [
    "weights = model.weights[0]"
   ]
  },
  {
   "cell_type": "code",
   "execution_count": 17,
   "metadata": {},
   "outputs": [],
   "source": [
    "model.save('h.h5')"
   ]
  },
  {
   "cell_type": "markdown",
   "metadata": {},
   "source": [
    "## Learning aav using lattice"
   ]
  },
  {
   "cell_type": "code",
   "execution_count": 18,
   "metadata": {},
   "outputs": [
    {
     "name": "stdout",
     "output_type": "stream",
     "text": [
      "[INFO] [2020-07-05 13:48:11,459] [AAV] - Instantiated @ AAV\n"
     ]
    }
   ],
   "source": [
    "from dcc import AAV, Parameters\n",
    "import numpy as np\n",
    "import matplotlib.pyplot as plt\n",
    "\n",
    "p = Parameters()\n",
    "aav= AAV(p)\n",
    "ws = np.linspace(0, 200, 100)\n",
    "ls = np.linspace(0, 5, 100)\n",
    "ww, ll = np.meshgrid(ws, ls)\n",
    "z = np.zeros_like(ww)\n",
    "features = []\n",
    "for i, wx in enumerate(ws):\n",
    "    for j, ly in enumerate(ls):\n",
    "        z[j, i] = -aav.u(ly, wx)\n",
    "        features.append([ly,wx, -z[j, i]])"
   ]
  },
  {
   "cell_type": "code",
   "execution_count": 19,
   "metadata": {},
   "outputs": [
    {
     "data": {
      "text/plain": [
       "Text(0.5, 1.0, 'Simplest default with labels')"
      ]
     },
     "execution_count": 19,
     "metadata": {},
     "output_type": "execute_result"
    },
    {
     "data": {
      "image/png": "[encoded data removed]",
      "text/plain": [
       "<Figure size 432x288 with 1 Axes>"
      ]
     },
     "metadata": {
      "needs_background": "light"
     },
     "output_type": "display_data"
    }
   ],
   "source": [
    "fig, ax = plt.subplots()\n",
    "CS = ax.contour(ww, ll, z)\n",
    "ax.clabel(CS, inline=1, fontsize=10)\n",
    "ax.set_title('Simplest default with labels')"
   ]
  },
  {
   "cell_type": "code",
   "execution_count": 20,
   "metadata": {},
   "outputs": [],
   "source": [
    "dataset = pd.DataFrame(features, columns=['l', 'w', 'target'])"
   ]
  },
  {
   "cell_type": "code",
   "execution_count": 21,
   "metadata": {},
   "outputs": [],
   "source": [
    "train_dataset = dataset.sample(frac=0.8,random_state=0)\n",
    "test_dataset = dataset.drop(train_dataset.index)\n",
    "train_labels = train_dataset.target.copy()\n",
    "test_labels = test_dataset.target.copy()\n",
    "train_dataset = train_dataset.drop(labels=['target'], axis=1)\n",
    "test_dataset = test_dataset.drop(labels=['target'], axis=1)"
   ]
  },
  {
   "cell_type": "code",
   "execution_count": 22,
   "metadata": {},
   "outputs": [],
   "source": [
    "import seaborn as sns"
   ]
  },
  {
   "cell_type": "markdown",
   "metadata": {},
   "source": [
    "Neural net:"
   ]
  },
  {
   "cell_type": "code",
   "execution_count": 23,
   "metadata": {},
   "outputs": [],
   "source": [
    "nn = tf.keras.models.Sequential()\n",
    "nn.add(tf.keras.layers.Dense(32, activation='relu'))\n",
    "nn.add(tf.keras.layers.Dense(32, activation='relu'))\n",
    "nn.add(tf.keras.layers.Dense(1, activation='linear'))\n",
    "nn.compile(loss=tf.keras.losses.mean_squared_error, optimizer='adam')"
   ]
  },
  {
   "cell_type": "code",
   "execution_count": 24,
   "metadata": {},
   "outputs": [],
   "source": [
    "nn.build(input_shape=(1,2))"
   ]
  },
  {
   "cell_type": "code",
   "execution_count": 25,
   "metadata": {},
   "outputs": [
    {
     "name": "stdout",
     "output_type": "stream",
     "text": [
      "Model: \"sequential_3\"\n",
      "_________________________________________________________________\n",
      "Layer (type)                 Output Shape              Param #   \n",
      "=================================================================\n",
      "dense (Dense)                multiple                  96        \n",
      "_________________________________________________________________\n",
      "dense_1 (Dense)              multiple                  1056      \n",
      "_________________________________________________________________\n",
      "dense_2 (Dense)              multiple                  33        \n",
      "=================================================================\n",
      "Total params: 1,185\n",
      "Trainable params: 1,185\n",
      "Non-trainable params: 0\n",
      "_________________________________________________________________\n"
     ]
    }
   ],
   "source": [
    "nn.summary()"
   ]
  },
  {
   "cell_type": "code",
   "execution_count": 26,
   "metadata": {},
   "outputs": [
    {
     "data": {
      "text/plain": [
       "array([[-27.151707 ],\n",
       "       [ -2.5588174],\n",
       "       [ -6.58401  ],\n",
       "       [-17.341606 ],\n",
       "       [ -6.672092 ],\n",
       "       [-24.065762 ],\n",
       "       [-16.165024 ],\n",
       "       [-18.714733 ],\n",
       "       [ -7.4959717],\n",
       "       [ -9.790575 ]], dtype=float32)"
      ]
     },
     "execution_count": 26,
     "metadata": {},
     "output_type": "execute_result"
    }
   ],
   "source": [
    "example_batch = train_dataset[:10].to_numpy()\n",
    "example_result = nn.predict(example_batch)\n",
    "example_result"
   ]
  },
  {
   "cell_type": "code",
   "execution_count": 31,
   "metadata": {},
   "outputs": [],
   "source": [
    "EPOCHS = 100\n",
    "\n",
    "history = nn.fit(train_dataset, train_labels,\n",
    "  epochs=EPOCHS, validation_split = 0.2, verbose=False)"
   ]
  },
  {
   "cell_type": "code",
   "execution_count": 32,
   "metadata": {},
   "outputs": [
    {
     "data": {
      "text/plain": [
       "[<matplotlib.lines.Line2D at 0x27703b133c8>]"
      ]
     },
     "execution_count": 32,
     "metadata": {},
     "output_type": "execute_result"
    },
    {
     "data": {
      "image/png": "[encoded data removed]",
      "text/plain": [
       "<Figure size 432x288 with 1 Axes>"
      ]
     },
     "metadata": {
      "needs_background": "light"
     },
     "output_type": "display_data"
    }
   ],
   "source": [
    "plt.plot(history.history['val_loss'])"
   ]
  },
  {
   "cell_type": "code",
   "execution_count": 33,
   "metadata": {},
   "outputs": [],
   "source": [
    "nn_pred = np.zeros_like(ww)\n",
    "for i, wx in enumerate(ws):\n",
    "    for j, ly in enumerate(ls):\n",
    "        obs = np.array([ly, wx])\n",
    "        nn_pred[j, i] = nn.predict_on_batch(obs[None,:])"
   ]
  },
  {
   "cell_type": "code",
   "execution_count": 34,
   "metadata": {},
   "outputs": [
    {
     "data": {
      "text/plain": [
       "Text(0.5, 1.0, 'Simplest default with labels')"
      ]
     },
     "execution_count": 34,
     "metadata": {},
     "output_type": "execute_result"
    },
    {
     "data": {
      "image/png": "[encoded data removed]",
      "text/plain": [
       "<Figure size 432x288 with 1 Axes>"
      ]
     },
     "metadata": {
      "needs_background": "light"
     },
     "output_type": "display_data"
    }
   ],
   "source": [
    "fig, ax = plt.subplots()\n",
    "CS = ax.contour(ww, ll, nn_pred)\n",
    "ax.clabel(CS, inline=1, fontsize=10)\n",
    "ax.set_title('Simplest default with labels')"
   ]
  },
  {
   "cell_type": "code",
   "execution_count": 35,
   "metadata": {},
   "outputs": [
    {
     "data": {
      "text/plain": [
       "718.6511415575551"
      ]
     },
     "execution_count": 35,
     "metadata": {},
     "output_type": "execute_result"
    }
   ],
   "source": [
    "np.sum(np.power(nn.predict_on_batch(test_dataset.to_numpy()).numpy().flatten() - test_labels, 2))"
   ]
  },
  {
   "cell_type": "markdown",
   "metadata": {},
   "source": [
    "## Regression with lattices"
   ]
  },
  {
   "cell_type": "code",
   "execution_count": 53,
   "metadata": {},
   "outputs": [],
   "source": [
    "lattice_sizes = [2, 2]\n",
    "lattice_sizes2 = [2, 2, 2]\n",
    "lattice_sizes3 = [2, 2]\n",
    "lattice1 = tfl.layers.Lattice(\n",
    "    # Number of vertices along each dimension.\n",
    "    units=3,\n",
    "    lattice_sizes=lattice_sizes,\n",
    "    # You can specify monotonicity constraints.\n",
    "    monotonicities=['increasing', 'increasing'])\n",
    "\n",
    "lattice2 = tfl.layers.Lattice(\n",
    "    units=2,\n",
    "    lattice_sizes=lattice_sizes2,\n",
    "    # You can specify monotonicity constraints.\n",
    "    monotonicities=['increasing', 'increasing', 'increasing'])\n",
    "\n",
    "lattice3 = tfl.layers.Lattice(\n",
    "    units=1,\n",
    "    lattice_sizes=lattice_sizes3,\n",
    "    # You can specify monotonicity constraints.\n",
    "    monotonicities=['increasing', 'increasing'], output_min=0, output_max=200)"
   ]
  },
  {
   "cell_type": "code",
   "execution_count": 37,
   "metadata": {},
   "outputs": [],
   "source": [
    "calibrator_w = tfl.layers.PWLCalibration(\n",
    "  # Every PWLCalibration layer must have keypoints of piecewise linear\n",
    "  # function specified. Easiest way to specify them is to uniformly cover\n",
    "  # entire input range by using numpy.linspace().\n",
    "  input_keypoints=np.linspace(0, 200,num=100),\n",
    "  units=1,\n",
    "  # You need to ensure that input keypoints have same dtype as layer input.\n",
    "  # You can do it by setting dtype here or by providing keypoints in such\n",
    "  # format which will be converted to deisred tf.dtype by default.\n",
    "  dtype=tf.float32,\n",
    "  # Output range must correspond to expected lattice input range.\n",
    "  output_min=0.0,\n",
    "  output_max=lattice_sizes[0] - 1.0,\n",
    "  monotonicity='increasing')\n",
    "\n",
    "calibrator_l = tfl.layers.PWLCalibration(\n",
    "  # Every PWLCalibration layer must have keypoints of piecewise linear\n",
    "  # function specified. Easiest way to specify them is to uniformly cover\n",
    "  # entire input range by using numpy.linspace().\n",
    "  input_keypoints=np.linspace(0, 20,num=100),\n",
    "  units=1,\n",
    "  # You need to ensure that input keypoints have same dtype as layer input.\n",
    "  # You can do it by setting dtype here or by providing keypoints in such\n",
    "  # format which will be converted to deisred tf.dtype by default.\n",
    "  dtype=tf.float32,\n",
    "  # Output range must correspond to expected lattice input range.\n",
    "  output_min=0.0,\n",
    "  output_max=lattice_sizes[1] - 1.0,\n",
    "  monotonicity='increasing')\n",
    "\n",
    "combined_calibrators1 = combined_calibrators = tfl.layers.ParallelCombination([calibrator_w, calibrator_l], single_output=True)"
   ]
  },
  {
   "cell_type": "code",
   "execution_count": 38,
   "metadata": {},
   "outputs": [],
   "source": [
    "model = keras.models.Sequential()\n",
    "# We have just 2 layer as far as Sequential model is concerned.\n",
    "# PWLConcatenate layer takes care of grouping calibrators.\n",
    "model.add(combined_calibrators1)\n",
    "model.add(tf.keras.layers.RepeatVector(3))\n",
    "model.add(lattice1)\n",
    "model.compile(loss=keras.losses.mean_squared_error,\n",
    "            optimizer=keras.optimizers.Adam(learning_rate=0.001))"
   ]
  },
  {
   "cell_type": "code",
   "execution_count": 39,
   "metadata": {},
   "outputs": [
    {
     "data": {
      "text/plain": [
       "<tf.Tensor: shape=(1, 3), dtype=float32, numpy=array([[0.0275, 0.0275, 0.0275]], dtype=float32)>"
      ]
     },
     "execution_count": 39,
     "metadata": {},
     "output_type": "execute_result"
    }
   ],
   "source": [
    "x = tf.ones((1, 2))\n",
    "y = model(x)\n",
    "y"
   ]
  },
  {
   "cell_type": "code",
   "execution_count": 40,
   "metadata": {},
   "outputs": [
    {
     "name": "stdout",
     "output_type": "stream",
     "text": [
      "Model: \"sequential_4\"\n",
      "_________________________________________________________________\n",
      "Layer (type)                 Output Shape              Param #   \n",
      "=================================================================\n",
      "parallel_combination_2 (Para multiple                  200       \n",
      "_________________________________________________________________\n",
      "repeat_vector_2 (RepeatVecto multiple                  0         \n",
      "_________________________________________________________________\n",
      "lattice_2 (Lattice)          multiple                  1200      \n",
      "=================================================================\n",
      "Total params: 1,400\n",
      "Trainable params: 1,400\n",
      "Non-trainable params: 0\n",
      "_________________________________________________________________\n"
     ]
    }
   ],
   "source": [
    "model.summary()"
   ]
  },
  {
   "cell_type": "code",
   "execution_count": 41,
   "metadata": {},
   "outputs": [],
   "source": [
    "calibratorw2 = tfl.layers.PWLCalibration(\n",
    "  # Every PWLCalibration layer must have keypoints of piecewise linear\n",
    "  # function specified. Easiest way to specify them is to uniformly cover\n",
    "  # entire input range by using numpy.linspace().\n",
    "  input_keypoints=np.linspace(0, 20,num=100),\n",
    "  units=3,\n",
    "  # You need to ensure that input keypoints have same dtype as layer input.\n",
    "  # You can do it by setting dtype here or by providing keypoints in such\n",
    "  # format which will be converted to deisred tf.dtype by default.\n",
    "  dtype=tf.float32,\n",
    "  # Output range must correspond to expected lattice input range.\n",
    "  output_min=0.0,\n",
    "  output_max=lattice_sizes2[0] - 1.0,\n",
    "  monotonicity='increasing')\n",
    "\n",
    "calibratorw3 = tfl.layers.PWLCalibration(\n",
    "  # Every PWLCalibration layer must have keypoints of piecewise linear\n",
    "  # function specified. Easiest way to specify them is to uniformly cover\n",
    "  # entire input range by using numpy.linspace().\n",
    "  input_keypoints=np.linspace(0, 20,num=100),\n",
    "  units=2,\n",
    "  # You need to ensure that input keypoints have same dtype as layer input.\n",
    "  # You can do it by setting dtype here or by providing keypoints in such\n",
    "  # format which will be converted to deisred tf.dtype by default.\n",
    "  dtype=tf.float32,\n",
    "  # Output range must correspond to expected lattice input range.\n",
    "  output_min=0.0,\n",
    "  output_max=lattice_sizes3[0] - 1.0,\n",
    "  monotonicity='increasing')"
   ]
  },
  {
   "cell_type": "code",
   "execution_count": 42,
   "metadata": {},
   "outputs": [],
   "source": [
    "model = keras.models.Sequential()\n",
    "# We have just 2 layer as far as Sequential model is concerned.\n",
    "# PWLConcatenate layer takes care of grouping calibrators.\n",
    "model.add(combined_calibrators1)\n",
    "model.add(tf.keras.layers.RepeatVector(3))\n",
    "model.add(lattice1)\n",
    "model.add(calibratorw2)\n",
    "model.add(tf.keras.layers.RepeatVector(2))\n",
    "model.add(lattice2)\n",
    "model.add(calibratorw3)\n",
    "model.add(lattice3)\n",
    "model.compile(loss=keras.losses.mean_squared_error,\n",
    "            optimizer=keras.optimizers.Adam(learning_rate=0.001))"
   ]
  },
  {
   "cell_type": "code",
   "execution_count": 43,
   "metadata": {},
   "outputs": [
    {
     "data": {
      "text/plain": [
       "<tf.Tensor: shape=(1, 1), dtype=float32, numpy=array([[0.00687492]], dtype=float32)>"
      ]
     },
     "execution_count": 43,
     "metadata": {},
     "output_type": "execute_result"
    }
   ],
   "source": [
    "x = tf.ones((1, 2))\n",
    "y = model(x)\n",
    "y"
   ]
  },
  {
   "cell_type": "code",
   "execution_count": 44,
   "metadata": {},
   "outputs": [
    {
     "name": "stdout",
     "output_type": "stream",
     "text": [
      "Model: \"sequential_5\"\n",
      "_________________________________________________________________\n",
      "Layer (type)                 Output Shape              Param #   \n",
      "=================================================================\n",
      "parallel_combination_2 (Para multiple                  200       \n",
      "_________________________________________________________________\n",
      "repeat_vector_3 (RepeatVecto multiple                  0         \n",
      "_________________________________________________________________\n",
      "lattice_2 (Lattice)          multiple                  1200      \n",
      "_________________________________________________________________\n",
      "pwl_calibration_8 (PWLCalibr multiple                  300       \n",
      "_________________________________________________________________\n",
      "repeat_vector_4 (RepeatVecto multiple                  0         \n",
      "_________________________________________________________________\n",
      "lattice_3 (Lattice)          multiple                  16000     \n",
      "_________________________________________________________________\n",
      "pwl_calibration_9 (PWLCalibr multiple                  200       \n",
      "_________________________________________________________________\n",
      "lattice_4 (Lattice)          multiple                  400       \n",
      "=================================================================\n",
      "Total params: 18,300\n",
      "Trainable params: 18,300\n",
      "Non-trainable params: 0\n",
      "_________________________________________________________________\n"
     ]
    }
   ],
   "source": [
    "model.summary()"
   ]
  },
  {
   "cell_type": "code",
   "execution_count": 45,
   "metadata": {},
   "outputs": [
    {
     "name": "stdout",
     "output_type": "stream",
     "text": [
      "Train on 6400 samples, validate on 1600 samples\n",
      "Epoch 1/100\n",
      "6400/6400 [==============================] - 7s 1ms/sample - loss: 9739.8751 - val_loss: 9118.8086\n",
      "Epoch 2/100\n",
      "6400/6400 [==============================] - 3s 426us/sample - loss: 9232.5242 - val_loss: 8628.9618\n",
      "Epoch 3/100\n",
      "6400/6400 [==============================] - 3s 419us/sample - loss: 8812.2324 - val_loss: 8275.8331\n",
      "Epoch 4/100\n",
      "6400/6400 [==============================] - 3s 420us/sample - loss: 8407.7253 - val_loss: 7842.4663\n",
      "Epoch 5/100\n",
      "6400/6400 [==============================] - 3s 416us/sample - loss: 8020.8262 - val_loss: 7583.5225\n",
      "Epoch 6/100\n",
      "6400/6400 [==============================] - 3s 423us/sample - loss: 7737.7346 - val_loss: 7226.9945\n",
      "Epoch 7/100\n",
      "6400/6400 [==============================] - 3s 425us/sample - loss: 7326.7924 - val_loss: 6908.3119\n",
      "Epoch 8/100\n",
      "6400/6400 [==============================] - 3s 430us/sample - loss: 7116.8463 - val_loss: 6707.0381\n",
      "Epoch 9/100\n",
      "6400/6400 [==============================] - 3s 439us/sample - loss: 6805.0235 - val_loss: 6276.2820\n",
      "Epoch 10/100\n",
      "6400/6400 [==============================] - 3s 442us/sample - loss: 6481.4633 - val_loss: 6143.1855\n",
      "Epoch 11/100\n",
      "6400/6400 [==============================] - 3s 431us/sample - loss: 6279.6061 - val_loss: 5823.8163\n",
      "Epoch 12/100\n",
      "6400/6400 [==============================] - 3s 428us/sample - loss: 5895.2671 - val_loss: 5554.2923\n",
      "Epoch 13/100\n",
      "6400/6400 [==============================] - 3s 432us/sample - loss: 5709.3664 - val_loss: 5327.0381\n",
      "Epoch 14/100\n",
      "6400/6400 [==============================] - 3s 422us/sample - loss: 5367.5887 - val_loss: 5012.7182\n",
      "Epoch 15/100\n",
      "6400/6400 [==============================] - 3s 416us/sample - loss: 5168.7408 - val_loss: 4834.5961\n",
      "Epoch 16/100\n",
      "6400/6400 [==============================] - 3s 418us/sample - loss: 4874.4947 - val_loss: 4510.2307\n",
      "Epoch 17/100\n",
      "6400/6400 [==============================] - 3s 421us/sample - loss: 4663.8176 - val_loss: 4373.4875\n",
      "Epoch 18/100\n",
      "6400/6400 [==============================] - 3s 412us/sample - loss: 4424.0935 - val_loss: 4049.6152\n",
      "Epoch 19/100\n",
      "6400/6400 [==============================] - 3s 468us/sample - loss: 4195.8456 - val_loss: 3941.9231\n",
      "Epoch 20/100\n",
      "6400/6400 [==============================] - 3s 526us/sample - loss: 4010.8337 - val_loss: 3662.8580\n",
      "Epoch 21/100\n",
      "6400/6400 [==============================] - 3s 430us/sample - loss: 3776.0326 - val_loss: 3554.2054\n",
      "Epoch 22/100\n",
      "6400/6400 [==============================] - 3s 454us/sample - loss: 3639.6771 - val_loss: 3350.1333\n",
      "Epoch 23/100\n",
      "6400/6400 [==============================] - 3s 493us/sample - loss: 3410.5422 - val_loss: 3206.0921\n",
      "Epoch 24/100\n",
      "6400/6400 [==============================] - 3s 439us/sample - loss: 3306.5556 - val_loss: 3077.0883\n",
      "Epoch 25/100\n",
      "6400/6400 [==============================] - 3s 414us/sample - loss: 3115.7629 - val_loss: 2904.4799\n",
      "Epoch 26/100\n",
      "6400/6400 [==============================] - 3s 393us/sample - loss: 3014.9647 - val_loss: 2834.7873\n",
      "Epoch 27/100\n",
      "6400/6400 [==============================] - 3s 413us/sample - loss: 2894.8336 - val_loss: 2659.9828\n",
      "Epoch 28/100\n",
      "6400/6400 [==============================] - 2s 390us/sample - loss: 2755.0751 - val_loss: 2608.6195\n",
      "Epoch 29/100\n",
      "6400/6400 [==============================] - 2s 391us/sample - loss: 2697.0082 - val_loss: 2526.3029\n",
      "Epoch 30/100\n",
      "6400/6400 [==============================] - 3s 446us/sample - loss: 2567.6616 - val_loss: 2406.6139\n",
      "Epoch 31/100\n",
      "6400/6400 [==============================] - 3s 425us/sample - loss: 2500.6111 - val_loss: 2369.5522\n",
      "Epoch 32/100\n",
      "6400/6400 [==============================] - 2s 388us/sample - loss: 2437.0313 - val_loss: 2278.8850\n",
      "Epoch 33/100\n",
      "6400/6400 [==============================] - 3s 430us/sample - loss: 2338.5034 - val_loss: 2224.9029\n",
      "Epoch 34/100\n",
      "6400/6400 [==============================] - 3s 427us/sample - loss: 2306.6935 - val_loss: 2192.3121\n",
      "Epoch 35/100\n",
      "6400/6400 [==============================] - 3s 421us/sample - loss: 2252.8091 - val_loss: 2123.2235\n",
      "Epoch 36/100\n",
      "6400/6400 [==============================] - 3s 476us/sample - loss: 2192.6497 - val_loss: 2101.1639\n",
      "Epoch 37/100\n",
      "6400/6400 [==============================] - 3s 419us/sample - loss: 2177.5319 - val_loss: 2085.4573\n",
      "Epoch 38/100\n",
      "6400/6400 [==============================] - 3s 420us/sample - loss: 2153.2471 - val_loss: 2057.2425\n",
      "Epoch 39/100\n",
      "6400/6400 [==============================] - 3s 421us/sample - loss: 2116.1428 - val_loss: 2029.5878\n",
      "Epoch 40/100\n",
      "6400/6400 [==============================] - 3s 423us/sample - loss: 2100.1277 - val_loss: 2025.3323\n",
      "Epoch 41/100\n",
      "6400/6400 [==============================] - 3s 424us/sample - loss: 2095.4673 - val_loss: 2021.0849\n",
      "Epoch 42/100\n",
      "6400/6400 [==============================] - 3s 418us/sample - loss: 2089.8397 - val_loss: 2015.4881\n",
      "Epoch 43/100\n",
      "6400/6400 [==============================] - 3s 411us/sample - loss: 2081.8774 - val_loss: 2008.0800\n",
      "Epoch 44/100\n",
      "6400/6400 [==============================] - 3s 412us/sample - loss: 2072.0539 - val_loss: 2000.7583\n",
      "Epoch 45/100\n",
      "6400/6400 [==============================] - 3s 422us/sample - loss: 2063.3789 - val_loss: 1996.2297\n",
      "Epoch 46/100\n",
      "6400/6400 [==============================] - 3s 412us/sample - loss: 2062.6863 - val_loss: 1994.0183\n",
      "Epoch 47/100\n",
      "6400/6400 [==============================] - 3s 416us/sample - loss: 2055.7120 - val_loss: 1992.1068\n",
      "Epoch 48/100\n",
      "6400/6400 [==============================] - 3s 415us/sample - loss: 2053.9184 - val_loss: 1990.4662\n",
      "Epoch 49/100\n",
      "6400/6400 [==============================] - 3s 420us/sample - loss: 2052.3965 - val_loss: 1988.9476\n",
      "Epoch 50/100\n",
      "6400/6400 [==============================] - 3s 415us/sample - loss: 2051.5003 - val_loss: 1987.6365\n",
      "Epoch 51/100\n",
      "6400/6400 [==============================] - 3s 415us/sample - loss: 2049.7239 - val_loss: 1986.3712\n",
      "Epoch 52/100\n",
      "6400/6400 [==============================] - 3s 419us/sample - loss: 2048.5765 - val_loss: 1985.2358\n",
      "Epoch 53/100\n",
      "6400/6400 [==============================] - 3s 417us/sample - loss: 2047.2739 - val_loss: 1984.1080\n",
      "Epoch 54/100\n",
      "6400/6400 [==============================] - 3s 417us/sample - loss: 2046.2785 - val_loss: 1983.1499\n",
      "Epoch 55/100\n",
      "6400/6400 [==============================] - 3s 412us/sample - loss: 2045.0903 - val_loss: 1982.2732\n",
      "Epoch 56/100\n",
      "6400/6400 [==============================] - 3s 411us/sample - loss: 2044.6492 - val_loss: 1981.1964\n",
      "Epoch 57/100\n",
      "6400/6400 [==============================] - 3s 416us/sample - loss: 2044.3323 - val_loss: 1980.1934\n",
      "Epoch 58/100\n",
      "6400/6400 [==============================] - 3s 416us/sample - loss: 2042.8777 - val_loss: 1979.2242\n",
      "Epoch 59/100\n",
      "6400/6400 [==============================] - 3s 414us/sample - loss: 2042.1531 - val_loss: 1977.9839\n",
      "Epoch 60/100\n",
      "6400/6400 [==============================] - 3s 417us/sample - loss: 2029.0410 - val_loss: 1888.3909\n",
      "Epoch 61/100\n",
      "6400/6400 [==============================] - 3s 417us/sample - loss: 1918.1322 - val_loss: 1867.1357\n",
      "Epoch 62/100\n",
      "6400/6400 [==============================] - 3s 415us/sample - loss: 1890.8001 - val_loss: 1821.6204\n",
      "Epoch 63/100\n",
      "6400/6400 [==============================] - 3s 422us/sample - loss: 1884.0266 - val_loss: 1819.7166\n",
      "Epoch 64/100\n",
      "6400/6400 [==============================] - 3s 424us/sample - loss: 1887.5792 - val_loss: 1819.5146\n",
      "Epoch 65/100\n",
      "6400/6400 [==============================] - 3s 418us/sample - loss: 1878.9557 - val_loss: 1817.8222\n",
      "Epoch 66/100\n",
      "6400/6400 [==============================] - 3s 412us/sample - loss: 1876.5470 - val_loss: 1815.8936\n",
      "Epoch 67/100\n",
      "6400/6400 [==============================] - 3s 416us/sample - loss: 1875.0356 - val_loss: 1815.8853\n",
      "Epoch 68/100\n",
      "6400/6400 [==============================] - 3s 420us/sample - loss: 1873.5643 - val_loss: 1816.8243\n",
      "Epoch 69/100\n",
      "6400/6400 [==============================] - 3s 417us/sample - loss: 1874.5943 - val_loss: 1813.6428\n",
      "Epoch 70/100\n",
      "6400/6400 [==============================] - 3s 425us/sample - loss: 1875.0799 - val_loss: 1813.4628\n",
      "Epoch 71/100\n",
      "6400/6400 [==============================] - 3s 417us/sample - loss: 1873.2504 - val_loss: 1813.2747\n",
      "Epoch 72/100\n",
      "6400/6400 [==============================] - 3s 419us/sample - loss: 1873.1263 - val_loss: 1812.4063\n",
      "Epoch 73/100\n",
      "6400/6400 [==============================] - 3s 416us/sample - loss: 1873.7155 - val_loss: 1811.5070\n",
      "Epoch 74/100\n",
      "6400/6400 [==============================] - 3s 421us/sample - loss: 1871.7128 - val_loss: 1811.5618\n",
      "Epoch 75/100\n",
      "6400/6400 [==============================] - 3s 425us/sample - loss: 1872.5232 - val_loss: 1811.4290\n",
      "Epoch 76/100\n",
      "6400/6400 [==============================] - 3s 419us/sample - loss: 1873.0399 - val_loss: 1812.3033\n",
      "Epoch 77/100\n",
      "6400/6400 [==============================] - 3s 413us/sample - loss: 1873.0593 - val_loss: 1811.5490\n",
      "Epoch 78/100\n",
      "6400/6400 [==============================] - 3s 412us/sample - loss: 1872.9062 - val_loss: 1811.2704\n",
      "Epoch 79/100\n",
      "6400/6400 [==============================] - 3s 417us/sample - loss: 1872.5137 - val_loss: 1811.7010\n",
      "Epoch 80/100\n",
      "6400/6400 [==============================] - 3s 412us/sample - loss: 1870.3335 - val_loss: 1811.6106\n",
      "Epoch 81/100\n",
      "6400/6400 [==============================] - 3s 412us/sample - loss: 1871.9773 - val_loss: 1811.9129\n",
      "Epoch 82/100\n",
      "6400/6400 [==============================] - 3s 410us/sample - loss: 1870.7612 - val_loss: 1810.9712\n",
      "Epoch 83/100\n",
      "6400/6400 [==============================] - 3s 417us/sample - loss: 1870.6759 - val_loss: 1810.3908\n",
      "Epoch 84/100\n",
      "6400/6400 [==============================] - 3s 413us/sample - loss: 1869.7388 - val_loss: 1811.1615\n",
      "Epoch 85/100\n",
      "6400/6400 [==============================] - 3s 412us/sample - loss: 1871.5762 - val_loss: 1810.7643\n",
      "Epoch 86/100\n",
      "6400/6400 [==============================] - 3s 420us/sample - loss: 1870.3713 - val_loss: 1810.2612\n",
      "Epoch 87/100\n",
      "6400/6400 [==============================] - 3s 419us/sample - loss: 1870.5601 - val_loss: 1810.2999\n",
      "Epoch 88/100\n",
      "6400/6400 [==============================] - 3s 412us/sample - loss: 1871.5428 - val_loss: 1809.3014\n",
      "Epoch 89/100\n",
      "6400/6400 [==============================] - 3s 410us/sample - loss: 1869.5231 - val_loss: 1810.9183\n",
      "Epoch 90/100\n",
      "6400/6400 [==============================] - 3s 415us/sample - loss: 1869.5334 - val_loss: 1810.2398\n",
      "Epoch 91/100\n",
      "6400/6400 [==============================] - 3s 419us/sample - loss: 1870.3819 - val_loss: 1809.1197\n",
      "Epoch 92/100\n",
      "6400/6400 [==============================] - 3s 416us/sample - loss: 1869.0832 - val_loss: 1809.3430\n",
      "Epoch 93/100\n",
      "6400/6400 [==============================] - 3s 421us/sample - loss: 1869.8978 - val_loss: 1808.6321\n",
      "Epoch 94/100\n",
      "6400/6400 [==============================] - 3s 421us/sample - loss: 1868.6122 - val_loss: 1808.5191\n",
      "Epoch 95/100\n",
      "6400/6400 [==============================] - 3s 418us/sample - loss: 1868.8971 - val_loss: 1808.3188\n",
      "Epoch 96/100\n",
      "6400/6400 [==============================] - 3s 423us/sample - loss: 1869.0441 - val_loss: 1808.0630\n",
      "Epoch 97/100\n",
      "6400/6400 [==============================] - 3s 428us/sample - loss: 1869.0300 - val_loss: 1808.0208\n",
      "Epoch 98/100\n",
      "6400/6400 [==============================] - 3s 414us/sample - loss: 1868.3375 - val_loss: 1807.6391\n",
      "Epoch 99/100\n",
      "6400/6400 [==============================] - 3s 412us/sample - loss: 1868.4147 - val_loss: 1807.9578\n",
      "Epoch 100/100\n",
      "6400/6400 [==============================] - 3s 410us/sample - loss: 1867.9981 - val_loss: 1807.9869\n"
     ]
    },
    {
     "data": {
      "text/plain": [
       "<tensorflow.python.keras.callbacks.History at 0x27707032a08>"
      ]
     },
     "execution_count": 45,
     "metadata": {},
     "output_type": "execute_result"
    }
   ],
   "source": [
    "model.fit(train_dataset.to_numpy(), -train_labels.to_numpy(), epochs=100,validation_split=0.2, shuffle=False)"
   ]
  },
  {
   "cell_type": "code",
   "execution_count": 46,
   "metadata": {},
   "outputs": [],
   "source": [
    "lattice_pred = np.zeros_like(ww)\n",
    "for i, wx in enumerate(ws):\n",
    "    for j, ly in enumerate(ls):\n",
    "        obs = np.array([ly, wx])\n",
    "        lattice_pred[j, i] = model.predict_on_batch(obs[None,:])"
   ]
  },
  {
   "cell_type": "code",
   "execution_count": 47,
   "metadata": {},
   "outputs": [
    {
     "data": {
      "text/plain": [
       "array([[18.07493973, 18.07493973, 18.07493973, ..., 54.4478569 ,\n",
       "        54.4478569 , 54.4478569 ],\n",
       "       [18.07493973, 18.07493973, 18.07493973, ..., 55.91042328,\n",
       "        55.91042328, 55.91042328],\n",
       "       [18.07493973, 18.07493973, 18.07493973, ..., 56.94372177,\n",
       "        56.94372177, 56.94372177],\n",
       "       ...,\n",
       "       [18.07493973, 18.07493973, 18.07493973, ..., 99.96323395,\n",
       "        99.96323395, 99.96323395],\n",
       "       [18.07493973, 18.07493973, 18.07493973, ..., 99.96323395,\n",
       "        99.96323395, 99.96323395],\n",
       "       [18.07493973, 18.07493973, 18.07493973, ..., 99.96323395,\n",
       "        99.96323395, 99.96323395]])"
      ]
     },
     "execution_count": 47,
     "metadata": {},
     "output_type": "execute_result"
    }
   ],
   "source": [
    "lattice_pred"
   ]
  },
  {
   "cell_type": "code",
   "execution_count": 48,
   "metadata": {},
   "outputs": [
    {
     "data": {
      "text/plain": [
       "Text(0.5, 1.0, 'Simplest default with labels')"
      ]
     },
     "execution_count": 48,
     "metadata": {},
     "output_type": "execute_result"
    },
    {
     "data": {
      "image/png": "[encoded data removed]",
      "text/plain": [
       "<Figure size 432x288 with 1 Axes>"
      ]
     },
     "metadata": {
      "needs_background": "light"
     },
     "output_type": "display_data"
    }
   ],
   "source": [
    "fig, ax = plt.subplots()\n",
    "CS = ax.contour(ww, ll, lattice_pred)\n",
    "ax.clabel(CS, inline=1, fontsize=10)\n",
    "ax.set_title('Simplest default with labels')"
   ]
  },
  {
   "cell_type": "code",
   "execution_count": 49,
   "metadata": {},
   "outputs": [
    {
     "data": {
      "text/plain": [
       "Text(0.5, 1.0, 'Simplest default with labels')"
      ]
     },
     "execution_count": 49,
     "metadata": {},
     "output_type": "execute_result"
    },
    {
     "data": {
      "image/png": "[encoded data removed]",
      "text/plain": [
       "<Figure size 432x288 with 1 Axes>"
      ]
     },
     "metadata": {
      "needs_background": "light"
     },
     "output_type": "display_data"
    }
   ],
   "source": [
    "fig, ax = plt.subplots()\n",
    "CS = ax.contour(ww, ll, z)\n",
    "ax.clabel(CS, inline=1, fontsize=10)\n",
    "ax.set_title('Simplest default with labels')"
   ]
  },
  {
   "cell_type": "code",
   "execution_count": 50,
   "metadata": {},
   "outputs": [],
   "source": [
    "lattice_pred = model.predict_on_batch(test_dataset.to_numpy())"
   ]
  },
  {
   "cell_type": "code",
   "execution_count": 51,
   "metadata": {},
   "outputs": [
    {
     "data": {
      "text/plain": [
       "<tf.Tensor: shape=(1, 1), dtype=float32, numpy=array([[94.014465]], dtype=float32)>"
      ]
     },
     "execution_count": 51,
     "metadata": {},
     "output_type": "execute_result"
    }
   ],
   "source": [
    "model.predict_on_batch(np.array([2,200])[None,:])"
   ]
  },
  {
   "cell_type": "code",
   "execution_count": 52,
   "metadata": {},
   "outputs": [
    {
     "ename": "NameError",
     "evalue": "name 'yhat' is not defined",
     "output_type": "error",
     "traceback": [
      "\u001b[1;31m---------------------------------------------------------------------------\u001b[0m",
      "\u001b[1;31mNameError\u001b[0m                                 Traceback (most recent call last)",
      "\u001b[1;32m<ipython-input-52-6d09b9be48a2>\u001b[0m in \u001b[0;36m<module>\u001b[1;34m\u001b[0m\n\u001b[1;32m----> 1\u001b[1;33m \u001b[0myhat\u001b[0m\u001b[1;33m.\u001b[0m\u001b[0mnumpy\u001b[0m\u001b[1;33m(\u001b[0m\u001b[1;33m)\u001b[0m\u001b[1;33m.\u001b[0m\u001b[0mflatten\u001b[0m\u001b[1;33m(\u001b[0m\u001b[1;33m)\u001b[0m \u001b[1;33m-\u001b[0m \u001b[0mtest_labels\u001b[0m\u001b[1;33m\u001b[0m\u001b[1;33m\u001b[0m\u001b[0m\n\u001b[0m",
      "\u001b[1;31mNameError\u001b[0m: name 'yhat' is not defined"
     ]
    }
   ],
   "source": [
    "yhat.numpy().flatten() - test_labels"
   ]
  },
  {
   "cell_type": "code",
   "execution_count": null,
   "metadata": {},
   "outputs": [],
   "source": [
    "test_labels"
   ]
  },
  {
   "cell_type": "code",
   "execution_count": null,
   "metadata": {},
   "outputs": [],
   "source": [
    "plt.plot(lattice_pred.numpy().flatten())"
   ]
  },
  {
   "cell_type": "code",
   "execution_count": null,
   "metadata": {},
   "outputs": [],
   "source": []
  }
 ],
 "metadata": {
  "kernelspec": {
   "display_name": "Python 3",
   "language": "python",
   "name": "python3"
  },
  "language_info": {
   "codemirror_mode": {
    "name": "ipython",
    "version": 3
   },
   "file_extension": ".py",
   "mimetype": "text/x-python",
   "name": "python",
   "nbconvert_exporter": "python",
   "pygments_lexer": "ipython3",
   "version": "3.7.7"
  }
 },
 "nbformat": 4,
 "nbformat_minor": 4
}
