{
 "cells": [
  {
   "cell_type": "code",
   "execution_count": 1,
   "id": "35866a50-f23f-459e-b869-ec4861374f38",
   "metadata": {},
   "outputs": [],
   "source": [
    "import sys\n",
    "sys.path.append('..')\n",
    "from aav import AAV, Parameters\n",
    "from oav import OAV"
   ]
  },
  {
   "cell_type": "code",
   "execution_count": 2,
   "id": "54cc3e84-5c29-42c2-97ac-b653cd90ff13",
   "metadata": {},
   "outputs": [],
   "source": [
    "pars = Parameters()\n",
    "pars.c = 1.0\n",
    "pars.rho = 0.15"
   ]
  },
  {
   "cell_type": "code",
   "execution_count": 3,
   "id": "4698bf7c-93ff-473b-9377-9a4df584c90e",
   "metadata": {},
   "outputs": [
    {
     "data": {
      "text/plain": [
       "1.0"
      ]
     },
     "execution_count": 3,
     "metadata": {},
     "output_type": "execute_result"
    }
   ],
   "source": [
    "pars.chat"
   ]
  },
  {
   "cell_type": "code",
   "execution_count": 4,
   "id": "41c3ba2d-5182-4e2f-b363-adee309f2005",
   "metadata": {},
   "outputs": [
    {
     "name": "stdout",
     "output_type": "stream",
     "text": [
      "[INFO] [2021-05-18 11:48:53,958] [AAV] - Instantiated @ AAV\n",
      "[INFO] [2021-05-18 11:48:53,979] [OAV] - Launching the value function procedure.\n",
      "[INFO] [2021-05-18 11:48:53,979] [OAV] - Computing the value function on (0.00, 2.11].\n",
      "[INFO] [2021-05-18 11:48:53,985] [OAV] - Computing the value function on (2.11, 2.34].\n",
      "[INFO] [2021-05-18 11:48:53,986] [OAV] - Computing the value function on (2.34, 2.61].\n",
      "[INFO] [2021-05-18 11:48:53,988] [OAV] - Computing the value function on (2.61, 2.89].\n",
      "[INFO] [2021-05-18 11:48:53,989] [OAV] - Computing the value function on (2.89, 3.22].\n",
      "[INFO] [2021-05-18 11:48:53,991] [OAV] - Computing the value function on (3.22, 3.57].\n",
      "[INFO] [2021-05-18 11:48:53,993] [OAV] - Computing the value function on (3.57, 3.97].\n",
      "[INFO] [2021-05-18 11:48:53,994] [OAV] - Computing the value function on (3.97, 4.41].\n",
      "[INFO] [2021-05-18 11:48:55,564] [OAV] - Computing the value function on (4.41, 4.90].\n",
      "[INFO] [2021-05-18 11:48:55,565] [OAV] - Computing the value function on (4.90, 5.45].\n",
      "[INFO] [2021-05-18 11:48:55,566] [OAV] - Computing the value function on (5.45, 6.05].\n",
      "[INFO] [2021-05-18 11:48:55,567] [OAV] - Computing the value function on (6.05, 6.72].\n",
      "[INFO] [2021-05-18 11:48:57,102] [OAV] - Computing the value function on (6.72, 7.47].\n",
      "[INFO] [2021-05-18 11:48:57,103] [OAV] - Computing the value function on (7.47, 8.30].\n",
      "[INFO] [2021-05-18 11:48:58,974] [OAV] - Computing the value function on (8.30, 9.22].\n",
      "[INFO] [2021-05-18 11:48:58,976] [OAV] - Computing the value function on (9.22, 10.25].\n",
      "[INFO] [2021-05-18 11:49:00,593] [OAV] - Computing the value function on (10.25, 11.39].\n",
      "[INFO] [2021-05-18 11:49:00,594] [OAV] - Computing the value function on (11.39, 12.65].\n",
      "[INFO] [2021-05-18 11:49:02,111] [OAV] - Computing the value function on (12.65, 14.06].\n",
      "[INFO] [2021-05-18 11:49:02,112] [OAV] - Computing the value function on (14.06, 15.62].\n",
      "[INFO] [2021-05-18 11:49:03,537] [OAV] - Computing the value function on (15.62, 17.36].\n",
      "[INFO] [2021-05-18 11:49:05,053] [OAV] - Computing the value function on (17.36, 19.28].\n",
      "[INFO] [2021-05-18 11:49:06,436] [OAV] - Computing the value function on (19.28, 21.43].\n",
      "[INFO] [2021-05-18 11:49:07,796] [OAV] - Computing the value function on (21.43, 23.81].\n",
      "[INFO] [2021-05-18 11:49:09,269] [OAV] - Computing the value function on (23.81, 26.45].\n",
      "[INFO] [2021-05-18 11:49:12,296] [OAV] - Computing the value function on (26.45, 29.39].\n",
      "[INFO] [2021-05-18 11:49:13,642] [OAV] - Computing the value function on (29.39, 32.66].\n",
      "[INFO] [2021-05-18 11:49:16,356] [OAV] - Computing the value function on (32.66, 36.29].\n",
      "[INFO] [2021-05-18 11:49:17,636] [OAV] - Computing the value function on (36.29, 40.32].\n",
      "[INFO] [2021-05-18 11:49:20,130] [OAV] - Computing the value function on (40.32, 44.80].\n",
      "[INFO] [2021-05-18 11:49:23,944] [OAV] - Computing the value function on (44.80, 49.78].\n",
      "[INFO] [2021-05-18 11:49:26,597] [OAV] - Computing the value function on (49.78, 55.31].\n",
      "[INFO] [2021-05-18 11:49:30,442] [OAV] - Computing the value function on (55.31, 61.45].\n",
      "[INFO] [2021-05-18 11:49:34,258] [OAV] - Computing the value function on (61.45, 68.28].\n",
      "[INFO] [2021-05-18 11:49:37,888] [OAV] - Computing the value function on (68.28, 75.87].\n",
      "[INFO] [2021-05-18 11:49:42,465] [OAV] - Computing the value function on (75.87, 84.30].\n",
      "[INFO] [2021-05-18 11:49:46,841] [OAV] - Computing the value function on (84.30, 93.66].\n",
      "[INFO] [2021-05-18 11:49:52,087] [OAV] - Computing the value function on (93.66, 104.07].\n",
      "[INFO] [2021-05-18 11:49:57,297] [OAV] - Computing the value function on (104.07, 115.64].\n",
      "[INFO] [2021-05-18 11:50:03,540] [OAV] - Computing the value function on (115.64, 128.48].\n",
      "[INFO] [2021-05-18 11:50:09,363] [OAV] - Computing the value function on (128.48, 142.76].\n",
      "[INFO] [2021-05-18 11:50:16,002] [OAV] - Computing the value function on (142.76, 158.62].\n",
      "[INFO] [2021-05-18 11:50:23,142] [OAV] - Computing the value function on (158.62, 176.25].\n",
      "[INFO] [2021-05-18 11:50:30,882] [OAV] - Computing the value function on (176.25, 195.83].\n",
      "[INFO] [2021-05-18 11:50:38,217] [OAV] - Computing the value function on (195.83, 217.59].\n"
     ]
    }
   ],
   "source": [
    "oav = OAV(pars, balance=200.0, lmax=22., nx=100, ny=100)\n",
    "oav.solve_v()"
   ]
  },
  {
   "cell_type": "code",
   "execution_count": 6,
   "id": "0ba7cd75-8e1c-4b06-88e3-1f0d512f0f71",
   "metadata": {},
   "outputs": [
    {
     "data": {
      "image/png": "[encoded data removed]",
      "text/plain": [
       "<Figure size 432x288 with 1 Axes>"
      ]
     },
     "metadata": {
      "needs_background": "light"
     },
     "output_type": "display_data"
    }
   ],
   "source": [
    "ov_pl = oav.plot_statespace()"
   ]
  },
  {
   "cell_type": "code",
   "execution_count": null,
   "id": "f5cd8851-6d62-4165-a57f-ec6417c38450",
   "metadata": {},
   "outputs": [],
   "source": []
  }
 ],
 "metadata": {
  "kernelspec": {
   "display_name": "Python 3",
   "language": "python",
   "name": "python3"
  },
  "language_info": {
   "codemirror_mode": {
    "name": "ipython",
    "version": 3
   },
   "file_extension": ".py",
   "mimetype": "text/x-python",
   "name": "python",
   "nbconvert_exporter": "python",
   "pygments_lexer": "ipython3",
   "version": "3.8.7"
  }
 },
 "nbformat": 4,
 "nbformat_minor": 5
}
