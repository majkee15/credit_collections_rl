{
 "cells": [
  {
   "cell_type": "code",
   "execution_count": 1,
   "metadata": {},
   "outputs": [],
   "source": [
    "import numpy as np\n",
    "\n",
    "import sys\n",
    "import os \n",
    "sys.path.append('..')\n",
    "sys.path.append('../..')\n",
    "sys.path.append('../../..')\n",
    "\n",
    "\n",
    "import matplotlib.pyplot as plt\n",
    "import seaborn as sns\n",
    "from learning.collections_env.collections_env import CollectionsEnv\n",
    "from learning.utils import misc\n",
    "from learning.utils.wrappers import DiscretizedActionWrapper, StateNormalization, SplineObservationWrapper\n",
    "from learning.policies.dqn import DQNAgent, DefaultConfig\n",
    "\n",
    "from dcc import Parameters, AAV, OAV\n",
    "\n",
    "def construct_paths(name, log_num):\n",
    "    log_path = os.path.join(misc.RESOURCE_ROOT, 'models', name)\n",
    "    logs = os.listdir(log_path)\n",
    "    checkpoints_path = os.path.join(misc.RESOURCE_ROOT, 'models', name, logs[log_num], 'checkpoints')\n",
    "    checkpoints = os.listdir(checkpoints_path)\n",
    "    # print(f\"Checkpoints: {checkpoints}\")\n",
    "    models = os.listdir(os.path.join(misc.RESOURCE_ROOT, 'models', name, logs[log_num]))\n",
    "    model_path = os.path.join(misc.RESOURCE_ROOT, 'models', name, logs[log_num])\n",
    "    env_path =  os.path.join(misc.RESOURCE_ROOT, 'models', name, logs[log_num], 'env.pkl')\n",
    "    try:\n",
    "        buffer_path = os.path.join(misc.RESOURCE_ROOT, 'models', name, logs[log_num], 'buffer.pkl')\n",
    "    except:\n",
    "        print('No buffer found.')\n",
    "\n",
    "#     with open(buffer_path,'rb') as f:\n",
    "#         buffer = pickle.load(f)\n",
    "    return model_path\n",
    "\n",
    "# LOADING\n",
    "\n",
    "def load_agent(name, lognumber=0):\n",
    "    log_path = os.path.join(misc.RESOURCE_ROOT, 'models', name)\n",
    "    logs = os.listdir(log_path)\n",
    "    print(f\"Logs available: {logs}\")\n",
    "    model_path = construct_paths(name, lognumber)\n",
    "    os.listdir(model_path)\n",
    "    agent = DQNAgent.load(model_path)\n",
    "    agent.main_net.compile(loss='MSE')\n",
    "    return agent\n",
    "\n",
    "def load_agent_from_path(model_path):\n",
    "    agent = DQNAgent.load(model_path)\n",
    "    agent.main_net.compile(loss='MSE')\n",
    "    return agent"
   ]
  },
  {
   "cell_type": "code",
   "execution_count": 2,
   "metadata": {},
   "outputs": [
    {
     "name": "stdout",
     "output_type": "stream",
     "text": [
      "Logs available: ['20201215-215946', '20201215-215951']\n",
      "[INFO] [2021-02-12 11:25:55,842] [C:\\Projects\\credit_collections_rl\\learning\\resources\\models\\Vanilla4ActionsSplines50K\\20201215-215946] - Instantiated class DQNAgent\n",
      "[WARNING] [2021-02-12 11:25:57,253] [tensorflow] - No training configuration found in the save file, so the model was *not* compiled. Compile it manually.\n",
      "[WARNING] [2021-02-12 11:25:57,265] [tensorflow] - No training configuration found in the save file, so the model was *not* compiled. Compile it manually.\n"
     ]
    }
   ],
   "source": [
    "agent = load_agent(\"Vanilla4ActionsSplines50K\", 0)"
   ]
  },
  {
   "cell_type": "markdown",
   "metadata": {},
   "source": [
    "The saved environments are <SplineObservationWrapper<DiscretizedActionWrapper<CollectionsEnv instance>>>, the inheritance somehow blocks the state reset"
   ]
  },
  {
   "cell_type": "code",
   "execution_count": 3,
   "metadata": {},
   "outputs": [],
   "source": [
    "def reinitialize_env(env_repl, shaping='discrete'):\n",
    "    w0 = env_repl.w0\n",
    "    params = Parameters()\n",
    "    starting_state = np.array([1.0, w0], dtype='float')\n",
    "    return CollectionsEnv(params=params, w0 = w0, reward_shaping=shaping, randomize_start=False, starting_state=starting_state)"
   ]
  },
  {
   "cell_type": "code",
   "execution_count": 7,
   "metadata": {},
   "outputs": [
    {
     "name": "stderr",
     "output_type": "stream",
     "text": [
      "c:\\users\\markm\\.conda\\envs\\tf2-gpu\\lib\\site-packages\\gym\\logger.py:30: UserWarning: \u001b[33mWARN: Box bound precision lowered by casting to float32\u001b[0m\n",
      "  warnings.warn(colorize('%s: %s'%('WARN', msg % args), 'yellow'))\n"
     ]
    }
   ],
   "source": [
    "env_repl = reinitialize_env(agent.env)"
   ]
  },
  {
   "cell_type": "code",
   "execution_count": 122,
   "metadata": {},
   "outputs": [],
   "source": [
    "import dask\n",
    "from copy import deepcopy\n",
    "\n",
    "@dask.delayed\n",
    "def single_value_parallel(env, state, policy=None):\n",
    "    env = deepcopy(env)\n",
    "    ob = env.reset(state)\n",
    "    done = False\n",
    "    reward = 0.\n",
    "    df = np.exp(-env.params.rho * env.dt)\n",
    "    while not done:\n",
    "        # a, q = self.get_action(ob, epsilon=0.0)\n",
    "        new_ob, r, done, _ = env.step(0)\n",
    "        # self.env.render()\n",
    "        reward += r * np.power(df, env.current_step) \n",
    "        ob = new_ob\n",
    "    return reward\n",
    "\n",
    "def mc_price_parallel(env, state, n_iter=1000):\n",
    "    values = []\n",
    "    for i in range(n_iter):\n",
    "        values.append(single_value_parallel(env, state, policy=None))\n",
    "    return dask.compute(values)\n",
    "    "
   ]
  },
  {
   "cell_type": "code",
   "execution_count": 124,
   "metadata": {},
   "outputs": [],
   "source": [
    "start_state=np.array([1.0, 200.0])\n",
    "res = mc_price_parallel(env_repl, start_state, n_iter=1000)"
   ]
  },
  {
   "cell_type": "code",
   "execution_count": 130,
   "metadata": {},
   "outputs": [
    {
     "name": "stdout",
     "output_type": "stream",
     "text": [
      "6.48 s ± 229 ms per loop (mean ± std. dev. of 7 runs, 1 loop each)\n"
     ]
    }
   ],
   "source": [
    "%%timeit\n",
    "res = mc_price_parallel(env_repl, start_state, n_iter=1000)"
   ]
  },
  {
   "cell_type": "code",
   "execution_count": 125,
   "metadata": {},
   "outputs": [
    {
     "data": {
      "text/plain": [
       "144.54787431979744"
      ]
     },
     "execution_count": 125,
     "metadata": {},
     "output_type": "execute_result"
    }
   ],
   "source": [
    "np.mean(res)"
   ]
  },
  {
   "cell_type": "code",
   "execution_count": 127,
   "metadata": {},
   "outputs": [],
   "source": [
    "def single_value(env, state, policy=None, n_iter=10000):\n",
    "    '''\n",
    "    Parameters:\n",
    "                env: collections_environment instance\n",
    "                state : np.ndarray\n",
    "    '''\n",
    "    reward_history = []\n",
    "#     steps = []\n",
    "#     lams = []\n",
    "#     bals = []\n",
    "    if policy is None:\n",
    "        a = 0.0\n",
    "    df = np.exp(-env.params.rho * env.dt)\n",
    "    for i in range(n_iter):\n",
    "        ob = env.reset(state)\n",
    "        done = False\n",
    "        reward = 0.\n",
    "        while not done:\n",
    "            # a, q = self.get_action(ob, epsilon=0.0)\n",
    "            new_ob, r, done, _ = env.step(a)\n",
    "            # self.env.render()\n",
    "            reward += r * np.power(df, env.current_step) \n",
    "            ob = new_ob\n",
    "#             lams.append(env.current_state[0])\n",
    "#             bals.append(env.current_state[1])\n",
    "#             steps.append(env.current_step)\n",
    "        reward_history.append(reward)\n",
    "    return reward_history"
   ]
  },
  {
   "cell_type": "code",
   "execution_count": 113,
   "metadata": {},
   "outputs": [
    {
     "data": {
      "text/plain": [
       "0.997004495503373"
      ]
     },
     "execution_count": 113,
     "metadata": {},
     "output_type": "execute_result"
    }
   ],
   "source": [
    "np.exp(-env_repl.params.rho * env_repl.dt)"
   ]
  },
  {
   "cell_type": "code",
   "execution_count": 131,
   "metadata": {},
   "outputs": [
    {
     "name": "stdout",
     "output_type": "stream",
     "text": [
      "5.39 s ± 169 ms per loop (mean ± std. dev. of 7 runs, 1 loop each)\n"
     ]
    }
   ],
   "source": [
    "%%timeit\n",
    "re = single_value(env_repl, state=np.array([1.0, 200.0]), n_iter=1000)"
   ]
  },
  {
   "cell_type": "code",
   "execution_count": 115,
   "metadata": {},
   "outputs": [],
   "source": [
    "vals, steps, lams, bals = single_value(env_repl, state=np.array([1.0, 200.0]), n_iter=1000)"
   ]
  },
  {
   "cell_type": "code",
   "execution_count": 116,
   "metadata": {},
   "outputs": [
    {
     "data": {
      "text/plain": [
       "150.18287180257136"
      ]
     },
     "execution_count": 116,
     "metadata": {},
     "output_type": "execute_result"
    }
   ],
   "source": [
    "np.mean(vals)"
   ]
  },
  {
   "cell_type": "code",
   "execution_count": 38,
   "metadata": {},
   "outputs": [
    {
     "data": {
      "text/plain": [
       "[<matplotlib.lines.Line2D at 0x1e0b434bb88>]"
      ]
     },
     "execution_count": 38,
     "metadata": {},
     "output_type": "execute_result"
    },
    {
     "data": {
      "image/png": "[encoded data removed]",
      "text/plain": [
       "<Figure size 432x288 with 1 Axes>"
      ]
     },
     "metadata": {
      "needs_background": "light"
     },
     "output_type": "display_data"
    }
   ],
   "source": [
    "plt.plot(lams)"
   ]
  },
  {
   "cell_type": "code",
   "execution_count": 15,
   "metadata": {},
   "outputs": [
    {
     "data": {
      "text/plain": [
       "[<matplotlib.lines.Line2D at 0x1e0b430a388>]"
      ]
     },
     "execution_count": 15,
     "metadata": {},
     "output_type": "execute_result"
    },
    {
     "data": {
      "image/png": "[encoded data removed]",
      "text/plain": [
       "<Figure size 432x288 with 1 Axes>"
      ]
     },
     "metadata": {
      "needs_background": "light"
     },
     "output_type": "display_data"
    }
   ],
   "source": [
    "plt.plot(bals, lams)"
   ]
  },
  {
   "cell_type": "code",
   "execution_count": 197,
   "metadata": {},
   "outputs": [
    {
     "data": {
      "text/plain": [
       "array([ 489.1 ,  556.25, 1135.5 , 1808.2 , 2320.7 ])"
      ]
     },
     "execution_count": 197,
     "metadata": {},
     "output_type": "execute_result"
    }
   ],
   "source": [
    "np.array(steps) * 0.05"
   ]
  },
  {
   "cell_type": "code",
   "execution_count": 174,
   "metadata": {},
   "outputs": [
    {
     "data": {
      "text/plain": [
       "2.0851522380983707e-10"
      ]
     },
     "execution_count": 174,
     "metadata": {},
     "output_type": "execute_result"
    }
   ],
   "source": [
    "np.sum(vals)"
   ]
  },
  {
   "cell_type": "code",
   "execution_count": 42,
   "metadata": {},
   "outputs": [
    {
     "name": "stdout",
     "output_type": "stream",
     "text": [
      "[INFO] [2021-02-12 11:28:51,983] [AAV] - Instantiated @ AAV\n"
     ]
    }
   ],
   "source": [
    "aav= AAV(Parameters())"
   ]
  },
  {
   "cell_type": "code",
   "execution_count": 43,
   "metadata": {},
   "outputs": [
    {
     "data": {
      "text/plain": [
       "0.06"
      ]
     },
     "execution_count": 43,
     "metadata": {},
     "output_type": "execute_result"
    }
   ],
   "source": [
    "Parameters().rho"
   ]
  },
  {
   "cell_type": "code",
   "execution_count": 44,
   "metadata": {},
   "outputs": [
    {
     "data": {
      "text/plain": [
       "-149.91674082730185"
      ]
     },
     "execution_count": 44,
     "metadata": {},
     "output_type": "execute_result"
    }
   ],
   "source": [
    "aav.u(1, 200)"
   ]
  },
  {
   "cell_type": "code",
   "execution_count": 71,
   "metadata": {},
   "outputs": [
    {
     "data": {
      "text/plain": [
       "array([ 1.5, 20. ])"
      ]
     },
     "execution_count": 71,
     "metadata": {},
     "output_type": "execute_result"
    }
   ],
   "source": [
    "env_repl.reset(np.array([1.5, 20]))"
   ]
  },
  {
   "cell_type": "code",
   "execution_count": 72,
   "metadata": {},
   "outputs": [
    {
     "data": {
      "text/plain": [
       "array([ 1.5, 20. ])"
      ]
     },
     "execution_count": 72,
     "metadata": {},
     "output_type": "execute_result"
    }
   ],
   "source": [
    "env_repl.current_state"
   ]
  },
  {
   "cell_type": "code",
   "execution_count": 73,
   "metadata": {},
   "outputs": [
    {
     "data": {
      "text/plain": [
       "(array([ 1.45184758, 20.        ]), 0.0, False, None)"
      ]
     },
     "execution_count": 73,
     "metadata": {},
     "output_type": "execute_result"
    }
   ],
   "source": [
    "env_repl.step(0)"
   ]
  },
  {
   "cell_type": "code",
   "execution_count": null,
   "metadata": {},
   "outputs": [],
   "source": []
  }
 ],
 "metadata": {
  "kernelspec": {
   "display_name": "Python 3",
   "language": "python",
   "name": "python3"
  },
  "language_info": {
   "codemirror_mode": {
    "name": "ipython",
    "version": 3
   },
   "file_extension": ".py",
   "mimetype": "text/x-python",
   "name": "python",
   "nbconvert_exporter": "python",
   "pygments_lexer": "ipython3",
   "version": "3.7.9"
  }
 },
 "nbformat": 4,
 "nbformat_minor": 4
}
