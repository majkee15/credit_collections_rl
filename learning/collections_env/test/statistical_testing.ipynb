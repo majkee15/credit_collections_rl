{
 "cells": [
  {
   "cell_type": "code",
   "execution_count": 34,
   "metadata": {},
   "outputs": [],
   "source": [
    "import numpy as np\n",
    "import sys\n",
    "import os \n",
    "import matplotlib.pyplot as plt\n",
    "\n",
    "sys.path.append(r\"..\")\n",
    "sys.path.append(r\"../..\")\n",
    "sys.path.append(r\"../../..\")\n",
    "\n",
    "from learning.collections_env import CollectionsEnv\n",
    "from dcc import Parameters, AAV\n",
    "import utils"
   ]
  },
  {
   "cell_type": "code",
   "execution_count": 3,
   "metadata": {},
   "outputs": [
    {
     "name": "stderr",
     "output_type": "stream",
     "text": [
      "c:\\users\\markm\\.conda\\envs\\tf2-gpu\\lib\\site-packages\\gym\\logger.py:30: UserWarning: \u001b[33mWARN: Box bound precision lowered by casting to float32\u001b[0m\n",
      "  warnings.warn(colorize('%s: %s'%('WARN', msg % args), 'yellow'))\n"
     ]
    }
   ],
   "source": [
    "p = Parameters()\n",
    "w0 = 200\n",
    "\n",
    "col_env = CollectionsEnv(params=p)"
   ]
  },
  {
   "cell_type": "markdown",
   "metadata": {},
   "source": [
    "First lets check whether the process forms a HP"
   ]
  },
  {
   "cell_type": "code",
   "execution_count": 4,
   "metadata": {},
   "outputs": [],
   "source": [
    "def get_arrivals(env, T, policy=None):\n",
    "    env.reset(np.array([1.0, 100.]))\n",
    "    if policy is None:\n",
    "        a = 0.0\n",
    "    \n",
    "    time = 0.0\n",
    "    while time<T:\n",
    "        nextst, rew, done, _ = env.step(a)\n",
    "        time += env.dt\n",
    "    return env"
   ]
  },
  {
   "cell_type": "code",
   "execution_count": 5,
   "metadata": {},
   "outputs": [
    {
     "data": {
      "text/plain": [
       "<learning.collections_env.collections_env.CollectionsEnv at 0x2149d913408>"
      ]
     },
     "execution_count": 5,
     "metadata": {},
     "output_type": "execute_result"
    }
   ],
   "source": [
    "T = 10000\n",
    "get_arrivals(col_env, T)"
   ]
  },
  {
   "cell_type": "code",
   "execution_count": 6,
   "metadata": {},
   "outputs": [
    {
     "name": "stdout",
     "output_type": "stream",
     "text": [
      "Number of arrivals: 1728\n"
     ]
    }
   ],
   "source": [
    "arrivals = col_env.arrivals\n",
    "reps = col_env.repayments\n",
    "print(f\"Number of arrivals: {len(arrivals)}\")"
   ]
  },
  {
   "cell_type": "code",
   "execution_count": 7,
   "metadata": {},
   "outputs": [
    {
     "name": "stdout",
     "output_type": "stream",
     "text": [
      "P-value: 0.36110882337357425\n"
     ]
    },
    {
     "data": {
      "text/plain": [
       "0.36110882337357425"
      ]
     },
     "execution_count": 7,
     "metadata": {},
     "output_type": "execute_result"
    },
    {
     "data": {
      "image/png": "[encoded data removed]",
      "text/plain": [
       "<Figure size 432x288 with 1 Axes>"
      ]
     },
     "metadata": {
      "needs_background": "light"
     },
     "output_type": "display_data"
    }
   ],
   "source": [
    "utils.modelcheck(np.array(arrivals), np.array(reps), p, verbose=True)"
   ]
  },
  {
   "cell_type": "markdown",
   "metadata": {},
   "source": [
    "Lets time the step function"
   ]
  },
  {
   "cell_type": "code",
   "execution_count": 8,
   "metadata": {},
   "outputs": [
    {
     "name": "stdout",
     "output_type": "stream",
     "text": [
      "6.77 µs ± 118 ns per loop (mean ± std. dev. of 7 runs, 100000 loops each)\n"
     ]
    }
   ],
   "source": [
    "%%timeit\n",
    "col_env.step(0)"
   ]
  },
  {
   "cell_type": "code",
   "execution_count": 9,
   "metadata": {},
   "outputs": [
    {
     "name": "stdout",
     "output_type": "stream",
     "text": [
      "4.96 µs ± 36.6 ns per loop (mean ± std. dev. of 7 runs, 100000 loops each)\n"
     ]
    }
   ],
   "source": [
    "%%timeit\n",
    "col_env.reset(np.array([1.0, 200.]))"
   ]
  },
  {
   "cell_type": "markdown",
   "metadata": {},
   "source": [
    "This is super fast, we probably don't need anything more fancy than that"
   ]
  },
  {
   "cell_type": "markdown",
   "metadata": {},
   "source": [
    "Value Of an account:"
   ]
  },
  {
   "cell_type": "code",
   "execution_count": 388,
   "metadata": {},
   "outputs": [
    {
     "name": "stdout",
     "output_type": "stream",
     "text": [
      "[INFO] [2021-02-17 20:40:17,599] [AAV] - Instantiated @ AAV\n"
     ]
    },
    {
     "data": {
      "text/plain": [
       "140.35357428572743"
      ]
     },
     "execution_count": 388,
     "metadata": {},
     "output_type": "execute_result"
    }
   ],
   "source": [
    "s0 = np.array([0.75, 200.])\n",
    "aav = AAV(p)\n",
    "-aav.u(s0[0], s0[1])"
   ]
  },
  {
   "cell_type": "code",
   "execution_count": 389,
   "metadata": {},
   "outputs": [],
   "source": [
    "def single_value(env, state, policy=None, n_iter=10000):\n",
    "    '''\n",
    "    Run the environment multiple times\n",
    "    Parameters:\n",
    "                env: collections_environment instance\n",
    "                state : np.ndarray\n",
    "    '''\n",
    "    reward_history = []\n",
    "    if policy is None:\n",
    "        def policy(state, *args, **kwargs):\n",
    "            return 0.0, None\n",
    "    df = np.exp(-env.params.rho * env.dt)\n",
    "    for i in range(n_iter):\n",
    "        ob = env.reset(state)\n",
    "        done = False\n",
    "        reward = 0.\n",
    "        while not done:\n",
    "            a, q = policy(ob, epsilon=0.0)\n",
    "            new_ob, r, done, _ = env.step(a)\n",
    "            # self.env.render()\n",
    "            reward += r * np.power(df, env.current_step) \n",
    "            ob = new_ob\n",
    "        reward_history.append(reward)\n",
    "    return reward_history"
   ]
  },
  {
   "cell_type": "code",
   "execution_count": 402,
   "metadata": {},
   "outputs": [],
   "source": [
    "vals = single_value(col_env, s0, n_iter=10000)"
   ]
  },
  {
   "cell_type": "code",
   "execution_count": 403,
   "metadata": {},
   "outputs": [
    {
     "data": {
      "text/plain": [
       "[<matplotlib.lines.Line2D at 0x214aa4813c8>]"
      ]
     },
     "execution_count": 403,
     "metadata": {},
     "output_type": "execute_result"
    },
    {
     "data": {
      "image/png": "[encoded data removed]",
      "text/plain": [
       "<Figure size 432x288 with 1 Axes>"
      ]
     },
     "metadata": {
      "needs_background": "light"
     },
     "output_type": "display_data"
    }
   ],
   "source": [
    "plt.plot(vals)"
   ]
  },
  {
   "cell_type": "code",
   "execution_count": 404,
   "metadata": {},
   "outputs": [
    {
     "data": {
      "text/plain": [
       "138.48375487971515"
      ]
     },
     "execution_count": 404,
     "metadata": {},
     "output_type": "execute_result"
    }
   ],
   "source": [
    "np.mean(vals)"
   ]
  },
  {
   "cell_type": "code",
   "execution_count": 405,
   "metadata": {},
   "outputs": [
    {
     "name": "stdout",
     "output_type": "stream",
     "text": [
      "58 s ± 317 ms per loop (mean ± std. dev. of 7 runs, 1 loop each)\n"
     ]
    }
   ],
   "source": [
    "%%timeit\n",
    "single_value(col_env, s0, n_iter=10000)"
   ]
  },
  {
   "cell_type": "code",
   "execution_count": 272,
   "metadata": {},
   "outputs": [
    {
     "name": "stdout",
     "output_type": "stream",
     "text": [
      " "
     ]
    },
    {
     "data": {
      "text/plain": [
       "         1620499 function calls in 3.993 seconds\n",
       "\n",
       "   Ordered by: internal time\n",
       "\n",
       "   ncalls  tottime  percall  cumtime  percall filename:lineno(function)\n",
       "   396700    1.482    0.000    2.812    0.000 collections_env.py:118(step)\n",
       "        1    1.150    1.150    3.993    3.993 <ipython-input-225-3adbcdb21dff>:1(single_value)\n",
       "   396700    0.750    0.000    0.750    0.000 collections_env.py:113(intensity_integral)\n",
       "   390961    0.528    0.000    0.528    0.000 collections_env.py:159(drift)\n",
       "     5739    0.029    0.000    0.029    0.000 {method 'uniform' of 'numpy.random.mtrand.RandomState' objects}\n",
       "   396700    0.024    0.000    0.024    0.000 <ipython-input-225-3adbcdb21dff>:10(policy)\n",
       "     6739    0.018    0.000    0.018    0.000 {method 'exponential' of 'numpy.random.mtrand.RandomState' objects}\n",
       "     5739    0.004    0.000    0.035    0.000 repayment_distribution.py:23(draw)\n",
       "     1000    0.002    0.000    0.007    0.000 collections_env.py:81(reset)\n",
       "     5739    0.002    0.000    0.031    0.000 aav.py:182(sample_repayment)\n",
       "     1000    0.002    0.000    0.002    0.000 {method 'copy' of 'numpy.ndarray' objects}\n",
       "    12478    0.001    0.000    0.001    0.000 {method 'append' of 'list' objects}\n",
       "     1000    0.000    0.000    0.000    0.000 {built-in method builtins.isinstance}\n",
       "        1    0.000    0.000    3.993    3.993 <string>:1(<module>)\n",
       "        1    0.000    0.000    3.993    3.993 {built-in method builtins.exec}\n",
       "        1    0.000    0.000    0.000    0.000 {method 'disable' of '_lsprof.Profiler' objects}"
      ]
     },
     "metadata": {},
     "output_type": "display_data"
    }
   ],
   "source": [
    "# %load_ext line_profiler\n",
    "%prun single_value(col_env, s0, n_iter=1000)"
   ]
  },
  {
   "cell_type": "code",
   "execution_count": 273,
   "metadata": {},
   "outputs": [
    {
     "data": {
      "text/plain": [
       "Timer unit: 1e-07 s\n",
       "\n",
       "Total time: 7.06956 s\n",
       "File: <ipython-input-225-3adbcdb21dff>\n",
       "Function: single_value at line 1\n",
       "\n",
       "Line #      Hits         Time  Per Hit   % Time  Line Contents\n",
       "==============================================================\n",
       "     1                                           def single_value(env, state, policy=None, n_iter=10000):\n",
       "     2                                               '''\n",
       "     3                                               Run the environment multiple times\n",
       "     4                                               Parameters:\n",
       "     5                                                           env: collections_environment instance\n",
       "     6                                                           state : np.ndarray\n",
       "     7                                               '''\n",
       "     8         1         16.0     16.0      0.0      reward_history = []\n",
       "     9         1          9.0      9.0      0.0      if policy is None:\n",
       "    10         1          8.0      8.0      0.0          def policy(state, *args, **kwargs):\n",
       "    11                                                       return 0.0, None\n",
       "    12         1        136.0    136.0      0.0      df = np.exp(-env.params.rho * env.dt)\n",
       "    13      1001       7018.0      7.0      0.0      for i in range(n_iter):\n",
       "    14      1000      98847.0     98.8      0.1          ob = env.reset(state)\n",
       "    15      1000       6738.0      6.7      0.0          done = False\n",
       "    16      1000       5995.0      6.0      0.0          reward = 0.\n",
       "    17    382788    2296302.0      6.0      3.2          while not done:\n",
       "    18    381788    4141329.0     10.8      5.9              a, q = policy(ob, epsilon=0.0)\n",
       "    19    381788   49613794.0    130.0     70.2              new_ob, r, done, _ = env.step(a)\n",
       "    20                                                       # self.env.render()\n",
       "    21    381788   12046187.0     31.6     17.0              reward += r * np.power(df, env.current_step) \n",
       "    22    381788    2470627.0      6.5      3.5              ob = new_ob\n",
       "    23      1000       8561.0      8.6      0.0          reward_history.append(reward)\n",
       "    24         1          6.0      6.0      0.0      return reward_history"
      ]
     },
     "metadata": {},
     "output_type": "display_data"
    }
   ],
   "source": [
    "%lprun -f single_value single_value(col_env, s0, n_iter=1000)"
   ]
  },
  {
   "cell_type": "markdown",
   "metadata": {},
   "source": [
    "Let's paralelize this"
   ]
  },
  {
   "cell_type": "code",
   "execution_count": 436,
   "metadata": {},
   "outputs": [],
   "source": [
    "import joblib\n",
    "from copy import deepcopy\n",
    "import dask\n",
    "\n",
    "# @dask.delayed\n",
    "def single_val_par(env, policy, state):\n",
    "    \n",
    "    env.reset(state)\n",
    "    df = np.exp(-env.params.rho * env.dt)\n",
    "    ob = env.current_state\n",
    "    \n",
    "    if policy is None:\n",
    "        def policy(state, *args, **kwargs):\n",
    "            return 0, 0\n",
    "        \n",
    "    done = False\n",
    "    reward = 0.0\n",
    "    \n",
    "    while not done:\n",
    "        \n",
    "        a, q = policy(ob, epsilon=0.0)\n",
    "        new_ob, r, done, _ = env.step(a)\n",
    "        reward += r * np.power(df, env.current_step) \n",
    "        ob = new_ob\n",
    "        \n",
    "    return reward\n",
    "\n",
    "def single_value_parallel(envi, state, policy=None, n_iter=10000):\n",
    "    '''\n",
    "    Run the environment multiple times\n",
    "    Parameters:\n",
    "                env: collections_environment instance\n",
    "                state : np.ndarray\n",
    "    '''\n",
    "    # reward_history = np.zeros(n_iter, dtype='float32')\n",
    "    rews = []\n",
    "    envi.reset(state)\n",
    "    with joblib.parallel_backend(n_jobs=10, backend='loky'):\n",
    "        rews = joblib.Parallel()(joblib.delayed(single_val_par)(deepcopy(envi), policy, state) for _ in range(n_iter))\n",
    "#     for i in range(n_iter):\n",
    "#         rews.append(single_val_par(deepcopy(envi), policy, state))\n",
    "#     for i in range(n_iter):\n",
    "#         envi.reset(state)\n",
    "#         reward_history[i] = single_val_par(envi, policy)\n",
    "\n",
    "    return dask.compute(rews)"
   ]
  },
  {
   "cell_type": "code",
   "execution_count": 437,
   "metadata": {},
   "outputs": [
    {
     "data": {
      "text/plain": [
       "193.57304553841894"
      ]
     },
     "execution_count": 437,
     "metadata": {},
     "output_type": "execute_result"
    }
   ],
   "source": [
    "col_env.reset(np.array([1.0, 100.]))\n",
    "single_val_par(col_env, None, s0)"
   ]
  },
  {
   "cell_type": "code",
   "execution_count": 438,
   "metadata": {},
   "outputs": [],
   "source": [
    "vals = single_value_parallel(col_env, s0, policy=None, n_iter=10000)"
   ]
  },
  {
   "cell_type": "code",
   "execution_count": 439,
   "metadata": {},
   "outputs": [],
   "source": [
    "# plt.plot(vals)"
   ]
  },
  {
   "cell_type": "code",
   "execution_count": 440,
   "metadata": {},
   "outputs": [
    {
     "data": {
      "text/plain": [
       "138.1113085007177"
      ]
     },
     "execution_count": 440,
     "metadata": {},
     "output_type": "execute_result"
    }
   ],
   "source": [
    "np.mean(vals)"
   ]
  },
  {
   "cell_type": "code",
   "execution_count": 441,
   "metadata": {},
   "outputs": [
    {
     "data": {
      "text/plain": [
       "138.1113085007177"
      ]
     },
     "execution_count": 441,
     "metadata": {},
     "output_type": "execute_result"
    }
   ],
   "source": [
    "np.mean(vals)"
   ]
  },
  {
   "cell_type": "code",
   "execution_count": 442,
   "metadata": {},
   "outputs": [
    {
     "name": "stdout",
     "output_type": "stream",
     "text": [
      "12.1 s ± 163 ms per loop (mean ± std. dev. of 7 runs, 1 loop each)\n"
     ]
    }
   ],
   "source": [
    "%%timeit\n",
    "vals = single_value_parallel(col_env, s0, policy=None, n_iter=10000)"
   ]
  },
  {
   "cell_type": "code",
   "execution_count": 443,
   "metadata": {},
   "outputs": [
    {
     "name": "stdout",
     "output_type": "stream",
     "text": [
      " "
     ]
    },
    {
     "data": {
      "text/plain": [
       "         37380 function calls (33700 primitive calls) in 1.301 seconds\n",
       "\n",
       "   Ordered by: internal time\n",
       "\n",
       "   ncalls  tottime  percall  cumtime  percall filename:lineno(function)\n",
       "      176    1.177    0.007    1.177    0.007 {method 'acquire' of '_thread.lock' objects}\n",
       "        1    0.107    0.107    1.285    1.285 parallel.py:925(retrieve)\n",
       "  2520/20    0.002    0.000    0.006    0.000 copy.py:132(deepcopy)\n",
       "     1006    0.001    0.000    0.002    0.000 uuid.py:121(__init__)\n",
       "   1001/1    0.001    0.000    0.007    0.007 base.py:400(_unpack)\n",
       "      200    0.001    0.000    0.001    0.000 {method '__deepcopy__' of 'numpy.ndarray' objects}\n",
       "      180    0.001    0.000    1.178    0.007 _base.py:408(result)\n",
       "     1006    0.001    0.000    0.003    0.000 uuid.py:759(uuid4)\n",
       "     1001    0.001    0.000    0.001    0.000 base.py:148(is_dask_collection)\n",
       "   100/20    0.001    0.000    0.006    0.000 copy.py:237(_deepcopy_dict)\n",
       "     5101    0.000    0.000    0.000    0.000 {method 'get' of 'dict' objects}\n",
       "     3276    0.000    0.000    0.001    0.000 {built-in method builtins.isinstance}\n",
       "     1000    0.000    0.000    0.001    0.000 dataclasses.py:1036(is_dataclass)\n",
       "     1125    0.000    0.000    0.000    0.000 {built-in method builtins.hasattr}\n",
       "     1006    0.000    0.000    0.000    0.000 uuid.py:320(hex)\n",
       "   120/20    0.000    0.000    0.006    0.000 copy.py:269(_reconstruct)\n",
       "        4    0.000    0.000    0.000    0.000 {built-in method nt.stat}\n",
       "       20    0.000    0.000    0.000    0.000 {built-in method _winapi.WriteFile}\n",
       "       20    0.000    0.000    0.000    0.000 {method 'GetOverlappedResult' of '_winapi.Overlapped' objects}\n",
       "        1    0.000    0.000    0.007    0.007 base.py:415(<listcomp>)\n",
       "     1001    0.000    0.000    0.000    0.000 {built-in method _abc._abc_instancecheck}\n",
       "     1006    0.000    0.000    0.000    0.000 {built-in method nt.urandom}\n",
       "       58    0.000    0.000    1.177    0.020 threading.py:264(wait)\n",
       "      500    0.000    0.000    0.000    0.000 copy.py:253(_keep_alive)\n",
       "     3380    0.000    0.000    0.000    0.000 {built-in method builtins.id}\n",
       "       59    0.000    0.000    0.000    0.000 {built-in method _thread.allocate_lock}\n",
       "     1001    0.000    0.000    0.000    0.000 abc.py:137(__instancecheck__)\n",
       "      120    0.000    0.000    0.000    0.000 {method '__reduce_ex__' of 'object' objects}\n",
       "     1006    0.000    0.000    0.000    0.000 {built-in method from_bytes}\n",
       "      807    0.000    0.000    0.000    0.000 {built-in method builtins.getattr}\n",
       "      180    0.000    0.000    1.178    0.007 _parallel_backends.py:537(wrap_future_result)\n",
       "       80    0.000    0.000    0.000    0.000 copy.py:220(_deepcopy_tuple)\n",
       "      263    0.000    0.000    0.000    0.000 threading.py:240(__enter__)\n",
       "     1467    0.000    0.000    0.000    0.000 {built-in method builtins.len}\n",
       "       21    0.000    0.000    0.008    0.000 parallel.py:803(dispatch_one_batch)\n",
       "     1880    0.000    0.000    0.000    0.000 copy.py:190(_deepcopy_atomic)\n",
       "      263    0.000    0.000    0.000    0.000 threading.py:243(__exit__)\n",
       "     1006    0.000    0.000    0.000    0.000 {method 'count' of 'list' objects}\n",
       "      180    0.000    0.000    0.000    0.000 {method 'extend' of 'list' objects}\n",
       "       20    0.000    0.000    0.001    0.000 process_executor.py:1099(submit)\n",
       "      180    0.000    0.000    0.000    0.000 {method 'pop' of 'list' objects}\n",
       "       58    0.000    0.000    0.000    0.000 {method '_acquire_restore' of '_thread.RLock' objects}\n",
       "       20    0.000    0.000    0.001    0.000 connection.py:181(send_bytes)\n",
       "       40    0.000    0.000    0.000    0.000 queue.py:121(put)\n",
       "       20    0.000    0.000    0.002    0.000 parallel.py:766(_dispatch)\n",
       "       20    0.000    0.000    0.006    0.000 <ipython-input-436-cb7986b1c38e>:39(<genexpr>)\n",
       "       60    0.000    0.000    0.000    0.000 threading.py:335(notify)\n",
       "       20    0.000    0.000    0.001    0.000 _parallel_backends.py:529(apply_async)\n",
       "      280    0.000    0.000    0.000    0.000 copy.py:274(<genexpr>)\n",
       "       80    0.000    0.000    0.000    0.000 copy.py:221(<listcomp>)\n",
       "       20    0.000    0.000    0.000    0.000 functools.py:37(update_wrapper)\n",
       "      180    0.000    0.000    0.000    0.000 _base.py:382(__get_result)\n",
       "       23    0.000    0.000    0.000    0.000 threading.py:216(__init__)\n",
       "       21    0.000    0.000    0.000    0.000 threading.py:75(RLock)\n",
       "       20    0.000    0.000    0.001    0.000 connection.py:279(_send_bytes)\n",
       "      200    0.000    0.000    0.000    0.000 {method '__enter__' of '_thread.RLock' objects}\n",
       "        1    0.000    0.000    1.301    1.301 {built-in method builtins.exec}\n",
       "       20    0.000    0.000    0.000    0.000 process_executor.py:1091(_ensure_executor_running)\n",
       "       20    0.000    0.000    0.000    0.000 {method '__deepcopy__' of 'numpy.generic' objects}\n",
       "       23    0.000    0.000    0.000    0.000 queue.py:153(get)\n",
       "      100    0.000    0.000    0.000    0.000 copyreg.py:87(__newobj__)\n",
       "      500    0.000    0.000    0.000    0.000 {method 'append' of 'list' objects}\n",
       "       20    0.000    0.000    0.001    0.000 reusable_executor.py:175(submit)\n",
       "      122    0.000    0.000    0.000    0.000 {method 'update' of 'dict' objects}\n",
       "        1    0.000    0.000    1.294    1.294 parallel.py:965(__call__)\n",
       "      360    0.000    0.000    0.000    0.000 {built-in method builtins.issubclass}\n",
       "       20    0.000    0.000    0.000    0.000 parallel.py:321(delayed)\n",
       "       40    0.000    0.000    0.000    0.000 copy.py:211(_deepcopy_list)\n",
       "       20    0.000    0.000    0.000    0.000 _base.py:388(add_done_callback)\n",
       "       20    0.000    0.000    0.001    0.000 process_executor.py:135(wakeup)\n",
       "       20    0.000    0.000    0.000    0.000 _base.py:312(__init__)\n",
       "      200    0.000    0.000    0.000    0.000 {method '__exit__' of '_thread.RLock' objects}\n",
       "       20    0.000    0.000    0.000    0.000 _parallel_backends.py:124(get_nested_backend)\n",
       "       58    0.000    0.000    0.000    0.000 {method '_release_save' of '_thread.RLock' objects}\n",
       "        1    0.000    0.000    0.000    0.000 {built-in method builtins.eval}\n",
       "       20    0.000    0.000    0.000    0.000 parallel.py:245(__init__)\n",
       "        1    0.000    0.000    0.000    0.000 collections_env.py:81(reset)\n",
       "      100    0.000    0.000    0.000    0.000 {built-in method builtins.setattr}\n",
       "       20    0.000    0.000    0.000    0.000 {method '__enter__' of '_multiprocessing.SemLock' objects}\n",
       "       20    0.000    0.000    0.000    0.000 copy.py:247(_deepcopy_method)\n",
       "        1    0.000    0.000    0.000    0.000 {method 'exponential' of 'numpy.random.mtrand.RandomState' objects}\n",
       "       40    0.000    0.000    0.000    0.000 queue.py:212(_put)\n",
       "       21    0.000    0.000    0.000    0.000 _parallel_backends.py:34(__init__)\n",
       "       21    0.000    0.000    0.000    0.000 _parallel_backends.py:285(compute_batch_size)\n",
       "       60    0.000    0.000    0.000    0.000 threading.py:255(_is_owned)\n",
       "       98    0.000    0.000    0.000    0.000 {method 'append' of 'collections.deque' objects}\n",
       "        4    0.000    0.000    0.000    0.000 {built-in method nt.write}\n",
       "        1    0.000    0.000    1.301    1.301 <ipython-input-436-cb7986b1c38e>:28(single_value_parallel)\n",
       "       20    0.000    0.000    0.000    0.000 {method '__setstate__' of 'numpy.dtype' objects}\n",
       "        1    0.000    0.000    0.000    0.000 parallel.py:644(__init__)\n",
       "      100    0.000    0.000    0.000    0.000 {built-in method __new__ of type object at 0x00007FFE0EFD79A0}\n",
       "        1    0.000    0.000    0.000    0.000 executor.py:25(get_memmapping_executor)\n",
       "       20    0.000    0.000    0.000    0.000 {method '__exit__' of '_multiprocessing.SemLock' objects}\n",
       "       20    0.000    0.000    0.000    0.000 synchronize.py:94(__enter__)\n",
       "       20    0.000    0.000    0.000    0.000 functools.py:67(wraps)\n",
       "        2    0.000    0.000    0.000    0.000 ntpath.py:450(normpath)\n",
       "        1    0.000    0.000    0.000    0.000 {built-in method nt.cpu_count}\n",
       "       11    0.000    0.000    0.000    0.000 os.py:676(__getitem__)\n",
       "        1    0.000    0.000    0.000    0.000 {method 'copy' of 'numpy.ndarray' objects}\n",
       "       20    0.000    0.000    0.000    0.000 process_executor.py:257(__init__)\n",
       "       63    0.000    0.000    0.000    0.000 {method '__enter__' of '_thread.lock' objects}\n",
       "      100    0.000    0.000    0.000    0.000 {method 'items' of 'dict' objects}\n",
       "       20    0.000    0.000    0.000    0.000 parallel.py:352(__init__)\n",
       "        1    0.000    0.000    0.000    0.000 _parallel_backends.py:154(_prepare_worker_env)\n",
       "       20    0.000    0.000    0.000    0.000 synchronize.py:97(__exit__)\n",
       "        1    0.000    0.000    0.000    0.000 context.py:169(_cpu_count_user)\n",
       "       20    0.000    0.000    0.000    0.000 queue.py:216(_get)\n",
       "        2    0.000    0.000    0.000    0.000 _memmapping_reducer.py:168(_get_temp_dir)\n",
       "        1    0.000    0.000    0.001    0.001 _parallel_backends.py:486(configure)\n",
       "        6    0.000    0.000    0.000    0.000 ntpath.py:122(splitdrive)\n",
       "        2    0.000    0.000    0.000    0.000 _memmapping_reducer.py:537(register_new_context)\n",
       "       58    0.000    0.000    0.000    0.000 {method '_is_owned' of '_thread.RLock' objects}\n",
       "        1    0.000    0.000    0.000    0.000 reusable_executor.py:105(get_reusable_executor)\n",
       "        2    0.000    0.000    0.000    0.000 {built-in method nt._getfullpathname}\n",
       "       22    0.000    0.000    0.000    0.000 {built-in method time.time}\n",
       "       23    0.000    0.000    0.000    0.000 queue.py:208(_qsize)\n",
       "        1    0.000    0.000    0.000    0.000 parallel.py:184(__init__)\n",
       "        4    0.000    0.000    0.000    0.000 resource_tracker.py:203(_send)\n",
       "       11    0.000    0.000    0.000    0.000 os.py:746(encodekey)\n",
       "        2    0.000    0.000    0.000    0.000 _memmapping_reducer.py:583(register_folder_finalizer)\n",
       "       60    0.000    0.000    0.000    0.000 parallel.py:275(__len__)\n",
       "        1    0.000    0.000    0.000    0.000 context.py:110(cpu_count)\n",
       "        4    0.000    0.000    0.000    0.000 genericpath.py:16(exists)\n",
       "       20    0.000    0.000    0.000    0.000 _parallel_backends.py:590(__init__)\n",
       "       20    0.000    0.000    0.000    0.000 {method 'insert' of 'list' objects}\n",
       "       10    0.000    0.000    0.000    0.000 _collections_abc.py:657(get)\n",
       "        6    0.000    0.000    0.000    0.000 {built-in method builtins.max}\n",
       "        2    0.000    0.000    0.000    0.000 ntpath.py:75(join)\n",
       "        1    0.000    0.000    0.000    0.000 logger.py:39(short_format_time)\n",
       "        1    0.000    0.000    0.000    0.000 _memmapping_reducer.py:473(get_memmapping_reducers)\n",
       "       63    0.000    0.000    0.000    0.000 {method '__exit__' of '_thread.lock' objects}\n",
       "        1    0.000    0.000    0.007    0.007 base.py:367(unpack_collections)\n",
       "        1    0.000    0.000    0.000    0.000 _memmapping_reducer.py:518(__init__)\n",
       "        1    0.000    0.000    0.000    0.000 queue.py:33(__init__)\n",
       "        1    0.000    0.000    0.007    0.007 base.py:502(compute)\n",
       "       20    0.000    0.000    0.000    0.000 process_executor.py:1034(_start_executor_manager_thread)\n",
       "        7    0.000    0.000    0.000    0.000 {method 'format' of 'str' objects}\n",
       "        1    0.000    0.000    0.000    0.000 executor.py:19(get_memmapping_executor)\n",
       "       20    0.000    0.000    0.000    0.000 connection.py:134(_check_closed)\n",
       "        1    0.000    0.000    0.001    0.001 parallel.py:737(_initialize_backend)\n",
       "        1    0.000    0.000    0.000    0.000 disk.py:42(memstr_to_bytes)\n",
       "       20    0.000    0.000    0.000    0.000 parallel.py:331(delayed_function)\n",
       "       20    0.000    0.000    0.000    0.000 connection.py:142(_check_writable)\n",
       "        1    0.000    0.000    0.000    0.000 _parallel_backends.py:280(__init__)\n",
       "        1    0.000    0.000    1.301    1.301 <string>:1(<module>)\n",
       "        2    0.000    0.000    0.000    0.000 ntpath.py:287(expanduser)\n",
       "        1    0.000    0.000    0.000    0.000 _memmapping_reducer.py:338(__init__)\n",
       "       11    0.000    0.000    0.000    0.000 os.py:740(check_str)\n",
       "        2    0.000    0.000    0.000    0.000 resource_tracker.py:94(ensure_running)\n",
       "        1    0.000    0.000    0.000    0.000 _parallel_backends.py:501(effective_n_jobs)\n",
       "        1    0.000    0.000    0.000    0.000 contextlib.py:107(__enter__)\n",
       "        1    0.000    0.000    0.000    0.000 contextlib.py:116(__exit__)\n",
       "        2    0.000    0.000    0.000    0.000 ntpath.py:523(abspath)\n",
       "        1    0.000    0.000    0.000    0.000 _parallel_backends.py:546(terminate)\n",
       "        1    0.000    0.000    0.000    0.000 contextlib.py:81(__init__)\n",
       "       20    0.000    0.000    0.000    0.000 {method 'popleft' of 'collections.deque' objects}\n",
       "        1    0.000    0.000    0.000    0.000 parallel.py:76(get_active_backend)\n",
       "        7    0.000    0.000    0.000    0.000 {method 'startswith' of 'str' objects}\n",
       "        2    0.000    0.000    0.000    0.000 resource_tracker.py:188(register)\n",
       "        2    0.000    0.000    0.000    0.000 {built-in method builtins.next}\n",
       "        1    0.000    0.000    0.000    0.000 _memmapping_reducer.py:612(_unlink_temporary_resources)\n",
       "        2    0.000    0.000    0.000    0.000 resource_tracker.py:179(_check_alive)\n",
       "        1    0.000    0.000    0.000    0.000 threading.py:1225(current_thread)\n",
       "        1    0.000    0.000    0.000    0.000 logger.py:23(_squeeze_time)\n",
       "        1    0.000    0.000    0.000    0.000 contextlib.py:237(helper)\n",
       "       12    0.000    0.000    0.000    0.000 {built-in method nt.fspath}\n",
       "        8    0.000    0.000    0.000    0.000 {method 'replace' of 'str' objects}\n",
       "        4    0.000    0.000    0.000    0.000 {method 'encode' of 'str' objects}\n",
       "       11    0.000    0.000    0.000    0.000 {method 'upper' of 'str' objects}\n",
       "        1    0.000    0.000    0.000    0.000 context.py:40(cpu_count)\n",
       "        1    0.000    0.000    0.000    0.000 process.py:189(daemon)\n",
       "        1    0.000    0.000    0.000    0.000 parallel.py:219(__exit__)\n",
       "        2    0.000    0.000    0.000    0.000 {method 'split' of 'str' objects}\n",
       "        1    0.000    0.000    0.000    0.000 _memmapping_reducer.py:533(set_current_context)\n",
       "        1    0.000    0.000    0.007    0.007 base.py:438(<listcomp>)\n",
       "        1    0.000    0.000    0.000    0.000 _parallel_backends.py:185(in_main_thread)\n",
       "        2    0.000    0.000    0.000    0.000 tempfile.py:287(gettempdir)\n",
       "        1    0.000    0.000    0.000    0.000 _memmapping_reducer.py:115(__init__)\n",
       "        1    0.000    0.000    0.000    0.000 reusable_executor.py:180(_resize)\n",
       "        2    0.000    0.000    0.000    0.000 pickle.py:302(whichmodule)\n",
       "        1    0.000    0.000    0.000    0.000 parallel.py:762(_terminate_backend)\n",
       "        1    0.000    0.000    0.000    0.000 _parallel_backends.py:361(reset_batch_stats)\n",
       "        1    0.000    0.000    0.000    0.000 queue.py:205(_init)\n",
       "        1    0.000    0.000    0.000    0.000 parallel.py:222(unregister)\n",
       "        2    0.000    0.000    0.000    0.000 {built-in method builtins.min}\n",
       "        2    0.000    0.000    0.000    0.000 parallel.py:869(_print)\n",
       "        2    0.000    0.000    0.000    0.000 {built-in method atexit.register}\n",
       "        1    0.000    0.000    0.000    0.000 context.py:232(get_context)\n",
       "        1    0.000    0.000    0.000    0.000 process.py:36(current_process)\n",
       "        1    0.000    0.000    0.000    0.000 util.py:48(debug)\n",
       "        2    0.000    0.000    0.000    0.000 _parallel_backends.py:137(retrieval_context)\n",
       "        2    0.000    0.000    0.000    0.000 {built-in method nt.getpid}\n",
       "        2    0.000    0.000    0.000    0.000 {method 'lstrip' of 'str' objects}\n",
       "        3    0.000    0.000    0.000    0.000 {method 'pop' of 'dict' objects}\n",
       "        2    0.000    0.000    0.000    0.000 {method 'join' of 'str' objects}\n",
       "        1    0.000    0.000    0.000    0.000 _collections_abc.py:664(__contains__)\n",
       "        1    0.000    0.000    0.000    0.000 _parallel_backends.py:80(start_call)\n",
       "        1    0.000    0.000    0.000    0.000 {method 'copy' of 'dict' objects}\n",
       "        1    0.000    0.000    0.000    0.000 parallel.py:216(__enter__)\n",
       "        1    0.000    0.000    0.000    0.000 _parallel_backends.py:83(stop_call)\n",
       "        1    0.000    0.000    0.000    0.000 {built-in method _thread.get_ident}\n",
       "        1    0.000    0.000    0.000    0.000 {built-in method builtins.iter}\n",
       "        1    0.000    0.000    0.000    0.000 {method 'disable' of '_lsprof.Profiler' objects}"
      ]
     },
     "metadata": {},
     "output_type": "display_data"
    }
   ],
   "source": [
    "%prun single_value_parallel(col_env, s0, n_iter=1000)"
   ]
  },
  {
   "cell_type": "code",
   "execution_count": null,
   "metadata": {},
   "outputs": [],
   "source": []
  },
  {
   "cell_type": "markdown",
   "metadata": {},
   "source": [
    "Let's develop a general, but fast pricer - with numba I guess."
   ]
  },
  {
   "cell_type": "code",
   "execution_count": 41,
   "metadata": {},
   "outputs": [],
   "source": [
    "import numba"
   ]
  },
  {
   "cell_type": "code",
   "execution_count": 45,
   "metadata": {},
   "outputs": [],
   "source": [
    "def t_equation(lambda_start, lambda_sustained, params):\n",
    "    '''\n",
    "    Equation for duration to reach a holding region\n",
    "    '''\n",
    "\n",
    "    try:\n",
    "        numerator = (lambda_start - params.lambdainf)\n",
    "        denominator = lambda_sustained - params.lambdainf\n",
    "\n",
    "        if lambda_start <lambda_sustained:\n",
    "            raise f'Parameter lambda_start is lower than the lambda_sustained.'\n",
    "        elif denominator < 0:\n",
    "            return np.NaN\n",
    "        else:\n",
    "            t = 1 / params.kappa * np.log(numerator / denominator)\n",
    "            return t\n",
    "    except:\n",
    "        print('warning')\n",
    "        print(f'Numerator {(lambda_start - params.lambdainf)}')\n",
    "        \n",
    "def next_arrival(lambda_start):\n",
    "    # generates interarrival times\n",
    "    flag_finished = False\n",
    "    s = 0\n",
    "    t_to_sustain = t_equation(self.intensities_plus[-1], self.balances[-1])\n",
    "    n = len(self.interarrivals)\n",
    "    while not flag_finished:\n",
    "        lstar = self.controlled_intensity(s, n)\n",
    "        w = -np.log(np.random.rand()) / lstar\n",
    "        s = s + w\n",
    "        d = np.random.rand()\n",
    "        potential_repayment = np.random.uniform(0.1, 1)\n",
    "        potential_balance = self.balances[-1] * (1 - potential_repayment)\n",
    "        intensity_at_jump = self.controlled_intensity(s, n)\n",
    "        if d * lstar <= intensity_at_jump:\n",
    "            sustain_drift_time = s - t_to_sustain\n",
    "            if sustain_drift_time > 0:\n",
    "                self.continuous_effort_duration = np.append(self.continuous_effort_duration, sustain_drift_time)\n",
    "                self.continuous_effort_intensity = np.append(self.continuous_effort_intensity, intensity_at_jump)\n",
    "                self.continuous_effort_start_sustain = np.append(self.continuous_effort_start_sustain,\n",
    "                                                                 t_to_sustain + sum(self.interarrivals))\n",
    "\n",
    "            self.control_levels = np.append(self.control_levels, self.control_function(potential_balance))\n",
    "            self.intensities_minus = np.append(self.intensities_minus, intensity_at_jump)\n",
    "            self.intensities_plus = np.append(self.intensities_plus, intensity_at_jump + self.delta10 +\n",
    "                                              self.delta11 * potential_repayment)\n",
    "            self.interarrivals = np.append(self.interarrivals, s)\n",
    "            self.relativerepayments = np.append(self.relativerepayments, potential_repayment)\n",
    "            self.balances = np.append(self.balances, potential_balance)\n",
    "            flag_finished = True"
   ]
  },
  {
   "cell_type": "code",
   "execution_count": 46,
   "metadata": {},
   "outputs": [
    {
     "data": {
      "text/plain": [
       "1.0674491454717445"
      ]
     },
     "execution_count": 46,
     "metadata": {},
     "output_type": "execute_result"
    }
   ],
   "source": [
    "t_equation(2.0, 1.0, p)"
   ]
  },
  {
   "cell_type": "code",
   "execution_count": 44,
   "metadata": {},
   "outputs": [
    {
     "data": {
      "text/plain": [
       "<dcc.aav.Parameters at 0x2149d9133c8>"
      ]
     },
     "execution_count": 44,
     "metadata": {},
     "output_type": "execute_result"
    }
   ],
   "source": [
    "p.lambdainf"
   ]
  },
  {
   "cell_type": "code",
   "execution_count": null,
   "metadata": {},
   "outputs": [],
   "source": []
  }
 ],
 "metadata": {
  "kernelspec": {
   "display_name": "Python 3",
   "language": "python",
   "name": "python3"
  },
  "language_info": {
   "codemirror_mode": {
    "name": "ipython",
    "version": 3
   },
   "file_extension": ".py",
   "mimetype": "text/x-python",
   "name": "python",
   "nbconvert_exporter": "python",
   "pygments_lexer": "ipython3",
   "version": "3.7.9"
  }
 },
 "nbformat": 4,
 "nbformat_minor": 4
}
