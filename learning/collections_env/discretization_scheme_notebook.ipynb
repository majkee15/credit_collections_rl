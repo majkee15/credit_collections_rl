{
 "cells": [
  {
   "cell_type": "markdown",
   "metadata": {},
   "source": [
    "# This notebook goes through the discretization implementation "
   ]
  },
  {
   "cell_type": "code",
   "execution_count": 45,
   "metadata": {},
   "outputs": [],
   "source": [
    "import numpy as np\n",
    "import matplotlib.pyplot as plt\n",
    "import math"
   ]
  },
  {
   "cell_type": "code",
   "execution_count": 46,
   "metadata": {},
   "outputs": [],
   "source": [
    "n_obs_bins = [40, 10]\n",
    "obs_val_bins = [np.linspace(h[0], h[1], n_obs_bins[i]) for i, h in\n",
    "                     enumerate(zip([0, 0], [2, 100]))]\n",
    "n_states = np.prod(n_obs_bins)"
   ]
  },
  {
   "cell_type": "code",
   "execution_count": 47,
   "metadata": {},
   "outputs": [
    {
     "data": {
      "text/plain": [
       "3.0"
      ]
     },
     "execution_count": 47,
     "metadata": {},
     "output_type": "execute_result"
    }
   ],
   "source": [
    "np.e ** np.log(3)"
   ]
  },
  {
   "cell_type": "code",
   "execution_count": 48,
   "metadata": {},
   "outputs": [
    {
     "data": {
      "text/plain": [
       "40"
      ]
     },
     "execution_count": 48,
     "metadata": {},
     "output_type": "execute_result"
    }
   ],
   "source": [
    "n_obs_bins[0]"
   ]
  },
  {
   "cell_type": "code",
   "execution_count": 51,
   "metadata": {},
   "outputs": [
    {
     "data": {
      "text/plain": [
       "array([0.11      , 0.1197309 , 0.13032262, 0.14185131, 0.15439986,\n",
       "       0.16805849, 0.1829254 , 0.19910747, 0.21672106, 0.23589279,\n",
       "       0.2567605 , 0.27947423, 0.30419728, 0.33110739, 0.36039805,\n",
       "       0.39227983, 0.42698197, 0.46475395, 0.50586734, 0.55061773,\n",
       "       0.59932687, 0.65234494, 0.71005314, 0.77286636, 0.84123621,\n",
       "       0.91565424, 0.99665549, 1.08482233, 1.18078865, 1.28524441,\n",
       "       1.39894061, 1.52269468, 1.65739637, 1.80401414, 1.96360211,\n",
       "       2.13730766, 2.32637968, 2.53217752, 2.75618079, 3.        ])"
      ]
     },
     "execution_count": 51,
     "metadata": {},
     "output_type": "execute_result"
    }
   ],
   "source": [
    "np.logspace(math.log(0.11, np.e ** (-0.7)), math.log(3, np.e ** (-0.7)), n_obs_bins[0], base=np.e ** (-0.7))"
   ]
  },
  {
   "cell_type": "code",
   "execution_count": 52,
   "metadata": {},
   "outputs": [],
   "source": [
    "# log of w space\n",
    "\n",
    "# obs_val_bins = [np.linspace(0.1, 3, n_obs_bins[0]) ,np.flip(np.logspace(0, 20, base=0.9, num=n_obs_bins[1]) * 100)]\n",
    "\n",
    "# log of lambda space\n",
    "\n",
    "obs_val_bins = [np.logspace(np.log(0.11), np.log(3), n_obs_bins[0], base=np.e) ,np.flip(np.logspace(0, 20, base=0.9, num=n_obs_bins[1]) * 100)]"
   ]
  },
  {
   "cell_type": "code",
   "execution_count": 63,
   "metadata": {},
   "outputs": [
    {
     "data": {
      "text/plain": [
       "0.81"
      ]
     },
     "execution_count": 63,
     "metadata": {},
     "output_type": "execute_result"
    }
   ],
   "source": [
    "0.9 ** 2"
   ]
  },
  {
   "cell_type": "code",
   "execution_count": 53,
   "metadata": {},
   "outputs": [],
   "source": [
    "def _cell_to_ind(digits):\n",
    "    return digits[0] * n_obs_bins[1] + digits[1]\n",
    "\n",
    "def _ind_to_cell(number):\n",
    "    i = int(number / (n_obs_bins[1]))\n",
    "    j = int(number % (n_obs_bins[1]))\n",
    "    #j = int(number - i * n_obs_bins[1])\n",
    "    return i, j\n",
    "\n",
    "def observation(observation):\n",
    "    # converts continuous observation to comply with discretized bin\n",
    "    digits = [np.digitize([x], bins, right=True)[0]\n",
    "              for x, bins in zip(observation.flatten(), obs_val_bins)]\n",
    "    digits = [np.minimum(digit, n_obs_bins[i]-1) for i, digit in enumerate(digits)]\n",
    "    return _cell_to_ind(digits)\n",
    "\n",
    "def _ind_to_cont(ind):\n",
    "    i, j = _ind_to_cell(ind)\n",
    "    return obs_val_bins[0][i], obs_val_bins[1][j]\n",
    "\n",
    "def snap_to_grid_coord(obs):\n",
    "    digits = [np.digitize([x], bins, right=True)[0]\n",
    "              for x, bins in zip(obs.flatten(), obs_val_bins)]\n",
    "    return digits\n",
    "\n",
    "def snap_to_grid(obs):\n",
    "    digits = [np.digitize([x], bins, right=True)[0]\n",
    "              for x, bins in zip(obs.flatten(), obs_val_bins)]\n",
    "    return np.array([obs_val_bins[0][digits[0]], obs_val_bins[1][digits[1]]])"
   ]
  },
  {
   "cell_type": "code",
   "execution_count": 54,
   "metadata": {},
   "outputs": [],
   "source": [
    "max_obs = np.array([1, 5])\n",
    "min_obs = np.array([0, 0])"
   ]
  },
  {
   "cell_type": "code",
   "execution_count": 55,
   "metadata": {},
   "outputs": [
    {
     "data": {
      "text/plain": [
       "270"
      ]
     },
     "execution_count": 55,
     "metadata": {},
     "output_type": "execute_result"
    }
   ],
   "source": [
    "ind = observation(max_obs)\n",
    "ind"
   ]
  },
  {
   "cell_type": "code",
   "execution_count": 56,
   "metadata": {},
   "outputs": [
    {
     "data": {
      "text/plain": [
       "400"
      ]
     },
     "execution_count": 56,
     "metadata": {},
     "output_type": "execute_result"
    }
   ],
   "source": [
    "n_states"
   ]
  },
  {
   "cell_type": "code",
   "execution_count": 57,
   "metadata": {},
   "outputs": [],
   "source": [
    "x = np.zeros(n_states)\n",
    "y = np.zeros(n_states)\n",
    "for i in range(n_states):\n",
    "    x[i],y[i] = _ind_to_cont(i)"
   ]
  },
  {
   "cell_type": "code",
   "execution_count": 58,
   "metadata": {},
   "outputs": [
    {
     "data": {
      "text/plain": [
       "[<matplotlib.lines.Line2D at 0x120f6b2d0>]"
      ]
     },
     "execution_count": 58,
     "metadata": {},
     "output_type": "execute_result"
    },
    {
     "data": {
      "image/png": "[encoded data removed]",
      "text/plain": [
       "<Figure size 432x288 with 1 Axes>"
      ]
     },
     "metadata": {
      "needs_background": "light"
     },
     "output_type": "display_data"
    }
   ],
   "source": [
    "plt.plot(y,x, 'x')"
   ]
  },
  {
   "cell_type": "code",
   "execution_count": 59,
   "metadata": {},
   "outputs": [
    {
     "data": {
      "text/plain": [
       "array([0.11      , 0.1197309 , 0.13032262, 0.14185131, 0.15439986,\n",
       "       0.16805849, 0.1829254 , 0.19910747, 0.21672106, 0.23589279,\n",
       "       0.2567605 , 0.27947423, 0.30419728, 0.33110739, 0.36039805,\n",
       "       0.39227983, 0.42698197, 0.46475395, 0.50586734, 0.55061773,\n",
       "       0.59932687, 0.65234494, 0.71005314, 0.77286636, 0.84123621,\n",
       "       0.91565424, 0.99665549, 1.08482233, 1.18078865, 1.28524441,\n",
       "       1.39894061, 1.52269468, 1.65739637, 1.80401414, 1.96360211,\n",
       "       2.13730766, 2.32637968, 2.53217752, 2.75618079, 3.        ])"
      ]
     },
     "execution_count": 59,
     "metadata": {},
     "output_type": "execute_result"
    }
   ],
   "source": [
    "obs_val_bins[0]"
   ]
  },
  {
   "cell_type": "code",
   "execution_count": 11,
   "metadata": {},
   "outputs": [
    {
     "data": {
      "text/plain": [
       "array([ 12.15766546,  13.58363391,  15.17685371,  16.95694172,\n",
       "        18.94581564,  21.16796391,  23.6507472 ,  26.4247353 ,\n",
       "        29.52408351,  32.98695322,  36.85598175,  41.17880731,\n",
       "        46.00865561,  51.40499518,  57.43426958,  64.17071553,\n",
       "        71.69727692,  80.10662615,  89.50230508, 100.        ])"
      ]
     },
     "execution_count": 11,
     "metadata": {},
     "output_type": "execute_result"
    }
   ],
   "source": [
    "obs_val_bins[1]"
   ]
  },
  {
   "cell_type": "code",
   "execution_count": 31,
   "metadata": {},
   "outputs": [],
   "source": [
    "import sys\n",
    "sys.path.append('../..')\n",
    "sys.path.append('..')\n",
    "from collections_env.discwrapper import DiscretizedObservationWrapper, DiscretizedActionWrapper\n",
    "from collections_env.gymcollectionsenv import CollectionsEnv"
   ]
  },
  {
   "cell_type": "code",
   "execution_count": 32,
   "metadata": {},
   "outputs": [],
   "source": [
    "env = CollectionsEnv()\n",
    "denv = DiscretizedObservationWrapper(env, n_bins=n_obs_bins)"
   ]
  },
  {
   "cell_type": "code",
   "execution_count": 33,
   "metadata": {},
   "outputs": [
    {
     "data": {
      "text/plain": [
       "40"
      ]
     },
     "execution_count": 33,
     "metadata": {},
     "output_type": "execute_result"
    }
   ],
   "source": [
    "denv.observation(max_obs)"
   ]
  },
  {
   "cell_type": "code",
   "execution_count": 34,
   "metadata": {},
   "outputs": [],
   "source": [
    "denva = DiscretizedActionWrapper(denv)"
   ]
  },
  {
   "cell_type": "code",
   "execution_count": 35,
   "metadata": {},
   "outputs": [
    {
     "data": {
      "text/plain": [
       "0.0666775173611111"
      ]
     },
     "execution_count": 35,
     "metadata": {},
     "output_type": "execute_result"
    }
   ],
   "source": [
    "denva.action(2)"
   ]
  },
  {
   "cell_type": "code",
   "execution_count": 36,
   "metadata": {},
   "outputs": [
    {
     "data": {
      "text/plain": [
       "0.0"
      ]
     },
     "execution_count": 36,
     "metadata": {},
     "output_type": "execute_result"
    }
   ],
   "source": [
    "denva._aind_to_cell(0)"
   ]
  },
  {
   "cell_type": "code",
   "execution_count": 37,
   "metadata": {},
   "outputs": [],
   "source": [
    "ob = denva.step(0)"
   ]
  },
  {
   "cell_type": "code",
   "execution_count": 42,
   "metadata": {},
   "outputs": [
    {
     "data": {
      "text/plain": [
       "39"
      ]
     },
     "execution_count": 42,
     "metadata": {},
     "output_type": "execute_result"
    }
   ],
   "source": [
    "ob[0]"
   ]
  },
  {
   "cell_type": "code",
   "execution_count": 43,
   "metadata": {},
   "outputs": [
    {
     "data": {
      "text/plain": [
       "(1, 19)"
      ]
     },
     "execution_count": 43,
     "metadata": {},
     "output_type": "execute_result"
    }
   ],
   "source": [
    "_ind_to_cell(ob[0])"
   ]
  },
  {
   "cell_type": "code",
   "execution_count": null,
   "metadata": {},
   "outputs": [],
   "source": []
  },
  {
   "cell_type": "code",
   "execution_count": null,
   "metadata": {},
   "outputs": [],
   "source": []
  },
  {
   "cell_type": "code",
   "execution_count": 39,
   "metadata": {},
   "outputs": [
    {
     "data": {
      "text/plain": [
       "400"
      ]
     },
     "execution_count": 39,
     "metadata": {},
     "output_type": "execute_result"
    }
   ],
   "source": [
    "np.product([bin.shape[0] for bin in obs_val_bins])"
   ]
  },
  {
   "cell_type": "code",
   "execution_count": 70,
   "metadata": {},
   "outputs": [
    {
     "data": {
      "text/plain": [
       "1"
      ]
     },
     "execution_count": 70,
     "metadata": {},
     "output_type": "execute_result"
    }
   ],
   "source": [
    "number = 0\n",
    "np.digitize(number, obs_val_bins[0])"
   ]
  },
  {
   "cell_type": "code",
   "execution_count": 30,
   "metadata": {},
   "outputs": [
    {
     "data": {
      "text/plain": [
       "5.0"
      ]
     },
     "execution_count": 30,
     "metadata": {},
     "output_type": "execute_result"
    }
   ],
   "source": [
    "obs_val_bins[0][10]"
   ]
  },
  {
   "cell_type": "code",
   "execution_count": 31,
   "metadata": {},
   "outputs": [
    {
     "data": {
      "text/plain": [
       "100"
      ]
     },
     "execution_count": 31,
     "metadata": {},
     "output_type": "execute_result"
    }
   ],
   "source": [
    "number = 100\n",
    "np.digitize(number, obs_val_bins[1], right=True)"
   ]
  },
  {
   "cell_type": "code",
   "execution_count": 32,
   "metadata": {},
   "outputs": [
    {
     "data": {
      "text/plain": [
       "(9, 0)"
      ]
     },
     "execution_count": 32,
     "metadata": {},
     "output_type": "execute_result"
    }
   ],
   "source": [
    "_ind_to_cell(1000)"
   ]
  },
  {
   "cell_type": "markdown",
   "metadata": {},
   "source": [
    "Alternative"
   ]
  },
  {
   "cell_type": "code",
   "execution_count": 38,
   "metadata": {},
   "outputs": [],
   "source": [
    "n_bins = 100\n",
    "val_bins = [np.linspace(h[0], h[1], n_obs_bins[i] + 1) for i, h in enumerate(zip([0, 0], [5, 100]))]\n",
    "def _convert_to_one_number(digits):\n",
    "    return sum([d * ((n_bins + 1) ** i) for i, d in enumerate(digits)])\n",
    "\n",
    "def observation(observation):\n",
    "    digits = [np.digitize([x], bins)[0]\n",
    "              for x, bins in zip(observation.flatten(), val_bins)]\n",
    "    return _convert_to_one_number(digits)\n"
   ]
  },
  {
   "cell_type": "code",
   "execution_count": 47,
   "metadata": {},
   "outputs": [],
   "source": [
    "ob = np.array([5, 100])"
   ]
  },
  {
   "cell_type": "code",
   "execution_count": 45,
   "metadata": {},
   "outputs": [
    {
     "data": {
      "text/plain": [
       "10202"
      ]
     },
     "execution_count": 45,
     "metadata": {},
     "output_type": "execute_result"
    }
   ],
   "source": [
    "observation(ob)"
   ]
  },
  {
   "cell_type": "code",
   "execution_count": null,
   "metadata": {},
   "outputs": [],
   "source": []
  }
 ],
 "metadata": {
  "kernelspec": {
   "display_name": "Python 3",
   "language": "python",
   "name": "python3"
  },
  "language_info": {
   "codemirror_mode": {
    "name": "ipython",
    "version": 3
   },
   "file_extension": ".py",
   "mimetype": "text/x-python",
   "name": "python",
   "nbconvert_exporter": "python",
   "pygments_lexer": "ipython3",
   "version": "3.7.7"
  }
 },
 "nbformat": 4,
 "nbformat_minor": 4
}
