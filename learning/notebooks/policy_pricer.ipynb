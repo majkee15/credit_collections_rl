{
 "cells": [
  {
   "cell_type": "code",
   "execution_count": 1,
   "metadata": {},
   "outputs": [],
   "source": [
    "import sys\n",
    "import os \n",
    "sys.path.append('..')\n",
    "sys.path.append('../..')\n",
    "sys.path.append('../../..')\n",
    "\n",
    "from learning.collections_env.collections_env import CollectionsEnv, MAX_ACCOUNT_BALANCE\n",
    "from learning.utils.wrappers import DiscretizedActionWrapper, StateNormalization\n",
    "from learning.policies.dqn import DQNAgent, DefaultConfig\n",
    "from learning.utils import misc\n",
    "from learning.policies.discrete_optimal_policy import DiscretePolicyConstructor\n",
    "from dcc import Parameters, AAV, OAV\n",
    "\n",
    "\n",
    "import numpy as np\n",
    "import pickle\n",
    "import copy\n",
    "from itertools import product\n",
    "#import keras\n",
    "import tensorflow as tf\n",
    "from tensorflow.keras.models import Sequential, load_model, Model\n",
    "from tensorflow.keras.layers import Dense\n",
    "from tensorflow.keras.optimizers import Adam\n",
    "from tensorflow.keras import backend as K\n",
    "\n",
    "\n",
    "from IPython.display import HTML, clear_output\n",
    "\n",
    "import matplotlib.pyplot as plt\n",
    "# import seaborn as sns\n",
    "\n",
    "os.environ[\"CUDA_VISIBLE_DEVICES\"] = \"-1\"\n",
    "\n",
    "# PLOTTING \n",
    "\n",
    "def construct_paths(name, log_num):\n",
    "    log_path = os.path.join(misc.RESOURCE_ROOT, 'models', name)\n",
    "    logs = os.listdir(log_path)\n",
    "#     checkpoints_path = os.path.join(misc.RESOURCE_ROOT, 'models', name, logs[log_num], 'checkpoints')\n",
    "#     checkpoints = os.listdir(checkpoints_path)\n",
    "    # print(f\"Checkpoints: {checkpoints}\")\n",
    "    models = os.listdir(os.path.join(misc.RESOURCE_ROOT, 'models', name, logs[log_num]))\n",
    "    model_path = os.path.join(misc.RESOURCE_ROOT, 'models', name, logs[log_num])\n",
    "    env_path =  os.path.join(misc.RESOURCE_ROOT, 'models', name, logs[log_num], 'env.pkl')\n",
    "    try:\n",
    "        buffer_path = os.path.join(misc.RESOURCE_ROOT, 'models', name, logs[log_num], 'buffer.pkl')\n",
    "    except:\n",
    "        print('No buffer found.')\n",
    "\n",
    "#     with open(buffer_path,'rb') as f:\n",
    "#         buffer = pickle.load(f)\n",
    "    return model_path\n",
    "\n",
    "# LOADING\n",
    "\n",
    "def load_agent(name, lognumber=0):\n",
    "    log_path = os.path.join(misc.RESOURCE_ROOT, 'models', name)\n",
    "    logs = os.listdir(log_path)\n",
    "    print(f\"Logs available: {logs}\")\n",
    "    model_path = construct_paths(name, lognumber)\n",
    "    os.listdir(model_path)\n",
    "    agent = DQNAgent.load(model_path)\n",
    "    agent.main_net.compile(loss='MSE')\n",
    "    return agent\n",
    "\n",
    "def load_agent_from_path(model_path):\n",
    "    agent = DQNAgent.load(model_path)\n",
    "    agent.main_net.compile(loss='MSE')\n",
    "    return agent"
   ]
  },
  {
   "cell_type": "code",
   "execution_count": 2,
   "metadata": {},
   "outputs": [
    {
     "name": "stdout",
     "output_type": "stream",
     "text": [
      "Logs available: ['20201126-004420']\n",
      "[INFO] [2021-03-04 13:51:05,280] [C:\\Projects\\credit_collections_rl\\learning\\resources\\models\\4ActionsSplines50KConstrained\\20201126-004420] - Instantiated class DQNAgent\n",
      "[WARNING] [2021-03-04 13:51:05,876] [tensorflow] - No training configuration found in the save file, so the model was *not* compiled. Compile it manually.\n",
      "[WARNING] [2021-03-04 13:51:05,887] [tensorflow] - No training configuration found in the save file, so the model was *not* compiled. Compile it manually.\n"
     ]
    }
   ],
   "source": [
    "agent = load_agent(\"4ActionsSplines50KConstrained\", 0)"
   ]
  },
  {
   "cell_type": "code",
   "execution_count": 3,
   "metadata": {},
   "outputs": [
    {
     "name": "stdout",
     "output_type": "stream",
     "text": [
      "[WARNING] [2021-03-04 13:51:10,091] [tensorflow] - AutoGraph could not transform <function Model.make_predict_function.<locals>.predict_function at 0x000001E282F9BB88> and will run it as-is.\n",
      "Please report this to the TensorFlow team. When filing the bug, set the verbosity to 10 (on Linux, `export AUTOGRAPH_VERBOSITY=10`) and attach the full output.\n",
      "Cause: 'arguments' object has no attribute 'posonlyargs'\n",
      "To silence this warning, decorate the function with @tf.autograph.experimental.do_not_convert\n",
      "WARNING: AutoGraph could not transform <function Model.make_predict_function.<locals>.predict_function at 0x000001E282F9BB88> and will run it as-is.\n",
      "Please report this to the TensorFlow team. When filing the bug, set the verbosity to 10 (on Linux, `export AUTOGRAPH_VERBOSITY=10`) and attach the full output.\n",
      "Cause: 'arguments' object has no attribute 'posonlyargs'\n",
      "To silence this warning, decorate the function with @tf.autograph.experimental.do_not_convert\n"
     ]
    }
   ],
   "source": [
    "def create_map(agent, w_points=80, l_points=80, lam_lim=7, larger_offset=False):\n",
    "    if larger_offset:\n",
    "        l = np.linspace(agent.env.observation_space.low[0], lam_lim * 1.2, l_points)\n",
    "        w = np.linspace(agent.env.observation_space.low[1], agent.env.observation_space.high[1], w_points)\n",
    "\n",
    "    #     w_normalized = np.linspace(0, 1, w_points)\n",
    "    #     l_normalized = np.linspace(0, agent.env.observation((lam_lim,100))[0], l_points)\n",
    "    #     wwn, lln = np.meshgrid(w_normalized, l_normalized)\n",
    "        ww, ll = np.meshgrid(w, l)\n",
    "        space_iterator = product(l, w)\n",
    "        space_product = agent.env.observation(np.array([[i, j] for i, j in space_iterator]))\n",
    "        predictions = agent.main_net.predict_on_batch(space_product)\n",
    "        z = np.amax(predictions, axis=1).reshape(l_points, w_points)\n",
    "        p = np.argmax(predictions, axis=1).reshape(l_points, w_points)\n",
    "        p[int(p.shape[0]*0.9):, :] = 0.0\n",
    "    else:\n",
    "\n",
    "        l = np.linspace(agent.env.observation_space.low[0], lam_lim, l_points)\n",
    "        w = np.linspace(agent.env.observation_space.low[1], agent.env.observation_space.high[1], w_points)\n",
    "\n",
    "    #     w_normalized = np.linspace(0, 1, w_points)\n",
    "    #     l_normalized = np.linspace(0, agent.env.observation((lam_lim,100))[0], l_points)\n",
    "    #     wwn, lln = np.meshgrid(w_normalized, l_normalized)\n",
    "        ww, ll = np.meshgrid(w, l)\n",
    "        space_iterator = product(l, w)\n",
    "        space_product = agent.env.observation(np.array([[i, j] for i, j in space_iterator]))\n",
    "        predictions = agent.main_net.predict_on_batch(space_product)\n",
    "        z = np.amax(predictions, axis=1).reshape(l_points, w_points)\n",
    "        p = np.argmax(predictions, axis=1).reshape(l_points, w_points)\n",
    "    return  ww, ll, p, z\n",
    "#ww, ll, aa, z = create_map(agent)\n",
    "ww, ll, p, z = create_map(agent, w_points=388, l_points=399, lam_lim=7)"
   ]
  },
  {
   "cell_type": "code",
   "execution_count": 4,
   "metadata": {},
   "outputs": [
    {
     "data": {
      "text/plain": [
       "(399, 388)"
      ]
     },
     "execution_count": 4,
     "metadata": {},
     "output_type": "execute_result"
    }
   ],
   "source": [
    "p.shape"
   ]
  },
  {
   "cell_type": "code",
   "execution_count": 5,
   "metadata": {},
   "outputs": [],
   "source": [
    "ww, ll, p, z = create_map(agent, w_points=388, l_points=399, lam_lim=7)"
   ]
  },
  {
   "cell_type": "code",
   "execution_count": 6,
   "metadata": {},
   "outputs": [],
   "source": [
    "ww, ll, p, z = create_map(agent, w_points=388, l_points=399, lam_lim=7, larger_offset=True)"
   ]
  },
  {
   "cell_type": "code",
   "execution_count": 7,
   "metadata": {},
   "outputs": [
    {
     "name": "stdout",
     "output_type": "stream",
     "text": [
      "406 ms ± 4.43 ms per loop (mean ± std. dev. of 7 runs, 1 loop each)\n"
     ]
    }
   ],
   "source": [
    "%%timeit\n",
    "ww, ll, p, z = create_map(agent, w_points=200, l_points=100, lam_lim=7)"
   ]
  },
  {
   "cell_type": "code",
   "execution_count": 8,
   "metadata": {},
   "outputs": [
    {
     "data": {
      "text/plain": [
       "Text(0.5, 1.0, 'Simplest default with labels')"
      ]
     },
     "execution_count": 8,
     "metadata": {},
     "output_type": "execute_result"
    },
    {
     "data": {
      "image/png": "[encoded data removed]",
      "text/plain": [
       "<Figure size 432x288 with 1 Axes>"
      ]
     },
     "metadata": {
      "needs_background": "light"
     },
     "output_type": "display_data"
    }
   ],
   "source": [
    "fig, ax = plt.subplots()\n",
    "CS = ax.contour(ww, ll, z)\n",
    "ax.clabel(CS, inline=1, fontsize=10)\n",
    "ax.set_title('Simplest default with labels')"
   ]
  },
  {
   "cell_type": "code",
   "execution_count": 9,
   "metadata": {},
   "outputs": [
    {
     "name": "stderr",
     "output_type": "stream",
     "text": [
      "c:\\users\\markm\\.conda\\envs\\tf2-gpu\\lib\\site-packages\\ipykernel_launcher.py:1: MatplotlibDeprecationWarning: shading='flat' when X and Y have the same dimensions as C is deprecated since 3.3.  Either specify the corners of the quadrilaterals with X and Y, or pass shading='auto', 'nearest' or 'gouraud', or set rcParams['pcolor.shading'].  This will become an error two minor releases later.\n",
      "  \"\"\"Entry point for launching an IPython kernel.\n"
     ]
    },
    {
     "data": {
      "image/png": "[encoded data removed]",
      "text/plain": [
       "<Figure size 432x288 with 2 Axes>"
      ]
     },
     "metadata": {
      "needs_background": "light"
     },
     "output_type": "display_data"
    }
   ],
   "source": [
    "plt.pcolor(ww, ll, p)\n",
    "plt.colorbar()\n",
    "plt.show()"
   ]
  },
  {
   "cell_type": "code",
   "execution_count": 10,
   "metadata": {},
   "outputs": [],
   "source": [
    "import math\n",
    "\n",
    "def t_equation(lambda_start, lhat, params):\n",
    "    # equation for duration to reach a holding region\n",
    "    try:\n",
    "        numerator = (lambda_start - params.lambdainf)\n",
    "        denominator = (lhat - params.lambdainf)\n",
    "\n",
    "        if lambda_start < lhat:\n",
    "            return 0\n",
    "        elif denominator < 0:\n",
    "            return np.NaN\n",
    "        else:\n",
    "            t = 1 / params.kappa * \\\n",
    "                np.log(numerator / denominator)\n",
    "            return t\n",
    "    except:\n",
    "        print('warning')\n",
    "        print(f'Numerator {(lambda_start - params.lambdainf)}')\n",
    "        print(f'Denominator {(lhat) - params.lambdainf}')\n",
    "        \n",
    "def next_arrival(t_to_sustain, l, params):\n",
    "    # generates interarrival times\n",
    "    flag_finished = False\n",
    "    s = 0\n",
    "    # t_to_sustain = t_equation(l, lhat, params)\n",
    "    relative_repayment = 0.0\n",
    "    while not flag_finished:\n",
    "        lstar = l\n",
    "        w = -np.log(np.random.rand()) / lstar\n",
    "        s = s + w\n",
    "        d = np.random.rand()\n",
    "        if d * lstar <= drift(s, l, params):\n",
    "            # arrival\n",
    "            relative_repayment = params.sample_repayment()[0]\n",
    "            if np.isnan(t_to_sustain):\n",
    "                pass\n",
    "            elif s > t_to_sustain:\n",
    "                relative_repayment = 0.0\n",
    "                s = t_to_sustain\n",
    "            flag_finished = True\n",
    "    return relative_repayment, s\n",
    "        \n",
    "def drift(s, lambda_start, params):\n",
    "    # deterministic draft\n",
    "    return params.lambdainf + (lambda_start - params.lambdainf) * np.exp(-params.kappa * s)\n",
    "\n",
    "def round_decimals_up(number:float, decimals:int=2):\n",
    "    \"\"\"\n",
    "    Returns a value rounded up to a specific number of decimal places.\n",
    "    \"\"\"\n",
    "    if not isinstance(decimals, int):\n",
    "        raise TypeError(\"decimal places must be an integer\")\n",
    "    elif decimals < 0:\n",
    "        raise ValueError(\"decimal places has to be 0 or more\")\n",
    "    elif decimals == 0:\n",
    "        return math.ceil(number)\n",
    "    \n",
    "    if np.isnan(number):\n",
    "        res= np.NaN\n",
    "    else:\n",
    "        factor = 10 ** decimals\n",
    "        res = math.ceil(number * factor) / factor\n",
    "\n",
    "    return res"
   ]
  },
  {
   "cell_type": "code",
   "execution_count": 11,
   "metadata": {},
   "outputs": [
    {
     "data": {
      "text/plain": [
       "(0.21921567755396526, 0.17707202563589539)"
      ]
     },
     "execution_count": 11,
     "metadata": {},
     "output_type": "execute_result"
    }
   ],
   "source": [
    "params = agent.env.params\n",
    "next_arrival(1.0, 1, params)"
   ]
  },
  {
   "cell_type": "code",
   "execution_count": 12,
   "metadata": {},
   "outputs": [
    {
     "data": {
      "text/plain": [
       "1.0674491454717445"
      ]
     },
     "execution_count": 12,
     "metadata": {},
     "output_type": "execute_result"
    }
   ],
   "source": [
    "t_equation(2.0, 1.0, agent.env.params)"
   ]
  },
  {
   "cell_type": "code",
   "execution_count": 13,
   "metadata": {},
   "outputs": [
    {
     "data": {
      "text/plain": [
       "1e-05"
      ]
     },
     "execution_count": 13,
     "metadata": {},
     "output_type": "execute_result"
    }
   ],
   "source": [
    "round_decimals_up(3.172065784643304e-16, 5)"
   ]
  },
  {
   "cell_type": "code",
   "execution_count": 17,
   "metadata": {},
   "outputs": [
    {
     "name": "stdout",
     "output_type": "stream",
     "text": [
      "(1.0, 150.0)\n",
      "Current action is not zero.\n",
      "(1.5, 150.0)\n",
      "Current action is not zero.\n",
      "(1.7, 150.0)\n",
      "lhat:1.6223618102620296\n",
      "t t a: 0.07106\n",
      "Arr time:0.07106\n",
      "(1.6223597973660413, 150.0)\n",
      "Current action is not zero.\n",
      "(1.8223597973660413, 150.0)\n",
      "lhat:1.6223618102620296\n",
      "t t a: 0.17634\n",
      "Arr time:0.17634\n",
      "(1.622353245896216, 150.0)\n",
      "Current action is not zero.\n",
      "(1.822353245896216, 150.0)\n",
      "lhat:1.6223618102620296\n",
      "t t a: 0.17633\n",
      "Arr time:0.17633\n",
      "(1.6223581116758747, 150.0)\n",
      "Current action is not zero.\n",
      "(1.8223581116758747, 150.0)\n",
      "lhat:1.6223618102620296\n",
      "t t a: 0.17634\n",
      "Arr time:0.09928843948997214\n",
      "ARRIVAL\n",
      "(1.8740700950585396, 105.79381730750248)\n",
      "lhat:1.267839197260351\n",
      "t t a: 0.59732\n",
      "Arr time:0.5166602851099675\n",
      "ARRIVAL\n",
      "(1.6753892547004985, 38.14540206368605)\n",
      "lhat:0.16256281554923585\n",
      "t t a: 4.6087\n",
      "Arr time:0.36831320285532326\n",
      "ARRIVAL\n",
      "(1.7235729864773537, 8.680769576415265)\n",
      "lhat:0\n",
      "t t a: nan\n",
      "Arr time:0.45216546537606306\n",
      "ARRIVAL\n",
      "(1.3539523018437505, 7.797388615744067)\n",
      "lhat:0\n",
      "t t a: nan\n",
      "Arr time:0.1347585052938739\n",
      "ARRIVAL\n",
      "(1.725265538639712, 0.5584165575537874)\n"
     ]
    },
    {
     "data": {
      "text/plain": [
       "[<matplotlib.lines.Line2D at 0x1e28ae28f88>]"
      ]
     },
     "execution_count": 17,
     "metadata": {},
     "output_type": "execute_result"
    },
    {
     "data": {
      "image/png": "[encoded data removed]",
      "text/plain": [
       "<Figure size 432x288 with 1 Axes>"
      ]
     },
     "metadata": {
      "needs_background": "light"
     },
     "output_type": "display_data"
    }
   ],
   "source": [
    "# PRICER HERE\n",
    "# policy_map = p.copy()\n",
    "policy_map = p.copy()\n",
    "w_vec = ww[0, :]\n",
    "l_vec = ll[:, 0]\n",
    "action_bins = agent.env.env.action_bins\n",
    "\n",
    "params = agent.env.params\n",
    "\n",
    "start_state = np.array([1.0, 150.0], dtype='float32')\n",
    "current_w = start_state[1].copy()\n",
    "current_l = start_state[0].copy()\n",
    "current_time = 0\n",
    "\n",
    "# This will be evaluated in a loop\n",
    "reward = 0.0\n",
    "cost = 0.0\n",
    "\n",
    "# FOR PLOTTING\n",
    "print((current_l, current_w))\n",
    "lams = [current_l]\n",
    "ws = [current_w]\n",
    "\n",
    "while current_w > 1.0:\n",
    "    \n",
    "    w_ind = np.digitize(current_w, w_vec, right=True)\n",
    "    l_slice = policy_map[:, w_ind]\n",
    "    slice_index = np.digitize(current_l, l_vec, right=True)\n",
    "    current_action_type = l_slice[slice_index]\n",
    "    current_action = action_bins[current_action_type]\n",
    "\n",
    "    # if the current action is different from 0\n",
    "    # apply the action\n",
    "    if current_action != 0.0:\n",
    "        current_l = current_l + current_action * params.delta2\n",
    "        cost += current_action * params.c\n",
    "        print('Current action is not zero.')\n",
    "        print((current_l, current_w))\n",
    "        ws.append(current_w)\n",
    "        lams.append(current_l)\n",
    "\n",
    "    else:\n",
    "#         closest_action_index = l_slice[(l_slice <= current_w) & (l_slice > 0)][-1]\n",
    "#         closest_action = action_bins[l_hat_type]\n",
    "\n",
    "        lhat_slice = l_vec[(l_vec <= current_l) & (l_slice > 0)]\n",
    "        if lhat_slice.shape[0] > 0:\n",
    "            lhat = lhat_slice[-1]\n",
    "        else:\n",
    "            lhat = 0\n",
    "        print(f'lhat:{lhat}')\n",
    "\n",
    "#         # plot the w profile slice\n",
    "#         fig, ax = plt.subplots()\n",
    "#         ax.plot(l_vec, l_slice)\n",
    "#         ax.axvline(current_l, color='red', linestyle='--')\n",
    "#         ax.set_xlabel(r'$\\lambda$')\n",
    "#         ax.set_ylabel('Actions scheduled')\n",
    "\n",
    "        time_to_action = round_decimals_up(t_equation(current_l, lhat, params), 5)\n",
    "        print(f't t a: {time_to_action}')\n",
    "        \n",
    "        relative_repayment, arr_time = next_arrival(time_to_action, current_l, params)\n",
    "        print(f'Arr time:{arr_time}')\n",
    "        current_time += arr_time\n",
    "        current_l = drift(arr_time, current_l, params)\n",
    "        ws.append(current_w)\n",
    "        lams.append(current_l)\n",
    "        \n",
    "        if relative_repayment > 0.0:\n",
    "            reward += np.exp(-params.rho * current_time) * relative_repayment * current_w\n",
    "            current_w = current_w * (1 - relative_repayment)\n",
    "            current_l = current_l + relative_repayment * params.delta11 + params.delta10\n",
    "            print('ARRIVAL')\n",
    "        print((current_l, current_w))\n",
    "        ws.append(current_w)\n",
    "        lams.append(current_l)\n",
    "\n",
    "    \n",
    "\n",
    "plt.plot(ws, lams)"
   ]
  },
  {
   "cell_type": "code",
   "execution_count": 18,
   "metadata": {},
   "outputs": [],
   "source": [
    "from dask import delayed, compute\n",
    "import joblib\n",
    "from multiprocessing import cpu_count\n",
    "\n",
    "def single_collection(start_state, ww, ll, policy_map, params, action_bins):\n",
    "    w_vec = ww[0, :]\n",
    "    l_vec = ll[:, 0]\n",
    "\n",
    "    current_w = start_state[1].copy()\n",
    "    current_l = start_state[0].copy()\n",
    "    current_time = 0\n",
    "\n",
    "    # This will be evaluated in a loop\n",
    "    reward = 0.0\n",
    "    cost = 0.0\n",
    "\n",
    "\n",
    "    while current_w > 1.0:\n",
    "\n",
    "        w_ind = np.digitize(current_w, w_vec, right=True)\n",
    "        l_slice = policy_map[:, w_ind]\n",
    "        current_action_type = l_slice[np.digitize(current_l, l_vec, right=True)]\n",
    "        current_action = action_bins[current_action_type]\n",
    "\n",
    "\n",
    "        if current_action != 0.0:\n",
    "            current_l = current_l + current_action * params.delta2\n",
    "            cost += current_action * params.c\n",
    "        else:\n",
    "\n",
    "\n",
    "            lhat_slice = l_vec[(l_vec <= current_l) & (l_slice > 0)]\n",
    "            if lhat_slice.shape[0] > 0:\n",
    "                lhat = lhat_slice[-1]\n",
    "            else:\n",
    "                lhat = 0\n",
    "\n",
    "\n",
    "\n",
    "            time_to_action = round_decimals_up(t_equation(current_l, lhat, params), 5)\n",
    "\n",
    "            relative_repayment, arr_time = next_arrival(time_to_action, current_l, params)\n",
    "            current_time += arr_time\n",
    "            current_l = drift(arr_time, current_l, params)\n",
    "\n",
    "            if relative_repayment > 0.0:\n",
    "                reward += np.exp(-params.rho * current_time) * relative_repayment * current_w\n",
    "                current_w = current_w * (1 - relative_repayment)\n",
    "                current_l = current_l + relative_repayment * params.delta11 + params.delta10\n",
    "                \n",
    "    return reward - cost\n",
    "\n",
    "def value_account_parallel(account, ww, ll, p, params, action_bins, n_iterations=1000):\n",
    "#     tasks = []\n",
    "#     for _ in range(n_iterations):\n",
    "#         tasks.append(single_collection(account, ww, ll, p, params))\n",
    "    workers = cpu_count() - 2\n",
    "    rest = joblib.Parallel(n_jobs=workers)(joblib.delayed(single_collection)(account, ww, ll, p, params, action_bins) for i in range(n_iterations))  \n",
    "    return rest\n",
    "\n",
    "def value_account(account, ww, ll, p, params, action_bins, n_iterations=1000):\n",
    "    vals = np.zeros(n_iterations, dtype='float32')\n",
    "    for i in range(n_iterations):\n",
    "        vals[i] = single_collection(account, ww, ll, p, params, action_bins)\n",
    "    return vals"
   ]
  },
  {
   "cell_type": "code",
   "execution_count": 19,
   "metadata": {},
   "outputs": [
    {
     "data": {
      "text/plain": [
       "12"
      ]
     },
     "execution_count": 19,
     "metadata": {},
     "output_type": "execute_result"
    }
   ],
   "source": [
    "cpu_count()"
   ]
  },
  {
   "cell_type": "code",
   "execution_count": 20,
   "metadata": {},
   "outputs": [
    {
     "data": {
      "text/plain": [
       "136.41292165527298"
      ]
     },
     "execution_count": 20,
     "metadata": {},
     "output_type": "execute_result"
    }
   ],
   "source": [
    "params = agent.env.params\n",
    "\n",
    "acc = np.array([0.2, 200], dtype='float32')\n",
    "single_collection(acc, ww, ll, p, params, agent.env.env.action_bins)"
   ]
  },
  {
   "cell_type": "code",
   "execution_count": 21,
   "metadata": {},
   "outputs": [
    {
     "name": "stdout",
     "output_type": "stream",
     "text": [
      "671 µs ± 12.1 µs per loop (mean ± std. dev. of 7 runs, 1000 loops each)\n"
     ]
    }
   ],
   "source": [
    "%%timeit\n",
    "single_collection(acc, ww, ll, p, params, agent.env.env.action_bins)"
   ]
  },
  {
   "cell_type": "code",
   "execution_count": 22,
   "metadata": {},
   "outputs": [],
   "source": [
    "autonomous_p = np.zeros_like(ww,dtype='int32')"
   ]
  },
  {
   "cell_type": "code",
   "execution_count": 23,
   "metadata": {},
   "outputs": [
    {
     "name": "stdout",
     "output_type": "stream",
     "text": [
      "2.27 s ± 46.5 ms per loop (mean ± std. dev. of 7 runs, 1 loop each)\n"
     ]
    }
   ],
   "source": [
    "%%timeit\n",
    "value_account_parallel(acc, ww, ll, autonomous_p, params, agent.env.env.action_bins, n_iterations=10000)"
   ]
  },
  {
   "cell_type": "code",
   "execution_count": 24,
   "metadata": {},
   "outputs": [
    {
     "name": "stdout",
     "output_type": "stream",
     "text": [
      "2.67 s ± 20.6 ms per loop (mean ± std. dev. of 7 runs, 1 loop each)\n"
     ]
    }
   ],
   "source": [
    "%%timeit\n",
    "value_account(acc, ww, ll, autonomous_p, params, agent.env.env.action_bins, n_iterations=10000)"
   ]
  },
  {
   "cell_type": "code",
   "execution_count": 25,
   "metadata": {},
   "outputs": [
    {
     "data": {
      "text/plain": [
       "66.16051181088801"
      ]
     },
     "execution_count": 25,
     "metadata": {},
     "output_type": "execute_result"
    }
   ],
   "source": [
    "np.mean(value_account_parallel(acc, ww, ll, autonomous_p, params, agent.env.env.action_bins, n_iterations=10000))"
   ]
  },
  {
   "cell_type": "code",
   "execution_count": 26,
   "metadata": {},
   "outputs": [
    {
     "name": "stdout",
     "output_type": "stream",
     "text": [
      "[INFO] [2021-03-04 13:58:00,107] [AAV] - Instantiated @ AAV\n"
     ]
    },
    {
     "data": {
      "text/plain": [
       "-67.2505022779574"
      ]
     },
     "execution_count": 26,
     "metadata": {},
     "output_type": "execute_result"
    }
   ],
   "source": [
    "aav = AAV(params)\n",
    "aav.u(0.2, 200)"
   ]
  },
  {
   "cell_type": "markdown",
   "metadata": {},
   "source": [
    "Pricing degenerato policy that does not have a no action in the lhat slice"
   ]
  },
  {
   "cell_type": "code",
   "execution_count": 27,
   "metadata": {},
   "outputs": [
    {
     "data": {
      "text/plain": [
       "(399, 388)"
      ]
     },
     "execution_count": 27,
     "metadata": {},
     "output_type": "execute_result"
    }
   ],
   "source": [
    "ww.shape"
   ]
  },
  {
   "cell_type": "code",
   "execution_count": 28,
   "metadata": {},
   "outputs": [],
   "source": [
    "degenerate_p = np.zeros_like(ww,dtype='int32')\n",
    "degenerate_p[:, 300:] = 1"
   ]
  },
  {
   "cell_type": "code",
   "execution_count": 31,
   "metadata": {},
   "outputs": [
    {
     "name": "stderr",
     "output_type": "stream",
     "text": [
      "c:\\users\\markm\\.conda\\envs\\tf2-gpu\\lib\\site-packages\\ipykernel_launcher.py:1: MatplotlibDeprecationWarning: shading='flat' when X and Y have the same dimensions as C is deprecated since 3.3.  Either specify the corners of the quadrilaterals with X and Y, or pass shading='auto', 'nearest' or 'gouraud', or set rcParams['pcolor.shading'].  This will become an error two minor releases later.\n",
      "  \"\"\"Entry point for launching an IPython kernel.\n"
     ]
    },
    {
     "data": {
      "image/png": "[encoded data removed]",
      "text/plain": [
       "<Figure size 432x288 with 2 Axes>"
      ]
     },
     "metadata": {
      "needs_background": "light"
     },
     "output_type": "display_data"
    }
   ],
   "source": [
    "plt.pcolor(ww, ll, degenerate_p)\n",
    "plt.colorbar()\n",
    "plt.show()"
   ]
  },
  {
   "cell_type": "code",
   "execution_count": 32,
   "metadata": {},
   "outputs": [
    {
     "ename": "NameError",
     "evalue": "name 'policy_pricer' is not defined",
     "output_type": "error",
     "traceback": [
      "\u001b[1;31m---------------------------------------------------------------------------\u001b[0m",
      "\u001b[1;31mNameError\u001b[0m                                 Traceback (most recent call last)",
      "\u001b[1;32m<ipython-input-32-b23a12f0d5fd>\u001b[0m in \u001b[0;36m<module>\u001b[1;34m\u001b[0m\n\u001b[1;32m----> 1\u001b[1;33m \u001b[0mnp\u001b[0m\u001b[1;33m.\u001b[0m\u001b[0mmean\u001b[0m\u001b[1;33m(\u001b[0m\u001b[0mpolicy_pricer\u001b[0m\u001b[1;33m.\u001b[0m\u001b[0mvalue_account\u001b[0m\u001b[1;33m(\u001b[0m\u001b[0mnp\u001b[0m\u001b[1;33m.\u001b[0m\u001b[0marray\u001b[0m\u001b[1;33m(\u001b[0m\u001b[1;33m[\u001b[0m\u001b[1;36m1.0\u001b[0m\u001b[1;33m,\u001b[0m \u001b[1;36m199.\u001b[0m\u001b[1;33m]\u001b[0m\u001b[1;33m,\u001b[0m \u001b[0mdtype\u001b[0m\u001b[1;33m=\u001b[0m\u001b[1;34m'float32'\u001b[0m\u001b[1;33m)\u001b[0m\u001b[1;33m,\u001b[0m \u001b[0mww\u001b[0m\u001b[1;33m,\u001b[0m \u001b[0mll\u001b[0m\u001b[1;33m,\u001b[0m \u001b[0mdegenerate_p\u001b[0m\u001b[1;33m,\u001b[0m \u001b[0mparams\u001b[0m\u001b[1;33m,\u001b[0m \u001b[0magent\u001b[0m\u001b[1;33m.\u001b[0m\u001b[0menv\u001b[0m\u001b[1;33m.\u001b[0m\u001b[0menv\u001b[0m\u001b[1;33m.\u001b[0m\u001b[0maction_bins\u001b[0m\u001b[1;33m,\u001b[0m \u001b[0mn_iterations\u001b[0m\u001b[1;33m=\u001b[0m\u001b[1;36m10000\u001b[0m\u001b[1;33m)\u001b[0m\u001b[1;33m)\u001b[0m\u001b[1;33m\u001b[0m\u001b[1;33m\u001b[0m\u001b[0m\n\u001b[0m",
      "\u001b[1;31mNameError\u001b[0m: name 'policy_pricer' is not defined"
     ]
    }
   ],
   "source": [
    "np.mean(policy_pricer.value_account(np.array([1.0, 199.], dtype='float32'), ww, ll, degenerate_p, params, agent.env.env.action_bins, n_iterations=10000))"
   ]
  },
  {
   "cell_type": "markdown",
   "metadata": {},
   "source": [
    "### NUMBA SPEEDUP"
   ]
  },
  {
   "cell_type": "code",
   "execution_count": 247,
   "metadata": {},
   "outputs": [],
   "source": [
    "import numba\n",
    "from numba.experimental import jitclass\n",
    "from numba import int32, float32, float64"
   ]
  },
  {
   "cell_type": "code",
   "execution_count": 248,
   "metadata": {},
   "outputs": [],
   "source": [
    "spec = [\n",
    "    ('lambdainf', float64),\n",
    "    ('kappa', float64),\n",
    "    ('delta10', float64),\n",
    "    ('delta11', float64),\n",
    "    ('delta2', float64),\n",
    "    ('c', float64)# a simple scalar field         # an array field\n",
    "]\n",
    "\n",
    "@jitclass(spec)\n",
    "class ParamsNumba(object):\n",
    "    def __init__(self, lambdainf, kappa, delta10, delta11, delta2, c):\n",
    "        self.lambdainf = lambdainf\n",
    "        self.kappa = kappa\n",
    "        self.delta10 = delta10\n",
    "        self.delta11 = delta11\n",
    "        self.delta2 = delta2\n",
    "        self.c = c\n"
   ]
  },
  {
   "cell_type": "code",
   "execution_count": 249,
   "metadata": {},
   "outputs": [],
   "source": [
    "paramsnumba = ParamsNumba(params.lambdainf, params.kappa, params.delta10, params.delta11, params.delta2, params.c)"
   ]
  },
  {
   "cell_type": "code",
   "execution_count": 263,
   "metadata": {},
   "outputs": [],
   "source": [
    "@numba.jit\n",
    "def t_equation(lambda_start, lhat, params):\n",
    "    # equation for duration to reach a holding region\n",
    "    try:\n",
    "        numerator = (lambda_start - params.lambdainf)\n",
    "        denominator = (lhat - params.lambdainf)\n",
    "\n",
    "        if lambda_start < lhat:\n",
    "            return 0\n",
    "        elif denominator < 0:\n",
    "            return np.NaN\n",
    "        else:\n",
    "            t = 1 / params.kappa * \\\n",
    "                np.log(numerator / denominator)\n",
    "            return t\n",
    "    except:\n",
    "        print('warning')\n",
    "#         print(f'Numerator {(lambda_start - params.lambdainf)}')\n",
    "#         print(f'Denominator {(lhat) - params.lambdainf}')\n",
    "\n",
    "@numba.jit\n",
    "def next_arrival(t_to_sustain, l, params):\n",
    "    # generates interarrival times\n",
    "    flag_finished = False\n",
    "    s = 0\n",
    "    # t_to_sustain = t_equation(l, lhat, params)\n",
    "    relative_repayment = 0.0\n",
    "    while not flag_finished:\n",
    "        lstar = l\n",
    "        w = -np.log(np.random.rand()) / lstar\n",
    "        s = s + w\n",
    "        d = np.random.rand()\n",
    "        if d * lstar <= drift(s, l, params):\n",
    "            # arrival\n",
    "            relative_repayment = params.sample_repayment()[0]\n",
    "            if np.isnan(t_to_sustain):\n",
    "                pass\n",
    "            elif s > t_to_sustain:\n",
    "                relative_repayment = 0.0\n",
    "                s = t_to_sustain\n",
    "            flag_finished = True\n",
    "    return relative_repayment, s\n",
    "\n",
    "@numba.jit\n",
    "def drift(s, lambda_start, params):\n",
    "    # deterministic draft\n",
    "    return params.lambdainf + (lambda_start - params.lambdainf) * np.exp(-params.kappa * s)\n",
    "\n",
    "@numba.jit\n",
    "def round_decimals_up(number:float, decimals:int=2):\n",
    "    \"\"\"\n",
    "    Returns a value rounded up to a specific number of decimal places.\n",
    "    \"\"\"\n",
    "    if not isinstance(decimals, int):\n",
    "        raise TypeError(\"decimal places must be an integer\")\n",
    "    elif decimals < 0:\n",
    "        raise ValueError(\"decimal places has to be 0 or more\")\n",
    "    elif decimals == 0:\n",
    "        return math.ceil(number)\n",
    "    \n",
    "    if np.isnan(number):\n",
    "        res= np.NaN\n",
    "    else:\n",
    "        factor = 10 ** decimals\n",
    "        res = math.ceil(number * factor) / factor\n",
    "\n",
    "    return res\n",
    "\n",
    "@numba.jit\n",
    "def single_collection(start_state, ww, ll, policy_map, params, action_bins):\n",
    "    w_vec = ww[0, :]\n",
    "    l_vec = ll[:, 0]\n",
    "\n",
    "    current_w = start_state[1]\n",
    "    current_l = start_state[0]\n",
    "    current_time = 0\n",
    "\n",
    "    # This will be evaluated in a loop\n",
    "    reward = 0.0\n",
    "    cost = 0.0\n",
    "\n",
    "\n",
    "    while current_w > 1.0:\n",
    "\n",
    "        w_ind = np.digitize(current_w, w_vec, right=True)\n",
    "        l_slice = policy_map[:, w_ind]\n",
    "        current_action_type = l_slice[np.digitize(current_l, l_vec, right=True)]\n",
    "        current_action = action_bins[current_action_type]\n",
    "\n",
    "\n",
    "        if current_action != 0.0:\n",
    "            current_l = current_l + current_action * params.delta2\n",
    "            cost += current_action * params.c\n",
    "        else:\n",
    "\n",
    "\n",
    "            lhat_slice = l_vec[(l_vec <= current_l) & (l_slice > 0)]\n",
    "            if lhat_slice.shape[0] > 0:\n",
    "                lhat = lhat_slice[-1]\n",
    "            else:\n",
    "                lhat = 0\n",
    "\n",
    "\n",
    "\n",
    "            time_to_action = round_decimals_up(t_equation(current_l, lhat, params), 5)\n",
    "\n",
    "            relative_repayment, arr_time = next_arrival(time_to_action, current_l, params)\n",
    "            current_time += arr_time\n",
    "            current_l = drift(arr_time, current_l, params)\n",
    "\n",
    "            if relative_repayment > 0.0:\n",
    "                reward += np.exp(-params.rho * current_time) * relative_repayment * current_w\n",
    "                current_w = current_w * (1 - relative_repayment)\n",
    "                current_l = current_l + relative_repayment * params.delta11 + params.delta10\n",
    "                \n",
    "    return reward - cost"
   ]
  },
  {
   "cell_type": "code",
   "execution_count": 264,
   "metadata": {},
   "outputs": [
    {
     "data": {
      "text/plain": [
       "0.9391544379153535"
      ]
     },
     "execution_count": 264,
     "metadata": {},
     "output_type": "execute_result"
    }
   ],
   "source": [
    "drift(0.1, 1.0, paramsnumba)"
   ]
  },
  {
   "cell_type": "code",
   "execution_count": 265,
   "metadata": {},
   "outputs": [],
   "source": [
    "acc = np.array([0.5, 10], dtype='float64')"
   ]
  },
  {
   "cell_type": "code",
   "execution_count": 266,
   "metadata": {},
   "outputs": [
    {
     "name": "stdout",
     "output_type": "stream",
     "text": [
      "[INFO] [2021-02-25 11:58:28,826] [numba.core.transforms] - finding looplift candidates\n",
      "[INFO] [2021-02-25 11:58:29,101] [numba.core.transforms] - finding looplift candidates\n"
     ]
    },
    {
     "name": "stderr",
     "output_type": "stream",
     "text": [
      "<ipython-input-263-72ae59bf0a15>:69: NumbaWarning: \u001b[1m\n",
      "Compilation is falling back to object mode WITH looplifting enabled because Function \"single_collection\" failed type inference due to: \u001b[1m\u001b[1m\u001b[1mNo implementation of function Function(<function digitize at 0x000001F4480281F8>) found for signature:\n",
      " \n",
      " >>> digitize(float64, array(float64, 1d, C), right=Literal[bool](True))\n",
      " \n",
      "There are 2 candidate implementations:\n",
      "\u001b[1m      - Of which 2 did not match due to:\n",
      "      Overload of function 'digitize': File: numba\\np\\arraymath.py: Line 3584.\n",
      "        With argument(s): '(float64, array(float64, 1d, C), right=bool)':\u001b[0m\n",
      "\u001b[1m       No match.\u001b[0m\n",
      "\u001b[0m\n",
      "\u001b[0m\u001b[1mDuring: resolving callee type: Function(<function digitize at 0x000001F4480281F8>)\u001b[0m\n",
      "\u001b[0m\u001b[1mDuring: typing of call at <ipython-input-263-72ae59bf0a15> (85)\n",
      "\u001b[0m\n",
      "\u001b[1m\n",
      "File \"<ipython-input-263-72ae59bf0a15>\", line 85:\u001b[0m\n",
      "\u001b[1mdef single_collection(start_state, ww, ll, policy_map, params, action_bins):\n",
      "    <source elided>\n",
      "\n",
      "\u001b[1m        w_ind = np.digitize(current_w, w_vec, right=True)\n",
      "\u001b[0m        \u001b[1m^\u001b[0m\u001b[0m\n",
      "\u001b[0m\n",
      "  @numba.jit\n",
      "<ipython-input-263-72ae59bf0a15>:69: NumbaWarning: \u001b[1m\n",
      "Compilation is falling back to object mode WITHOUT looplifting enabled because Function \"single_collection\" failed type inference due to: \u001b[1m\u001b[1mCannot determine Numba type of <class 'numba.core.dispatcher.LiftedLoop'>\u001b[0m\n",
      "\u001b[1m\n",
      "File \"<ipython-input-263-72ae59bf0a15>\", line 83:\u001b[0m\n",
      "\u001b[1mdef single_collection(start_state, ww, ll, policy_map, params, action_bins):\n",
      "    <source elided>\n",
      "\n",
      "\u001b[1m    while current_w > 1.0:\n",
      "\u001b[0m    \u001b[1m^\u001b[0m\u001b[0m\n",
      "\u001b[0m\u001b[0m\n",
      "  @numba.jit\n",
      "c:\\users\\markm\\.conda\\envs\\tf2-gpu\\lib\\site-packages\\numba\\core\\object_mode_passes.py:152: NumbaWarning: \u001b[1mFunction \"single_collection\" was compiled in object mode without forceobj=True, but has lifted loops.\n",
      "\u001b[1m\n",
      "File \"<ipython-input-263-72ae59bf0a15>\", line 71:\u001b[0m\n",
      "\u001b[1mdef single_collection(start_state, ww, ll, policy_map, params, action_bins):\n",
      "\u001b[1m    w_vec = ww[0, :]\n",
      "\u001b[0m    \u001b[1m^\u001b[0m\u001b[0m\n",
      "\u001b[0m\n",
      "  state.func_ir.loc))\n",
      "c:\\users\\markm\\.conda\\envs\\tf2-gpu\\lib\\site-packages\\numba\\core\\object_mode_passes.py:162: NumbaDeprecationWarning: \u001b[1m\n",
      "Fall-back from the nopython compilation path to the object mode compilation path has been detected, this is deprecated behaviour.\n",
      "\n",
      "For more information visit https://numba.pydata.org/numba-doc/latest/reference/deprecation.html#deprecation-of-object-mode-fall-back-behaviour-when-using-jit\n",
      "\u001b[1m\n",
      "File \"<ipython-input-263-72ae59bf0a15>\", line 71:\u001b[0m\n",
      "\u001b[1mdef single_collection(start_state, ww, ll, policy_map, params, action_bins):\n",
      "\u001b[1m    w_vec = ww[0, :]\n",
      "\u001b[0m    \u001b[1m^\u001b[0m\u001b[0m\n",
      "\u001b[0m\n",
      "  state.func_ir.loc))\n",
      "<ipython-input-263-72ae59bf0a15>:69: NumbaWarning: \u001b[1m\n",
      "Compilation is falling back to object mode WITHOUT looplifting enabled because Function \"single_collection\" failed type inference due to: \u001b[1m\u001b[1m\u001b[1mNo implementation of function Function(<function digitize at 0x000001F4480281F8>) found for signature:\n",
      " \n",
      " >>> digitize(float64, array(float64, 1d, C), right=Literal[bool](True))\n",
      " \n",
      "There are 2 candidate implementations:\n",
      "\u001b[1m      - Of which 2 did not match due to:\n",
      "      Overload of function 'digitize': File: numba\\np\\arraymath.py: Line 3584.\n",
      "        With argument(s): '(float64, array(float64, 1d, C), right=bool)':\u001b[0m\n",
      "\u001b[1m       No match.\u001b[0m\n",
      "\u001b[0m\n",
      "\u001b[0m\u001b[1mDuring: resolving callee type: Function(<function digitize at 0x000001F4480281F8>)\u001b[0m\n",
      "\u001b[0m\u001b[1mDuring: typing of call at <ipython-input-263-72ae59bf0a15> (85)\n",
      "\u001b[0m\n",
      "\u001b[1m\n",
      "File \"<ipython-input-263-72ae59bf0a15>\", line 85:\u001b[0m\n",
      "\u001b[1mdef single_collection(start_state, ww, ll, policy_map, params, action_bins):\n",
      "    <source elided>\n",
      "\n",
      "\u001b[1m        w_ind = np.digitize(current_w, w_vec, right=True)\n",
      "\u001b[0m        \u001b[1m^\u001b[0m\u001b[0m\n",
      "\u001b[0m\n",
      "  @numba.jit\n",
      "c:\\users\\markm\\.conda\\envs\\tf2-gpu\\lib\\site-packages\\numba\\core\\object_mode_passes.py:152: NumbaWarning: \u001b[1mFunction \"single_collection\" was compiled in object mode without forceobj=True.\n",
      "\u001b[1m\n",
      "File \"<ipython-input-263-72ae59bf0a15>\", line 83:\u001b[0m\n",
      "\u001b[1mdef single_collection(start_state, ww, ll, policy_map, params, action_bins):\n",
      "    <source elided>\n",
      "\n",
      "\u001b[1m    while current_w > 1.0:\n",
      "\u001b[0m    \u001b[1m^\u001b[0m\u001b[0m\n",
      "\u001b[0m\n",
      "  state.func_ir.loc))\n",
      "c:\\users\\markm\\.conda\\envs\\tf2-gpu\\lib\\site-packages\\numba\\core\\object_mode_passes.py:162: NumbaDeprecationWarning: \u001b[1m\n",
      "Fall-back from the nopython compilation path to the object mode compilation path has been detected, this is deprecated behaviour.\n",
      "\n",
      "For more information visit https://numba.pydata.org/numba-doc/latest/reference/deprecation.html#deprecation-of-object-mode-fall-back-behaviour-when-using-jit\n",
      "\u001b[1m\n",
      "File \"<ipython-input-263-72ae59bf0a15>\", line 83:\u001b[0m\n",
      "\u001b[1mdef single_collection(start_state, ww, ll, policy_map, params, action_bins):\n",
      "    <source elided>\n",
      "\n",
      "\u001b[1m    while current_w > 1.0:\n",
      "\u001b[0m    \u001b[1m^\u001b[0m\u001b[0m\n",
      "\u001b[0m\n",
      "  state.func_ir.loc))\n"
     ]
    },
    {
     "name": "stdout",
     "output_type": "stream",
     "text": [
      "[INFO] [2021-02-25 11:58:31,447] [numba.core.transforms] - finding looplift candidates\n"
     ]
    },
    {
     "name": "stderr",
     "output_type": "stream",
     "text": [
      "<ipython-input-263-72ae59bf0a15>:49: NumbaWarning: \u001b[1m\n",
      "Compilation is falling back to object mode WITH looplifting enabled because Function \"round_decimals_up\" failed type inference due to: \u001b[1mUntyped global name 'isinstance':\u001b[0m \u001b[1m\u001b[1mCannot determine Numba type of <class 'builtin_function_or_method'>\u001b[0m\n",
      "\u001b[1m\n",
      "File \"<ipython-input-263-72ae59bf0a15>\", line 54:\u001b[0m\n",
      "\u001b[1mdef round_decimals_up(number:float, decimals:int=2):\n",
      "    <source elided>\n",
      "    \"\"\"\n",
      "\u001b[1m    if not isinstance(decimals, int):\n",
      "\u001b[0m    \u001b[1m^\u001b[0m\u001b[0m\n",
      "\u001b[0m\u001b[0m\n",
      "  @numba.jit\n"
     ]
    },
    {
     "name": "stdout",
     "output_type": "stream",
     "text": [
      "[INFO] [2021-02-25 11:58:31,752] [numba.core.transforms] - finding looplift candidates\n"
     ]
    },
    {
     "name": "stderr",
     "output_type": "stream",
     "text": [
      "c:\\users\\markm\\.conda\\envs\\tf2-gpu\\lib\\site-packages\\numba\\core\\object_mode_passes.py:152: NumbaWarning: \u001b[1mFunction \"round_decimals_up\" was compiled in object mode without forceobj=True.\n",
      "\u001b[1m\n",
      "File \"<ipython-input-263-72ae59bf0a15>\", line 50:\u001b[0m\n",
      "\u001b[1m@numba.jit\n",
      "\u001b[1mdef round_decimals_up(number:float, decimals:int=2):\n",
      "\u001b[0m\u001b[1m^\u001b[0m\u001b[0m\n",
      "\u001b[0m\n",
      "  state.func_ir.loc))\n",
      "c:\\users\\markm\\.conda\\envs\\tf2-gpu\\lib\\site-packages\\numba\\core\\object_mode_passes.py:162: NumbaDeprecationWarning: \u001b[1m\n",
      "Fall-back from the nopython compilation path to the object mode compilation path has been detected, this is deprecated behaviour.\n",
      "\n",
      "For more information visit https://numba.pydata.org/numba-doc/latest/reference/deprecation.html#deprecation-of-object-mode-fall-back-behaviour-when-using-jit\n",
      "\u001b[1m\n",
      "File \"<ipython-input-263-72ae59bf0a15>\", line 50:\u001b[0m\n",
      "\u001b[1m@numba.jit\n",
      "\u001b[1mdef round_decimals_up(number:float, decimals:int=2):\n",
      "\u001b[0m\u001b[1m^\u001b[0m\u001b[0m\n",
      "\u001b[0m\n",
      "  state.func_ir.loc))\n",
      "<ipython-input-263-72ae59bf0a15>:21: NumbaWarning: \u001b[1m\n",
      "Compilation is falling back to object mode WITH looplifting enabled because Function \"next_arrival\" failed type inference due to: \u001b[1m\u001b[1mUnknown attribute 'sample_repayment' of type instance.jitclass.ParamsNumba#1f45d72c388<lambdainf:float64,kappa:float64,delta10:float64,delta11:float64,delta2:float64,c:float64>\n",
      "\u001b[1m\n",
      "File \"<ipython-input-263-72ae59bf0a15>\", line 35:\u001b[0m\n",
      "\u001b[1mdef next_arrival(t_to_sustain, l, params):\n",
      "    <source elided>\n",
      "            # arrival\n",
      "\u001b[1m            relative_repayment = params.sample_repayment()[0]\n",
      "\u001b[0m            \u001b[1m^\u001b[0m\u001b[0m\n",
      "\u001b[0m\n",
      "\u001b[0m\u001b[1mDuring: typing of get attribute at <ipython-input-263-72ae59bf0a15> (35)\u001b[0m\n",
      "\u001b[1m\n",
      "File \"<ipython-input-263-72ae59bf0a15>\", line 35:\u001b[0m\n",
      "\u001b[1mdef next_arrival(t_to_sustain, l, params):\n",
      "    <source elided>\n",
      "            # arrival\n",
      "\u001b[1m            relative_repayment = params.sample_repayment()[0]\n",
      "\u001b[0m            \u001b[1m^\u001b[0m\u001b[0m\n",
      "\u001b[0m\n",
      "  @numba.jit\n",
      "<ipython-input-263-72ae59bf0a15>:21: NumbaWarning: \u001b[1m\n",
      "Compilation is falling back to object mode WITHOUT looplifting enabled because Function \"next_arrival\" failed type inference due to: \u001b[1m\u001b[1mCannot determine Numba type of <class 'numba.core.dispatcher.LiftedLoop'>\u001b[0m\n",
      "\u001b[1m\n",
      "File \"<ipython-input-263-72ae59bf0a15>\", line 28:\u001b[0m\n",
      "\u001b[1mdef next_arrival(t_to_sustain, l, params):\n",
      "    <source elided>\n",
      "    relative_repayment = 0.0\n",
      "\u001b[1m    while not flag_finished:\n",
      "\u001b[0m    \u001b[1m^\u001b[0m\u001b[0m\n",
      "\u001b[0m\u001b[0m\n",
      "  @numba.jit\n",
      "c:\\users\\markm\\.conda\\envs\\tf2-gpu\\lib\\site-packages\\numba\\core\\object_mode_passes.py:152: NumbaWarning: \u001b[1mFunction \"next_arrival\" was compiled in object mode without forceobj=True, but has lifted loops.\n",
      "\u001b[1m\n",
      "File \"<ipython-input-263-72ae59bf0a15>\", line 24:\u001b[0m\n",
      "\u001b[1mdef next_arrival(t_to_sustain, l, params):\n",
      "    <source elided>\n",
      "    # generates interarrival times\n",
      "\u001b[1m    flag_finished = False\n",
      "\u001b[0m    \u001b[1m^\u001b[0m\u001b[0m\n",
      "\u001b[0m\n",
      "  state.func_ir.loc))\n",
      "c:\\users\\markm\\.conda\\envs\\tf2-gpu\\lib\\site-packages\\numba\\core\\object_mode_passes.py:162: NumbaDeprecationWarning: \u001b[1m\n",
      "Fall-back from the nopython compilation path to the object mode compilation path has been detected, this is deprecated behaviour.\n",
      "\n",
      "For more information visit https://numba.pydata.org/numba-doc/latest/reference/deprecation.html#deprecation-of-object-mode-fall-back-behaviour-when-using-jit\n",
      "\u001b[1m\n",
      "File \"<ipython-input-263-72ae59bf0a15>\", line 24:\u001b[0m\n",
      "\u001b[1mdef next_arrival(t_to_sustain, l, params):\n",
      "    <source elided>\n",
      "    # generates interarrival times\n",
      "\u001b[1m    flag_finished = False\n",
      "\u001b[0m    \u001b[1m^\u001b[0m\u001b[0m\n",
      "\u001b[0m\n",
      "  state.func_ir.loc))\n",
      "<ipython-input-263-72ae59bf0a15>:21: NumbaWarning: \u001b[1m\n",
      "Compilation is falling back to object mode WITHOUT looplifting enabled because Function \"next_arrival\" failed type inference due to: \u001b[1m\u001b[1mUnknown attribute 'sample_repayment' of type instance.jitclass.ParamsNumba#1f45d72c388<lambdainf:float64,kappa:float64,delta10:float64,delta11:float64,delta2:float64,c:float64>\n",
      "\u001b[1m\n",
      "File \"<ipython-input-263-72ae59bf0a15>\", line 35:\u001b[0m\n",
      "\u001b[1mdef next_arrival(t_to_sustain, l, params):\n",
      "    <source elided>\n",
      "            # arrival\n",
      "\u001b[1m            relative_repayment = params.sample_repayment()[0]\n",
      "\u001b[0m            \u001b[1m^\u001b[0m\u001b[0m\n",
      "\u001b[0m\n",
      "\u001b[0m\u001b[1mDuring: typing of get attribute at <ipython-input-263-72ae59bf0a15> (35)\u001b[0m\n",
      "\u001b[1m\n",
      "File \"<ipython-input-263-72ae59bf0a15>\", line 35:\u001b[0m\n",
      "\u001b[1mdef next_arrival(t_to_sustain, l, params):\n",
      "    <source elided>\n",
      "            # arrival\n",
      "\u001b[1m            relative_repayment = params.sample_repayment()[0]\n",
      "\u001b[0m            \u001b[1m^\u001b[0m\u001b[0m\n",
      "\u001b[0m\n",
      "  @numba.jit\n",
      "c:\\users\\markm\\.conda\\envs\\tf2-gpu\\lib\\site-packages\\numba\\core\\object_mode_passes.py:152: NumbaWarning: \u001b[1mFunction \"next_arrival\" was compiled in object mode without forceobj=True.\n",
      "\u001b[1m\n",
      "File \"<ipython-input-263-72ae59bf0a15>\", line 28:\u001b[0m\n",
      "\u001b[1mdef next_arrival(t_to_sustain, l, params):\n",
      "    <source elided>\n",
      "    relative_repayment = 0.0\n",
      "\u001b[1m    while not flag_finished:\n",
      "\u001b[0m    \u001b[1m^\u001b[0m\u001b[0m\n",
      "\u001b[0m\n",
      "  state.func_ir.loc))\n",
      "c:\\users\\markm\\.conda\\envs\\tf2-gpu\\lib\\site-packages\\numba\\core\\object_mode_passes.py:162: NumbaDeprecationWarning: \u001b[1m\n",
      "Fall-back from the nopython compilation path to the object mode compilation path has been detected, this is deprecated behaviour.\n",
      "\n",
      "For more information visit https://numba.pydata.org/numba-doc/latest/reference/deprecation.html#deprecation-of-object-mode-fall-back-behaviour-when-using-jit\n",
      "\u001b[1m\n",
      "File \"<ipython-input-263-72ae59bf0a15>\", line 28:\u001b[0m\n",
      "\u001b[1mdef next_arrival(t_to_sustain, l, params):\n",
      "    <source elided>\n",
      "    relative_repayment = 0.0\n",
      "\u001b[1m    while not flag_finished:\n",
      "\u001b[0m    \u001b[1m^\u001b[0m\u001b[0m\n",
      "\u001b[0m\n",
      "  state.func_ir.loc))\n"
     ]
    },
    {
     "ename": "AttributeError",
     "evalue": "'ParamsNumba' object has no attribute 'sample_repayment'",
     "output_type": "error",
     "traceback": [
      "\u001b[1;31m---------------------------------------------------------------------------\u001b[0m",
      "\u001b[1;31mAttributeError\u001b[0m                            Traceback (most recent call last)",
      "\u001b[1;32m<ipython-input-266-f0f4c7b9a0c7>\u001b[0m in \u001b[0;36m<module>\u001b[1;34m\u001b[0m\n\u001b[1;32m----> 1\u001b[1;33m \u001b[0msingle_collection\u001b[0m\u001b[1;33m(\u001b[0m\u001b[0macc\u001b[0m\u001b[1;33m,\u001b[0m \u001b[0mww\u001b[0m\u001b[1;33m,\u001b[0m \u001b[0mll\u001b[0m\u001b[1;33m,\u001b[0m \u001b[0mp\u001b[0m\u001b[1;33m,\u001b[0m \u001b[0mparamsnumba\u001b[0m\u001b[1;33m,\u001b[0m \u001b[0magent\u001b[0m\u001b[1;33m.\u001b[0m\u001b[0menv\u001b[0m\u001b[1;33m.\u001b[0m\u001b[0menv\u001b[0m\u001b[1;33m.\u001b[0m\u001b[0maction_bins\u001b[0m\u001b[1;33m)\u001b[0m\u001b[1;33m\u001b[0m\u001b[1;33m\u001b[0m\u001b[0m\n\u001b[0m",
      "\u001b[1;31mAttributeError\u001b[0m: 'ParamsNumba' object has no attribute 'sample_repayment'"
     ]
    }
   ],
   "source": [
    "single_collection(acc, ww, ll, p, paramsnumba, agent.env.env.action_bins)"
   ]
  },
  {
   "cell_type": "code",
   "execution_count": 226,
   "metadata": {},
   "outputs": [
    {
     "name": "stdout",
     "output_type": "stream",
     "text": [
      "[INFO] [2021-02-25 11:46:48,615] [numba.core.transforms] - finding looplift candidates\n"
     ]
    },
    {
     "name": "stderr",
     "output_type": "stream",
     "text": [
      "<ipython-input-225-3fd8750d202d>:69: NumbaWarning: \u001b[1m\n",
      "Compilation is falling back to object mode WITH looplifting enabled because Function \"single_collection\" failed type inference due to: \u001b[1m\u001b[1mnon-precise type pyobject\u001b[0m\n",
      "\u001b[0m\u001b[1mDuring: typing of argument at <ipython-input-225-3fd8750d202d> (71)\u001b[0m\n",
      "\u001b[1m\n",
      "File \"<ipython-input-225-3fd8750d202d>\", line 71:\u001b[0m\n",
      "\u001b[1mdef single_collection(start_state, ww, ll, policy_map, params, action_bins):\n",
      "\u001b[1m    w_vec = ww[0, :]\n",
      "\u001b[0m    \u001b[1m^\u001b[0m\u001b[0m\n",
      "\u001b[0m\n",
      "  @numba.jit\n",
      "<ipython-input-225-3fd8750d202d>:69: NumbaWarning: \u001b[1m\n",
      "Compilation is falling back to object mode WITHOUT looplifting enabled because Function \"single_collection\" failed type inference due to: \u001b[1m\u001b[1mCannot determine Numba type of <class 'numba.core.dispatcher.LiftedLoop'>\u001b[0m\n",
      "\u001b[1m\n",
      "File \"<ipython-input-225-3fd8750d202d>\", line 83:\u001b[0m\n",
      "\u001b[1mdef single_collection(start_state, ww, ll, policy_map, params, action_bins):\n",
      "    <source elided>\n",
      "\n",
      "\u001b[1m    while current_w > 1.0:\n",
      "\u001b[0m    \u001b[1m^\u001b[0m\u001b[0m\n",
      "\u001b[0m\u001b[0m\n",
      "  @numba.jit\n",
      "c:\\users\\markm\\.conda\\envs\\tf2-gpu\\lib\\site-packages\\numba\\core\\object_mode_passes.py:152: NumbaWarning: \u001b[1mFunction \"single_collection\" was compiled in object mode without forceobj=True, but has lifted loops.\n",
      "\u001b[1m\n",
      "File \"<ipython-input-225-3fd8750d202d>\", line 71:\u001b[0m\n",
      "\u001b[1mdef single_collection(start_state, ww, ll, policy_map, params, action_bins):\n",
      "\u001b[1m    w_vec = ww[0, :]\n",
      "\u001b[0m    \u001b[1m^\u001b[0m\u001b[0m\n",
      "\u001b[0m\n",
      "  state.func_ir.loc))\n",
      "c:\\users\\markm\\.conda\\envs\\tf2-gpu\\lib\\site-packages\\numba\\core\\object_mode_passes.py:162: NumbaDeprecationWarning: \u001b[1m\n",
      "Fall-back from the nopython compilation path to the object mode compilation path has been detected, this is deprecated behaviour.\n",
      "\n",
      "For more information visit https://numba.pydata.org/numba-doc/latest/reference/deprecation.html#deprecation-of-object-mode-fall-back-behaviour-when-using-jit\n",
      "\u001b[1m\n",
      "File \"<ipython-input-225-3fd8750d202d>\", line 71:\u001b[0m\n",
      "\u001b[1mdef single_collection(start_state, ww, ll, policy_map, params, action_bins):\n",
      "\u001b[1m    w_vec = ww[0, :]\n",
      "\u001b[0m    \u001b[1m^\u001b[0m\u001b[0m\n",
      "\u001b[0m\n",
      "  state.func_ir.loc))\n",
      "<ipython-input-225-3fd8750d202d>:69: NumbaWarning: \u001b[1m\n",
      "Compilation is falling back to object mode WITHOUT looplifting enabled because Function \"single_collection\" failed type inference due to: \u001b[1m\u001b[1mnon-precise type pyobject\u001b[0m\n",
      "\u001b[0m\u001b[1mDuring: typing of argument at <ipython-input-225-3fd8750d202d> (83)\u001b[0m\n",
      "\u001b[1m\n",
      "File \"<ipython-input-225-3fd8750d202d>\", line 83:\u001b[0m\n",
      "\u001b[1mdef single_collection(start_state, ww, ll, policy_map, params, action_bins):\n",
      "    <source elided>\n",
      "\n",
      "\u001b[1m    while current_w > 1.0:\n",
      "\u001b[0m    \u001b[1m^\u001b[0m\u001b[0m\n",
      "\u001b[0m\n",
      "  @numba.jit\n",
      "c:\\users\\markm\\.conda\\envs\\tf2-gpu\\lib\\site-packages\\numba\\core\\object_mode_passes.py:152: NumbaWarning: \u001b[1mFunction \"single_collection\" was compiled in object mode without forceobj=True.\n",
      "\u001b[1m\n",
      "File \"<ipython-input-225-3fd8750d202d>\", line 83:\u001b[0m\n",
      "\u001b[1mdef single_collection(start_state, ww, ll, policy_map, params, action_bins):\n",
      "    <source elided>\n",
      "\n",
      "\u001b[1m    while current_w > 1.0:\n",
      "\u001b[0m    \u001b[1m^\u001b[0m\u001b[0m\n",
      "\u001b[0m\n",
      "  state.func_ir.loc))\n",
      "c:\\users\\markm\\.conda\\envs\\tf2-gpu\\lib\\site-packages\\numba\\core\\object_mode_passes.py:162: NumbaDeprecationWarning: \u001b[1m\n",
      "Fall-back from the nopython compilation path to the object mode compilation path has been detected, this is deprecated behaviour.\n",
      "\n",
      "For more information visit https://numba.pydata.org/numba-doc/latest/reference/deprecation.html#deprecation-of-object-mode-fall-back-behaviour-when-using-jit\n",
      "\u001b[1m\n",
      "File \"<ipython-input-225-3fd8750d202d>\", line 83:\u001b[0m\n",
      "\u001b[1mdef single_collection(start_state, ww, ll, policy_map, params, action_bins):\n",
      "    <source elided>\n",
      "\n",
      "\u001b[1m    while current_w > 1.0:\n",
      "\u001b[0m    \u001b[1m^\u001b[0m\u001b[0m\n",
      "\u001b[0m\n",
      "  state.func_ir.loc))\n"
     ]
    },
    {
     "name": "stdout",
     "output_type": "stream",
     "text": [
      "264 µs ± 78.8 µs per loop (mean ± std. dev. of 7 runs, 1 loop each)\n"
     ]
    }
   ],
   "source": [
    "%%timeit\n",
    "single_collection(acc, ww, ll, p, params, agent.env.env.action_bins)"
   ]
  },
  {
   "cell_type": "code",
   "execution_count": null,
   "metadata": {},
   "outputs": [],
   "source": []
  }
 ],
 "metadata": {
  "kernelspec": {
   "display_name": "Python 3",
   "language": "python",
   "name": "python3"
  },
  "language_info": {
   "codemirror_mode": {
    "name": "ipython",
    "version": 3
   },
   "file_extension": ".py",
   "mimetype": "text/x-python",
   "name": "python",
   "nbconvert_exporter": "python",
   "pygments_lexer": "ipython3",
   "version": "3.7.9"
  }
 },
 "nbformat": 4,
 "nbformat_minor": 4
}
