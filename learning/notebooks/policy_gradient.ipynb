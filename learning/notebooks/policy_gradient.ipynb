{
 "cells": [
  {
   "cell_type": "markdown",
   "metadata": {},
   "source": [
    "# Policy gradient method for the collection's environment"
   ]
  },
  {
   "cell_type": "markdown",
   "metadata": {},
   "source": [
    "In this section we will implement naive policy gradient method for discrete action space:\n",
    "$a \\in {0, 0.1, 0.5, 1, 2}$."
   ]
  },
  {
   "cell_type": "code",
   "execution_count": 2,
   "metadata": {},
   "outputs": [],
   "source": [
    "import sys\n",
    "sys.path.append('..')\n",
    "sys.path.append('../..')\n",
    "sys.path.append('../../..')\n",
    "\n",
    "from learning.collections_env import CollectionsEnv\n",
    "from learning.utils.wrappers import DiscretizedActionWrapper, StateNormalization\n",
    "from dcc import AAV, Parameters\n",
    "import os\n",
    "import numpy as np\n",
    "import keras\n",
    "import tensorflow as tf\n",
    "from keras.models import Sequential, load_model, Model\n",
    "from keras.layers import Dense, BatchNormalization\n",
    "from keras.optimizers import Adam\n",
    "from keras import backend as K\n",
    "\n",
    "from IPython.display import HTML, clear_output\n",
    "\n",
    "import matplotlib.pyplot as plt"
   ]
  },
  {
   "cell_type": "markdown",
   "metadata": {},
   "source": [
    "Aux functions: "
   ]
  },
  {
   "cell_type": "code",
   "execution_count": 3,
   "metadata": {},
   "outputs": [],
   "source": [
    "class Results(dict):\n",
    "    \n",
    "    def __init__(self, *args, **kwargs):\n",
    "        if 'filename' in kwargs:\n",
    "            data = np.load(kwargs['filename'])\n",
    "            super(Results, self).__init__(data)\n",
    "        else:\n",
    "            super(Results, self).__init__(*args, **kwargs)\n",
    "        self.new_key = None\n",
    "        self.plot_keys = None\n",
    "        self.ylim = None\n",
    "        \n",
    "    def __setitem__(self, key, value):\n",
    "        super().__setitem__(key, value)\n",
    "        self.new_key = key\n",
    "\n",
    "    def plot(self, window):\n",
    "        clear_output(wait=True)\n",
    "        for key in self:\n",
    "            #Ensure latest results are plotted on top\n",
    "            if self.plot_keys is not None and key not in self.plot_keys:\n",
    "                continue\n",
    "            elif key == self.new_key:\n",
    "                continue\n",
    "            self.plot_smooth(key, window)\n",
    "        if self.new_key is not None:\n",
    "            self.plot_smooth(self.new_key, window)\n",
    "        plt.xlabel('Episode')\n",
    "        plt.ylabel('Reward')\n",
    "        plt.legend(loc='lower right')\n",
    "        if self.ylim is not None:\n",
    "            plt.ylim(self.ylim)\n",
    "        plt.show()\n",
    "        \n",
    "    def plot_smooth(self, key, window):\n",
    "        if len(self[key]) == 0:\n",
    "            plt.plot([], [], label=key)\n",
    "            return None\n",
    "        y = np.convolve(self[key], np.ones((window,))/window, mode='valid')\n",
    "        x = np.linspace(window/2, len(self[key]) - window/2, len(y))\n",
    "        plt.plot(x, y, label=key)\n",
    "        \n",
    "    def save(self, filename='results'):\n",
    "        np.savez(filename, **self)\n",
    "        \n",
    "results = Results()"
   ]
  },
  {
   "cell_type": "code",
   "execution_count": 4,
   "metadata": {},
   "outputs": [],
   "source": [
    "# Turn off cuda"
   ]
  },
  {
   "cell_type": "code",
   "execution_count": 5,
   "metadata": {},
   "outputs": [],
   "source": [
    "os.environ[\"CUDA_VISIBLE_DEVICES\"] = \"-1\""
   ]
  },
  {
   "cell_type": "code",
   "execution_count": 8,
   "metadata": {},
   "outputs": [
    {
     "name": "stdout",
     "output_type": "stream",
     "text": [
      "New action space: Discrete(3)\n"
     ]
    },
    {
     "name": "stderr",
     "output_type": "stream",
     "text": [
      "c:\\users\\mmark\\anaconda3\\envs\\tf2-gpu\\lib\\site-packages\\gym\\logger.py:30: UserWarning: \u001b[33mWARN: Box bound precision lowered by casting to float32\u001b[0m\n",
      "  warnings.warn(colorize('%s: %s'%('WARN', msg % args), 'yellow'))\n"
     ]
    }
   ],
   "source": [
    "actions_bins = np.array([0, 0.5, 1])\n",
    "n_actions = len(actions_bins)\n",
    "\n",
    "c_env = CollectionsEnv(reward_shaping='continuous')\n",
    "c_enva = DiscretizedActionWrapper(c_env, actions_bins)\n",
    "c_enva = StateNormalization(c_enva)"
   ]
  },
  {
   "cell_type": "code",
   "execution_count": 9,
   "metadata": {},
   "outputs": [
    {
     "data": {
      "text/plain": [
       "array([2, 1, 0, 0, 0, 2, 2, 1, 2, 0])"
      ]
     },
     "execution_count": 9,
     "metadata": {},
     "output_type": "execute_result"
    }
   ],
   "source": [
    "k = np.array([c_enva.action_space.sample() for i in range(10)])\n",
    "k"
   ]
  },
  {
   "cell_type": "code",
   "execution_count": 10,
   "metadata": {},
   "outputs": [
    {
     "data": {
      "text/plain": [
       "0.0"
      ]
     },
     "execution_count": 10,
     "metadata": {},
     "output_type": "execute_result"
    }
   ],
   "source": [
    "c_enva.action(0)"
   ]
  },
  {
   "cell_type": "code",
   "execution_count": 11,
   "metadata": {},
   "outputs": [],
   "source": [
    "state, reward, done, _ = c_enva.step(0)"
   ]
  },
  {
   "cell_type": "markdown",
   "metadata": {},
   "source": [
    "Experiment setup:"
   ]
  },
  {
   "cell_type": "code",
   "execution_count": 17,
   "metadata": {},
   "outputs": [],
   "source": [
    "num_episodes = 3000\n",
    "\n",
    "def run_experiment(experiment_name, env, num_episodes, reward_shaping=False, normalize_reward=False,\n",
    "                   policy_learning_rate=0.001, value_learning_rate = 0.001, \n",
    "                   baseline=None, fileNamePolicy=None, fileNameValue=None, verbose=False):\n",
    "\n",
    "    discount_factor = 0.99\n",
    "    \n",
    "    #Initiate the learning agent\n",
    "    agent = RLAgent(n_obs = c_enva.observation_space.shape[0],  n_actions=c_enva.action_space.n, policy_learning_rate = policy_learning_rate, value_learning_rate = value_learning_rate, \n",
    "                    discount=discount_factor, baseline=baseline, fileNamePolicy=fileNamePolicy, fileNameValue=fileNameValue)\n",
    "\n",
    "    rewards = []\n",
    "    all_episode_frames = []\n",
    "    \n",
    "    points_won = 0\n",
    "    games_won = 0\n",
    "    win_streak = 0\n",
    "    \n",
    "    for episode in range(1, num_episodes+1):\n",
    "        \n",
    "        if episode % 10 == 0:\n",
    "            results[experiment_name] = np.array(rewards)\n",
    "            results.plot(50)\n",
    "    \n",
    "        #Reset the environment for a new episode\n",
    "            \n",
    "        observation = env.reset()\n",
    "        \n",
    "        episode_steps = 0\n",
    "        episode_reward = 0\n",
    "\n",
    "        while True:\n",
    "        \n",
    "\n",
    "            # 1. Decide on an action based on the observations\n",
    "            action_idx = agent.decide(observation)\n",
    "            # convert action index into commands expected by the game environment\n",
    "\n",
    "            # 2. Take action in the environment\n",
    "            next_observation, raw_reward, done, _ = env.step(action_idx)\n",
    "            \n",
    "            episode_steps += 1\n",
    "            \n",
    "            # 3. Reward shaping            \n",
    "            if reward_shaping:\n",
    "                auxiliary_reward = reward_design(observation, raw_reward, env.action(action_idx))\n",
    "                reward = raw_reward + auxiliary_reward\n",
    "            else:\n",
    "                reward = raw_reward\n",
    "    \n",
    "            episode_reward += reward\n",
    "        \n",
    "                \n",
    "\n",
    "            # 4. Store the information returned from the environment for training\n",
    "            agent.observe(observation, action_idx, reward)\n",
    "\n",
    "            if done:\n",
    "                if normalize_reward:\n",
    "                    episode_reward = (episode_reward - 50)/(1/12)\n",
    "                rewards.append(episode_reward)\n",
    "                agent.train()\n",
    "                \n",
    "                # Some diagnostics\n",
    "                if verbose:\n",
    "                    if episode % 100 == 0:\n",
    "                        print(r\"Average Collected per last 100 episodes: \" + str(np.mean(np.array(rewards)[-100:])))\n",
    "                \n",
    "#                 # Calculating the win streak (number of consecutive games won)\n",
    "#                 if player_points > opponent_points:\n",
    "#                     print(\"Won a game at episode \" + str(episode) + \"!\")\n",
    "#                     games_won += 1\n",
    "#                     win_streak += 1\n",
    "#                 else:\n",
    "#                     win_streak = 0\n",
    "                    \n",
    "#                 if episode_frames is not None:\n",
    "#                     all_episode_frames.append(episode_frames)                    \n",
    "                \n",
    "                break\n",
    "\n",
    "            # Reset for next step\n",
    "            observation = next_observation\n",
    "        \n",
    "# stop if enough collected\n",
    "#         if np.mean(np.array(rewards)[-200:])>7 and len(rewards)>200:\n",
    "#             print('Benchmark beaten!')\n",
    "#             break\n",
    "            \n",
    "    return all_episode_frames, agent"
   ]
  },
  {
   "cell_type": "code",
   "execution_count": 13,
   "metadata": {},
   "outputs": [],
   "source": [
    "def reward_design(observation, reward, action):  \n",
    "    # normalize reward\n",
    "    auxiliary_reward = 0\n",
    "    if action > 0:\n",
    "        auxiliary_reward = -1\n",
    "    return auxiliary_reward"
   ]
  },
  {
   "cell_type": "code",
   "execution_count": 14,
   "metadata": {},
   "outputs": [],
   "source": [
    "class RLAgent(object):\n",
    "    \n",
    "    def __init__(self, n_obs, n_actions, policy_learning_rate, value_learning_rate, \n",
    "                 discount, baseline=None, fileNamePolicy=None, fileNameValue=None):\n",
    "\n",
    "        #We need the state and action dimensions to build the network\n",
    "        self.n_obs = n_obs \n",
    "        self.n_actions = n_actions\n",
    "        \n",
    "        \n",
    "        self.policy_learning_rate = policy_learning_rate\n",
    "        self.value_learning_rate = value_learning_rate\n",
    "        \n",
    "        self.gamma = discount\n",
    "        \n",
    "        self.use_baseline = baseline is not None\n",
    "        self.use_adaptive_baseline = baseline == 'adaptive'\n",
    "        \n",
    "        self.use_aav_baseline = baseline == 'aav'\n",
    "\n",
    "        #Fill in the rest of the agent parameters to use in the methods below\n",
    "        \n",
    "        # TODO\n",
    "        \n",
    "        # self.theta = \n",
    "        \n",
    "        #These lists stores the observations for this episode\n",
    "        self.episode_observations, self.episode_actions, self.episode_rewards = [], [], []\n",
    "\n",
    "        #Build the keras network\n",
    "        self.fileNamePolicy = fileNamePolicy\n",
    "        self.fileNameValue = fileNameValue\n",
    "        self._build_network()\n",
    "        \n",
    "        param = Parameters()\n",
    "        aav = AAV(param)\n",
    "        self.ub = aav.u(0.11, 100)\n",
    "\n",
    "        \n",
    "    def observe(self, state, action, reward):\n",
    "        \"\"\" This function takes the observations the agent received from the environment and stores them\n",
    "            in the lists above. \"\"\"\n",
    "        self.episode_observations.append(state)\n",
    "        self.episode_actions.append(action)\n",
    "        self.episode_rewards.append(reward)\n",
    "            \n",
    "    def _get_returns(self):\n",
    "        \"\"\" This function should process self.episode_rewards and return the discounted episode returns\n",
    "            at each step in the episode, then optionally apply a baseline. Hint: work backwards.\"\"\"\n",
    "        # TODO\n",
    "        running_sum = 0\n",
    "        discounted_r = np.zeros_like(self.episode_rewards)\n",
    "        advantages = None\n",
    "        \n",
    "        for i in reversed(range(0,len(self.episode_rewards))):\n",
    "            if self.episode_rewards[i] != 0: # reset the sum, since this was a game boundary (pong specific!) - this never happens because of reward shaping\n",
    "                running_sum = 0\n",
    "            running_sum = running_sum * self.gamma + self.episode_rewards[i]\n",
    "            discounted_r[i] = running_sum\n",
    "        \n",
    "        if self.use_baseline:\n",
    "        # this is called whitening and is a form of a baseline\n",
    "        # normalizing returns\n",
    "            discounted_r -= np.mean(discounted_r) # normalizing the result\n",
    "            discounted_r /= np.std(discounted_r) # divide by standard deviatio\n",
    "        \n",
    "        if self.use_adaptive_baseline:\n",
    "            logits = self.value_net.predict_on_batch(np.array(self.episode_observations)).flatten()\n",
    "            advantages = discounted_r - logits\n",
    "            \n",
    "        if self.use_aav_baseline:\n",
    "        # this is called whitening and is a form of a baseline\n",
    "        # normalizing returns\n",
    "            discounted_r -= self.ub# normalizing the result\n",
    "   \n",
    "        return discounted_r, advantages\n",
    "\n",
    "    def _build_network(self):\n",
    "        \"\"\" This function should build the network that can then be called by decide and train. \n",
    "            The network takes observations as inputs and has a policy distribution as output.\"\"\"\n",
    "        # TODO\n",
    "        lf = tf.keras.losses.BinaryCrossentropy(from_logits=False)\n",
    "        \n",
    "        policy_solver = tf.keras.optimizers.Adam(learning_rate=self.policy_learning_rate)\n",
    "        value_solver = tf.keras.optimizers.Adam(learning_rate=self.value_learning_rate)\n",
    "        \n",
    "        self.policy_net = Sequential()\n",
    "        self.policy_net.add(Dense(64, activation='relu', input_shape=(self.n_obs,)))\n",
    "        # self.policy_net.add(BatchNormalization())\n",
    "        self.policy_net.add(Dense(64, activation='relu'))\n",
    "        # self.policy_net.add(BatchNormalization())\n",
    "        self.policy_net.add(Dense(64, activation='relu'))\n",
    "        # self.policy_net.add(BatchNormalization())\n",
    "        self.policy_net.add(Dense(self.n_actions, activation='softmax', name='pi_final'))  \n",
    "        self.policy_net.compile(optimizer=policy_solver, loss=lf, metrics=['accuracy'])\n",
    "        \n",
    "        if self.use_adaptive_baseline:\n",
    "            self.value_net = Sequential()\n",
    "            self.value_net.add(Dense(64, activation='relu', input_shape=(self.n_obs,)))\n",
    "            self.value_net.add(Dense(64, activation='relu'))\n",
    "            self.value_net.add(Dense(64, activation='relu'))\n",
    "            self.value_net.add(Dense(1, activation='linear', name='q_final'))  \n",
    "            self.value_net.compile(optimizer=value_solver, loss=tf.keras.losses.MeanSquaredError())\n",
    "        \n",
    "    def decide(self, state):\n",
    "        \"\"\" This function feeds the observed state to the network, which returns a distribution\n",
    "            over possible actions. Sample an action from the distribution and return it.\"\"\"\n",
    "        # TODO\n",
    "        probs = self.policy_net.predict_on_batch(state[None, :]).flatten()\n",
    "        if any(np.isnan(probs)):\n",
    "            print(f'State: {state}, Probs: {probs}')\n",
    "        #probs = tf.squeeze(tf.random.categorical(logits, 1), axis=-1)\n",
    "        action = np.random.choice(self.n_actions, 1, p=probs)[0]\n",
    "        #return probs.numpy()[0]\n",
    "        return action\n",
    "\n",
    "    def train(self):\n",
    "        \"\"\" When this function is called, the accumulated observations, actions and discounted rewards from the\n",
    "            current episode should be fed into the network and used for training. Use the _get_returns function \n",
    "            to first turn the episode rewards into discounted returns. \"\"\"\n",
    "        # TODO\n",
    "        returns, advantages = self._get_returns()\n",
    "        episode_length = len(self.episode_observations)\n",
    "        labels = tf.one_hot(self.episode_actions, self.n_actions).numpy()\n",
    "        update_inputs = np.zeros((episode_length, self.n_obs))\n",
    "        \n",
    "        for i in range(episode_length):\n",
    "            update_inputs[i] = self.episode_observations[i]\n",
    "        if self.use_adaptive_baseline:\n",
    "            loss = self.value_net.train_on_batch(update_inputs, returns)\n",
    "            loss = self.policy_net.train_on_batch(update_inputs, labels, sample_weight=advantages)\n",
    "        else:\n",
    "            loss = self.policy_net.train_on_batch(update_inputs, labels, sample_weight=returns)\n",
    "            \n",
    "        # print(f'Loss: {loss}')\n",
    "        self.episode_observations, self.episode_actions, self.episode_rewards = [], [], []\n"
   ]
  },
  {
   "cell_type": "markdown",
   "metadata": {},
   "source": [
    "Some adhoc testing"
   ]
  },
  {
   "cell_type": "code",
   "execution_count": 15,
   "metadata": {},
   "outputs": [
    {
     "name": "stdout",
     "output_type": "stream",
     "text": [
      "[INFO] [2021-03-18 11:41:32,129] [AAV] - Instantiated @ AAV\n"
     ]
    }
   ],
   "source": [
    "agent = RLAgent(n_obs=c_enva.observation_space.shape[0], n_actions=c_enva.action_space.n, policy_learning_rate=10e-1, value_learning_rate=10e-4, \n",
    "                    discount=0.99, baseline=True, fileNamePolicy='debugA2C', fileNameValue='debugA2C')\n"
   ]
  },
  {
   "cell_type": "code",
   "execution_count": 205,
   "metadata": {},
   "outputs": [
    {
     "data": {
      "text/plain": [
       "3"
      ]
     },
     "execution_count": 205,
     "metadata": {},
     "output_type": "execute_result"
    }
   ],
   "source": [
    "c_enva.action_space.n"
   ]
  },
  {
   "cell_type": "code",
   "execution_count": 206,
   "metadata": {},
   "outputs": [],
   "source": [
    "obs, rew, done, _ = c_enva.step(0)\n",
    "stacked_obs = np.reshape(np.repeat(obs, repeats = 4, axis=-1), (4, 2))"
   ]
  },
  {
   "cell_type": "code",
   "execution_count": 207,
   "metadata": {},
   "outputs": [
    {
     "data": {
      "text/plain": [
       "array([[4.211759e-04, 4.211759e-04],\n",
       "       [4.211759e-04, 4.211759e-04],\n",
       "       [9.900000e-01, 9.900000e-01],\n",
       "       [9.900000e-01, 9.900000e-01]], dtype=float32)"
      ]
     },
     "execution_count": 207,
     "metadata": {},
     "output_type": "execute_result"
    }
   ],
   "source": [
    "stacked_obs"
   ]
  },
  {
   "cell_type": "code",
   "execution_count": 208,
   "metadata": {},
   "outputs": [],
   "source": [
    "obs[1] = -1."
   ]
  },
  {
   "cell_type": "code",
   "execution_count": 209,
   "metadata": {},
   "outputs": [],
   "source": [
    "# agent.policy_net.predict_on_batch(obs[None, :])"
   ]
  },
  {
   "cell_type": "code",
   "execution_count": 210,
   "metadata": {},
   "outputs": [
    {
     "data": {
      "text/plain": [
       "(array([4.067262e-04, 9.900000e-01], dtype=float32),\n",
       " 0.29884237355309407,\n",
       " False,\n",
       " None)"
      ]
     },
     "execution_count": 210,
     "metadata": {},
     "output_type": "execute_result"
    }
   ],
   "source": [
    "c_enva.step(0)"
   ]
  },
  {
   "cell_type": "code",
   "execution_count": 211,
   "metadata": {},
   "outputs": [
    {
     "name": "stdout",
     "output_type": "stream",
     "text": [
      "Model: \"sequential_30\"\n",
      "_________________________________________________________________\n",
      "Layer (type)                 Output Shape              Param #   \n",
      "=================================================================\n",
      "dense_92 (Dense)             (None, 64)                192       \n",
      "_________________________________________________________________\n",
      "dense_93 (Dense)             (None, 64)                4160      \n",
      "_________________________________________________________________\n",
      "dense_94 (Dense)             (None, 64)                4160      \n",
      "_________________________________________________________________\n",
      "pi_final (Dense)             (None, 3)                 195       \n",
      "=================================================================\n",
      "Total params: 8,707\n",
      "Trainable params: 8,707\n",
      "Non-trainable params: 0\n",
      "_________________________________________________________________\n"
     ]
    }
   ],
   "source": [
    "agent.policy_net.summary()"
   ]
  },
  {
   "cell_type": "code",
   "execution_count": 212,
   "metadata": {},
   "outputs": [],
   "source": [
    "# num_episodes = 2000\n",
    "# policy_learning_rate = 1e-6\n",
    "# _, basic_reinforce_policy = run_experiment(\"RwB\", c_enva, num_episodes, reward_shaping=False, normalize_reward=False,\n",
    "#                                            policy_learning_rate=policy_learning_rate, verbose=True, baseline=True)"
   ]
  },
  {
   "cell_type": "code",
   "execution_count": 213,
   "metadata": {},
   "outputs": [],
   "source": [
    "# _, basic_reinforce_policy_baseline= run_experiment(\"REINFORCE B\", c_enva, num_episodes, reward_shaping=False,\n",
    "#                                            policy_learning_rate=policy_learning_rate, verbose=True, baseline=False)"
   ]
  },
  {
   "cell_type": "code",
   "execution_count": 18,
   "metadata": {},
   "outputs": [
    {
     "data": {
      "image/png": "[encoded data removed]",
      "text/plain": [
       "<Figure size 432x288 with 1 Axes>"
      ]
     },
     "metadata": {
      "needs_background": "light"
     },
     "output_type": "display_data"
    },
    {
     "name": "stdout",
     "output_type": "stream",
     "text": [
      "Average Collected per last 100 episodes: 59.07727425594839\n"
     ]
    }
   ],
   "source": [
    "policy_learning_rate = 10e-6\n",
    "num_episodes = 10000\n",
    "_, basic_reinforce_policy_adaptive= run_experiment(\"REINFORCE AB\", c_enva, num_episodes, reward_shaping=False,\n",
    "                                           policy_learning_rate=policy_learning_rate, verbose=True, baseline='aav')"
   ]
  },
  {
   "cell_type": "code",
   "execution_count": 192,
   "metadata": {},
   "outputs": [
    {
     "name": "stdout",
     "output_type": "stream",
     "text": [
      "[INFO] [2020-06-10 21:02:55,811] [AAV] - Instantiated @ AAV\n"
     ]
    },
    {
     "data": {
      "text/plain": [
       "<matplotlib.lines.Line2D at 0x1fd2378c988>"
      ]
     },
     "execution_count": 192,
     "metadata": {},
     "output_type": "execute_result"
    },
    {
     "data": {
      "image/png": "[encoded data removed]",
      "text/plain": [
       "<Figure size 432x288 with 1 Axes>"
      ]
     },
     "metadata": {
      "needs_background": "light"
     },
     "output_type": "display_data"
    }
   ],
   "source": [
    "#plt.plot(results['REINFORCE AB'])\n",
    "from dcc import AAV, Parameters\n",
    "p = Parameters()\n",
    "aav = AAV(p)\n",
    "u = -aav.u(0.11, 100)\n",
    "plt.plot(np.convolve(results['REINFORCE AB'], np.ones((100,))/100, mode='valid'))\n",
    "plt.axhline(u, color='red', linestyle='--')"
   ]
  },
  {
   "cell_type": "code",
   "execution_count": 193,
   "metadata": {},
   "outputs": [
    {
     "data": {
      "text/plain": [
       "36.67267453990505"
      ]
     },
     "execution_count": 193,
     "metadata": {},
     "output_type": "execute_result"
    }
   ],
   "source": [
    "np.mean(results['REINFORCE AB'][-100:])"
   ]
  },
  {
   "cell_type": "code",
   "execution_count": 194,
   "metadata": {},
   "outputs": [
    {
     "ename": "AttributeError",
     "evalue": "'RLAgent' object has no attribute 'value_net'",
     "output_type": "error",
     "traceback": [
      "\u001b[1;31m---------------------------------------------------------------------------\u001b[0m",
      "\u001b[1;31mAttributeError\u001b[0m                            Traceback (most recent call last)",
      "\u001b[1;32m<ipython-input-194-56cdfe35853f>\u001b[0m in \u001b[0;36m<module>\u001b[1;34m\u001b[0m\n\u001b[1;32m----> 1\u001b[1;33m \u001b[0madaptive_policy\u001b[0m \u001b[1;33m=\u001b[0m \u001b[0mbasic_reinforce_policy_adaptive\u001b[0m\u001b[1;33m.\u001b[0m\u001b[0mvalue_net\u001b[0m\u001b[1;33m.\u001b[0m\u001b[0msave\u001b[0m\u001b[1;33m(\u001b[0m\u001b[1;34m'reinfor_w_b.h5'\u001b[0m\u001b[1;33m)\u001b[0m\u001b[1;33m\u001b[0m\u001b[1;33m\u001b[0m\u001b[0m\n\u001b[0m",
      "\u001b[1;31mAttributeError\u001b[0m: 'RLAgent' object has no attribute 'value_net'"
     ]
    }
   ],
   "source": [
    "adaptive_policy = basic_reinforce_policy_adaptive.value_net.save('reinfor_w_b.h5')"
   ]
  },
  {
   "cell_type": "code",
   "execution_count": 195,
   "metadata": {},
   "outputs": [
    {
     "data": {
      "text/plain": [
       "array([0.1, 1. ], dtype=float16)"
      ]
     },
     "execution_count": 195,
     "metadata": {},
     "output_type": "execute_result"
    }
   ],
   "source": [
    "c_enva.observation_space.low"
   ]
  },
  {
   "cell_type": "code",
   "execution_count": 196,
   "metadata": {},
   "outputs": [],
   "source": [
    "w_points = 60\n",
    "l_points = 60\n",
    "\n",
    "w_normalized = np.linspace(0, 1, w_points)\n",
    "l_normalized = np.linspace(0, 1, l_points)\n",
    "l = np.linspace(c_enva.observation_space.low[0], c_enva.observation_space.high[0], l_points)\n",
    "w = np.linspace(c_enva.observation_space.low[1], c_enva.observation_space.high[1], w_points)\n",
    "wwn, lln = np.meshgrid(w_normalized, l_normalized)\n",
    "ww, ll = np.meshgrid(w, l)\n",
    "z = np.zeros_like(ww)\n",
    "p = np.zeros_like(ww)\n",
    "for i, xp in enumerate(w_normalized):\n",
    "    for j, yp in enumerate(l_normalized):\n",
    "        fixed_obs = np.array([yp, xp])\n",
    "        # z[j, i] = np.amax(basic_reinforce_policy_adaptive.value_net.predict_on_batch(fixed_obs[None, :]))\n",
    "        p[j, i] = c_enva.action(np.argmax(basic_reinforce_policy_adaptive.policy_net.predict_on_batch(fixed_obs[None,:])))"
   ]
  },
  {
   "cell_type": "code",
   "execution_count": 197,
   "metadata": {},
   "outputs": [
    {
     "data": {
      "image/png": "[encoded data removed]",
      "text/plain": [
       "<Figure size 432x288 with 2 Axes>"
      ]
     },
     "metadata": {
      "needs_background": "light"
     },
     "output_type": "display_data"
    }
   ],
   "source": [
    "plt.pcolor(ww, ll, p)\n",
    "plt.colorbar()\n",
    "plt.show()"
   ]
  },
  {
   "cell_type": "code",
   "execution_count": 198,
   "metadata": {},
   "outputs": [
    {
     "data": {
      "text/plain": [
       "array([[0.33045793, 0.3213408 , 0.34820136]], dtype=float32)"
      ]
     },
     "execution_count": 198,
     "metadata": {},
     "output_type": "execute_result"
    }
   ],
   "source": [
    "basic_reinforce_policy_adaptive.policy_net.predict_on_batch(np.array([0.1,0.5])[None, :])"
   ]
  },
  {
   "cell_type": "code",
   "execution_count": 199,
   "metadata": {},
   "outputs": [
    {
     "name": "stderr",
     "output_type": "stream",
     "text": [
      "c:\\users\\majke\\anaconda3\\envs\\tf2-gpu\\lib\\site-packages\\ipykernel_launcher.py:1: UserWarning: No contour levels were found within the data range.\n",
      "  \"\"\"Entry point for launching an IPython kernel.\n"
     ]
    },
    {
     "data": {
      "text/plain": [
       "<matplotlib.contour.QuadContourSet at 0x1fd21efcc48>"
      ]
     },
     "execution_count": 199,
     "metadata": {},
     "output_type": "execute_result"
    },
    {
     "data": {
      "image/png": "[encoded data removed]",
      "text/plain": [
       "<Figure size 432x288 with 1 Axes>"
      ]
     },
     "metadata": {
      "needs_background": "light"
     },
     "output_type": "display_data"
    }
   ],
   "source": [
    "plt.contour(ww, ll, z)"
   ]
  },
  {
   "cell_type": "code",
   "execution_count": 144,
   "metadata": {},
   "outputs": [
    {
     "data": {
      "text/plain": [
       "array([[-0.71459639, -0.69943994, -0.68437618, ...,  0.49598706,\n",
       "         0.51098806,  0.52598917],\n",
       "       [-0.73639292, -0.72093022, -0.70512807, ...,  0.60639554,\n",
       "         0.62203676,  0.63703781],\n",
       "       [-0.75564212, -0.73935974, -0.72307116, ...,  0.71575671,\n",
       "         0.7316851 ,  0.74761367],\n",
       "       ...,\n",
       "       [ 2.71303248,  2.75860882,  2.804281  , ...,  5.04594755,\n",
       "         5.07184029,  5.09751225],\n",
       "       [ 2.77521324,  2.82078958,  2.86646461, ...,  5.11520338,\n",
       "         5.1411624 ,  5.16695118],\n",
       "       [ 2.837394  ,  2.88297105,  2.92864799, ...,  5.18440819,\n",
       "         5.2104187 ,  5.23637867]])"
      ]
     },
     "execution_count": 144,
     "metadata": {},
     "output_type": "execute_result"
    }
   ],
   "source": [
    "z"
   ]
  },
  {
   "cell_type": "code",
   "execution_count": 43,
   "metadata": {},
   "outputs": [
    {
     "data": {
      "text/plain": [
       "Text(0.5, 0, 'Balance')"
      ]
     },
     "execution_count": 43,
     "metadata": {},
     "output_type": "execute_result"
    },
    {
     "data": {
      "image/png": "[encoded data removed]",
      "text/plain": [
       "<Figure size 432x288 with 1 Axes>"
      ]
     },
     "metadata": {
      "needs_background": "light"
     },
     "output_type": "display_data"
    }
   ],
   "source": [
    "fig, ax = plt.subplots()\n",
    "ax.contour(yy, xx, z)\n",
    "ax.set_ylabel('Lambda')\n",
    "ax.set_xlabel('Balance')"
   ]
  },
  {
   "cell_type": "code",
   "execution_count": 84,
   "metadata": {},
   "outputs": [
    {
     "data": {
      "text/plain": [
       "<matplotlib.contour.QuadContourSet at 0x158f16aa848>"
      ]
     },
     "execution_count": 84,
     "metadata": {},
     "output_type": "execute_result"
    },
    {
     "data": {
      "image/png": "[encoded data removed]",
      "text/plain": [
       "<Figure size 432x288 with 1 Axes>"
      ]
     },
     "metadata": {
      "needs_background": "light"
     },
     "output_type": "display_data"
    }
   ],
   "source": [
    "plt.contour(xx, yy, z)"
   ]
  },
  {
   "cell_type": "code",
   "execution_count": 101,
   "metadata": {},
   "outputs": [
    {
     "data": {
      "text/plain": [
       "0.0"
      ]
     },
     "execution_count": 101,
     "metadata": {},
     "output_type": "execute_result"
    }
   ],
   "source": [
    "c_enva.action(np.argmax(basic_reinforce_policy_adaptive.policy_net.predict_on_batch(np.array([0,0])[None,:])))"
   ]
  },
  {
   "cell_type": "code",
   "execution_count": 98,
   "metadata": {},
   "outputs": [
    {
     "data": {
      "text/plain": [
       "array([[1., 0., 0., 0.]], dtype=float32)"
      ]
     },
     "execution_count": 98,
     "metadata": {},
     "output_type": "execute_result"
    }
   ],
   "source": [
    "basic_reinforce_policy_adaptive.policy_net.predict_on_batch(np.array([5,100])[None,:])"
   ]
  },
  {
   "cell_type": "code",
   "execution_count": null,
   "metadata": {},
   "outputs": [],
   "source": []
  }
 ],
 "metadata": {
  "kernelspec": {
   "display_name": "Python 3",
   "language": "python",
   "name": "python3"
  },
  "language_info": {
   "codemirror_mode": {
    "name": "ipython",
    "version": 3
   },
   "file_extension": ".py",
   "mimetype": "text/x-python",
   "name": "python",
   "nbconvert_exporter": "python",
   "pygments_lexer": "ipython3",
   "version": "3.7.9"
  }
 },
 "nbformat": 4,
 "nbformat_minor": 4
}
