{
 "cells": [
  {
   "cell_type": "code",
   "execution_count": 1,
   "id": "genetic-serum",
   "metadata": {},
   "outputs": [
    {
     "name": "stdout",
     "output_type": "stream",
     "text": [
      "[INFO] [2021-04-18 18:41:47,529] [tensorflow] - Enabling eager execution\n",
      "[INFO] [2021-04-18 18:41:47,532] [tensorflow] - Enabling v2 tensorshape\n",
      "[INFO] [2021-04-18 18:41:47,533] [tensorflow] - Enabling resource variables\n",
      "[INFO] [2021-04-18 18:41:47,533] [tensorflow] - Enabling tensor equality\n",
      "[INFO] [2021-04-18 18:41:47,533] [tensorflow] - Enabling control flow v2\n"
     ]
    }
   ],
   "source": [
    "import sys\n",
    "import os \n",
    "sys.path.append('..')\n",
    "sys.path.append('../..')\n",
    "sys.path.append('../../..')\n",
    "\n",
    "from learning.collections_env.collections_env import CollectionsEnv, MAX_ACCOUNT_BALANCE\n",
    "from learning.utils.wrappers import DiscretizedActionWrapper, StateNormalization\n",
    "from learning.policies.dqn import DQNAgent, DefaultConfig\n",
    "from learning.utils import misc\n",
    "from learning.policies.discrete_optimal_policy import DiscretePolicyConstructor\n",
    "from dcc import Parameters, AAV, OAV\n",
    "\n",
    "from tqdm import tqdm\n",
    "from joblib import delayed, Parallel\n",
    "\n",
    "import logging\n",
    "import numpy as np\n",
    "import pickle\n",
    "import copy\n",
    "from itertools import product\n",
    "#import keras\n",
    "import tensorflow as tf\n",
    "from tensorflow.keras.models import Sequential, load_model, Model\n",
    "from tensorflow.keras.layers import Dense\n",
    "from tensorflow.keras.optimizers import Adam\n",
    "from tensorflow.keras import backend as K\n",
    "\n",
    "\n",
    "from IPython.display import HTML, clear_output\n",
    "\n",
    "import matplotlib.pyplot as plt\n",
    "# import seaborn as sns\n",
    "\n",
    "os.environ[\"CUDA_VISIBLE_DEVICES\"] = \"-1\"\n",
    "\n",
    "from learning.utils.load_experiment import LoadExperiment\n",
    "from learning.policy_pricer import policy_pricer_python\n",
    "from learning.policy_pricer.cython_pricer import cython_pricer_optimized"
   ]
  },
  {
   "cell_type": "markdown",
   "id": "electric-immunology",
   "metadata": {},
   "source": [
    "List regularized models:"
   ]
  },
  {
   "cell_type": "code",
   "execution_count": 2,
   "id": "political-variation",
   "metadata": {},
   "outputs": [
    {
     "data": {
      "text/plain": [
       "['BSpline-0',\n",
       " 'BSpline-1',\n",
       " 'BSpline-2',\n",
       " 'BSplineConstr-0',\n",
       " 'BSplineConstr-1',\n",
       " 'BSplineConstr-2',\n",
       " 'DQN-0',\n",
       " 'DQN-1',\n",
       " 'DQN-2',\n",
       " 'DQNL1-0',\n",
       " 'DQNL1-1',\n",
       " 'DQNL1-2']"
      ]
     },
     "execution_count": 2,
     "metadata": {},
     "output_type": "execute_result"
    }
   ],
   "source": [
    "ldr = LoadExperiment(backup=False)\n",
    "agents = os.listdir(os.path.join(ldr.repo, 'models'))\n",
    "agents"
   ]
  },
  {
   "cell_type": "markdown",
   "id": "acute-omaha",
   "metadata": {},
   "source": [
    "Test loading of an agent:"
   ]
  },
  {
   "cell_type": "code",
   "execution_count": 3,
   "id": "adopted-costa",
   "metadata": {},
   "outputs": [
    {
     "name": "stdout",
     "output_type": "stream",
     "text": [
      "[WARNING] [2021-04-18 18:41:48,164] [tensorflow] - No training configuration found in the save file, so the model was *not* compiled. Compile it manually.\n",
      "Model: \"sequential\"\n",
      "_________________________________________________________________\n",
      "Layer (type)                 Output Shape              Param #   \n",
      "=================================================================\n",
      "dense (Dense)                (None, 128)               384       \n",
      "_________________________________________________________________\n",
      "dense_1 (Dense)              (None, 128)               16512     \n",
      "_________________________________________________________________\n",
      "dense_2 (Dense)              (None, 128)               16512     \n",
      "_________________________________________________________________\n",
      "dense_3 (Dense)              (None, 3)                 387       \n",
      "=================================================================\n",
      "Total params: 33,795\n",
      "Trainable params: 33,795\n",
      "Non-trainable params: 0\n",
      "_________________________________________________________________\n"
     ]
    }
   ],
   "source": [
    "cps = ldr.list_checkpoints(agents[-1], -1)\n",
    "ag = ldr.load_agent_from_path(cps[5])\n",
    "ag.main_net.summary()"
   ]
  },
  {
   "cell_type": "markdown",
   "id": "prospective-conviction",
   "metadata": {},
   "source": [
    "Let's setup an evaluation portfolio, i.e., starting positions, and precompute portfolio aav and optimal value under sustained policy, in the sense of MS control paper"
   ]
  },
  {
   "cell_type": "code",
   "execution_count": 4,
   "id": "nutritional-start",
   "metadata": {},
   "outputs": [],
   "source": [
    "SEED = 1\n",
    "np.random.seed(SEED)\n",
    "\n",
    "n_acc = 100\n",
    "llb = 0.2\n",
    "lub = 1.2\n",
    "wlb = 50.\n",
    "wub = 200.\n",
    "\n",
    "portfolio = np.array([[np.random.uniform(llb, lub), np.random.uniform(wlb, wub)] for _ in range(n_acc)])"
   ]
  },
  {
   "cell_type": "code",
   "execution_count": 5,
   "id": "existing-newton",
   "metadata": {},
   "outputs": [
    {
     "data": {
      "text/plain": [
       "Text(0.5, 1.0, 'portfolio')"
      ]
     },
     "execution_count": 5,
     "metadata": {},
     "output_type": "execute_result"
    },
    {
     "data": {
      "image/png": "[encoded data removed]",
      "text/plain": [
       "<Figure size 432x288 with 1 Axes>"
      ]
     },
     "metadata": {
      "needs_background": "light"
     },
     "output_type": "display_data"
    }
   ],
   "source": [
    "fig, ax = plt.subplots()\n",
    "ax.scatter(portfolio[:, 1], portfolio[:, 0])\n",
    "ax.set_ylim([0, 3])\n",
    "ax.set_xlim([0, 200])\n",
    "ax.set_title('portfolio')"
   ]
  },
  {
   "cell_type": "code",
   "execution_count": 41,
   "id": "adequate-sampling",
   "metadata": {},
   "outputs": [
    {
     "name": "stdout",
     "output_type": "stream",
     "text": [
      "[INFO] [2021-04-18 19:01:26,282] [AAV] - Instantiated @ AAV\n",
      "[INFO] [2021-04-18 19:01:26,294] [AAV] - Instantiated @ AAV\n",
      "[INFO] [2021-04-18 19:01:26,304] [OAV] - Launching the value function procedure.\n",
      "[INFO] [2021-04-18 19:01:26,305] [OAV] - Computing the value function on (0.00, 21.10].\n",
      "[INFO] [2021-04-18 19:01:26,311] [OAV] - Computing the value function on (21.10, 23.45].\n",
      "[INFO] [2021-04-18 19:01:27,410] [OAV] - Computing the value function on (23.45, 26.05].\n",
      "[INFO] [2021-04-18 19:01:28,402] [OAV] - Computing the value function on (26.05, 28.95].\n",
      "[INFO] [2021-04-18 19:01:30,059] [OAV] - Computing the value function on (28.95, 32.16].\n",
      "[INFO] [2021-04-18 19:01:30,760] [OAV] - Computing the value function on (32.16, 35.73].\n",
      "[INFO] [2021-04-18 19:01:31,756] [OAV] - Computing the value function on (35.73, 39.71].\n",
      "[INFO] [2021-04-18 19:01:33,725] [OAV] - Computing the value function on (39.71, 44.12].\n",
      "[INFO] [2021-04-18 19:01:35,138] [OAV] - Computing the value function on (44.12, 49.02].\n",
      "[INFO] [2021-04-18 19:01:37,812] [OAV] - Computing the value function on (49.02, 54.47].\n",
      "[INFO] [2021-04-18 19:01:39,558] [OAV] - Computing the value function on (54.47, 60.52].\n",
      "[INFO] [2021-04-18 19:01:41,879] [OAV] - Computing the value function on (60.52, 67.24].\n",
      "[INFO] [2021-04-18 19:01:44,312] [OAV] - Computing the value function on (67.24, 74.71].\n",
      "[INFO] [2021-04-18 19:01:46,200] [OAV] - Computing the value function on (74.71, 83.01].\n",
      "[INFO] [2021-04-18 19:01:49,615] [OAV] - Computing the value function on (83.01, 92.24].\n",
      "[INFO] [2021-04-18 19:01:52,935] [OAV] - Computing the value function on (92.24, 102.49].\n",
      "[INFO] [2021-04-18 19:01:56,763] [OAV] - Computing the value function on (102.49, 113.87].\n",
      "[INFO] [2021-04-18 19:02:01,928] [OAV] - Computing the value function on (113.87, 126.53].\n",
      "[INFO] [2021-04-18 19:02:06,584] [OAV] - Computing the value function on (126.53, 140.59].\n",
      "[INFO] [2021-04-18 19:02:11,694] [OAV] - Computing the value function on (140.59, 156.21].\n",
      "[INFO] [2021-04-18 19:02:16,108] [OAV] - Computing the value function on (156.21, 173.56].\n",
      "[INFO] [2021-04-18 19:02:20,156] [OAV] - Computing the value function on (173.56, 192.85].\n",
      "[INFO] [2021-04-18 19:02:23,868] [OAV] - Computing the value function on (192.85, 214.27].\n"
     ]
    }
   ],
   "source": [
    "def aav_portfolio(portf):\n",
    "    aav = AAV(ag.env.params)\n",
    "    values = np.zeros(len(portf))\n",
    "    for i, value in enumerate(portf):\n",
    "        values[i] = aav.u(value[0], value[1])\n",
    "    return -np.mean(values)\n",
    "        \n",
    "def compute_v(portf):\n",
    "    # probably taking max of a portfolio would be better here\n",
    "    oav = OAV(ag.env.params, 200)\n",
    "    oav.solve_v()\n",
    "    values = np.zeros(len(portf))\n",
    "    for i, value in enumerate(portf):\n",
    "        values[i] = oav.v(value[0], value[1])\n",
    "    return -np.mean(values)\n",
    "\n",
    "AAV_VAL = aav_portfolio(portfolio)\n",
    "VOPT_VAL = compute_v(portfolio)"
   ]
  },
  {
   "cell_type": "markdown",
   "id": "vital-advice",
   "metadata": {},
   "source": [
    "Now lets calculate account values. Under the hood, this runs cython."
   ]
  },
  {
   "cell_type": "code",
   "execution_count": 34,
   "id": "dominant-addiction",
   "metadata": {},
   "outputs": [],
   "source": [
    "logging.getLogger().setLevel(logging.ERROR)\n",
    "\n",
    "def calc_checkpoint_value(accs, checkpoint, niter=5000, w_points=100, l_points=100, lam_lim=10):\n",
    "    res = np.zeros(len(accs), dtype='float64')\n",
    "    agent = ldr.load_agent_from_path(checkpoint);\n",
    "    # model = tf.keras.models.load_model(os.path.join(checkpoint, 'main_net.h5'))\n",
    "    sys.stdout.flush()\n",
    "    ww, ll, p, z = policy_pricer_python.create_map(agent, w_points = w_points, l_points=l_points, lam_lim=lam_lim, larger_offset=True)\n",
    "    for i, acc in enumerate(accs):\n",
    "        vals = np.asarray(cython_pricer_optimized.value_account(acc, ww, ll, p, cython_pricer_optimized.convert_params_obj(agent.env.params), agent.env.env.action_bins, n_iterations=niter))\n",
    "        res[i] = np.mean(vals)\n",
    "    return np.mean(res), np.std(res)\n",
    "\n",
    "def calc_agent(ldr, name, accs, log_num=0, niter= 5000, w_points = 100, l_points=100, lam_lim=5, skip_checkpoints=1):\n",
    "    checkpoint_paths = ldr.list_checkpoints(name, log_num=log_num)\n",
    "    vals = np.zeros(len(checkpoint_paths))\n",
    "    stds = np.zeros(len(checkpoint_paths))\n",
    "    for i, path in enumerate(tqdm(checkpoint_paths[::skip_checkpoints])):\n",
    "        vals[i], stds[i] = calc_checkpoint_value(accs, path, niter=niter, w_points = w_points, l_points=l_points, lam_lim=lam_lim)\n",
    "    return vals, stds\n",
    "\n",
    "\n",
    "def calc_agent_parallel(ldr, name, accs, log_num=0, niter= 5000, w_points = 100, l_points=100, lam_lim=5, n_jobs=20, skip_checkpoints=1):\n",
    "    checkpoint_paths = ldr.list_checkpoints(name, log_num=log_num)\n",
    "#     vals = np.zeros(len(checkpoint_paths))\n",
    "#     stds = np.zeros(len(checkpoint_paths))\n",
    "    rets = Parallel(n_jobs=n_jobs)(delayed(calc_checkpoint_value)(accs, path, niter=niter, w_points = w_points, l_points=l_points, lam_lim=lam_lim) for path in checkpoint_paths[::skip_checkpoints])\n",
    "    return rets\n",
    "\n",
    "def value_names(ldr, names, accs, file_name, n_jobs=20, log_num=0, niter= 5000, w_points = 100, l_points=100, lam_lim=5, skip_checkpoints=1):\n",
    "    if os.path.isfile(os.path.join('results_regularizer', file_name)):\n",
    "        print('Looks like there are some results already computed. Loading instead.')\n",
    "        return load_obj('MC_5000_evaluated')\n",
    "    else:\n",
    "        print('No file found, recomputing for a given portfolio:')\n",
    "        os.makedirs('results_regularizer', exist_ok=True)\n",
    "    results = {}\n",
    "    for i, name in enumerate(tqdm(names)):\n",
    "        if n_jobs>1:\n",
    "            results[name] = (calc_agent_parallel(ldr, name, accs, log_num=log_num, niter= niter, w_points = w_points, l_points=l_points, lam_lim=lam_lim, n_jobs=n_jobs, skip_checkpoints=skip_checkpoints))\n",
    "        else:\n",
    "            results[name] = (calc_agent(ldr, name, accs, log_num=log_num, niter=niter, w_points = w_points, l_points=l_points, lam_lim=lam_lim, skip_checkpoints=skip_checkpoints))\n",
    "        save_obj(results, file_name) #_'mono_MC_5000_evaluated')\n",
    "    return results\n",
    "            \n",
    "def save_obj(obj, name ):\n",
    "    with open('results_regularizer/'+ name + '.pkl', 'wb') as f:\n",
    "        pickle.dump(obj, f, pickle.HIGHEST_PROTOCOL)\n",
    "\n",
    "def load_obj(name ):\n",
    "    with open('results_regularizer/' + name + '.pkl', 'rb') as f:\n",
    "        return pickle.load(f)"
   ]
  },
  {
   "cell_type": "code",
   "execution_count": 35,
   "id": "architectural-setting",
   "metadata": {},
   "outputs": [
    {
     "data": {
      "text/plain": [
       "['BSpline-0',\n",
       " 'BSpline-1',\n",
       " 'BSpline-2',\n",
       " 'BSplineConstr-0',\n",
       " 'BSplineConstr-1',\n",
       " 'BSplineConstr-2',\n",
       " 'DQN-0',\n",
       " 'DQN-1',\n",
       " 'DQN-2',\n",
       " 'DQNL1-0',\n",
       " 'DQNL1-1',\n",
       " 'DQNL1-2']"
      ]
     },
     "execution_count": 35,
     "metadata": {},
     "output_type": "execute_result"
    }
   ],
   "source": [
    "AGENTS = os.listdir(os.path.join(ldr.repo, 'models'))\n",
    "AGENTS\n",
    "# \"['DQN200TRUEp-0', 'DQN200TRUEp-1', 'DQN200TRUEp-2', 'DQN200TRUEp-3', 'DQN200TRUEp-4', 'L1_high-0', 'L1_high-1', 'L1_high-2', 'L1_high-3', 'L1_high-4', 'L1_low-0', 'L1_low-1', 'L1_low-2', 'L1_low-3', 'L1_low-4', 'L2_high-0', 'L2_high-1', 'L2_high-2', 'L2_high-3', 'L2_high-4', 'L2_low-0', 'L2_low-1', 'L2_low-2', 'L2_low-3', 'L2_low-4']\""
   ]
  },
  {
   "cell_type": "code",
   "execution_count": 36,
   "id": "c50c3ab4-17ac-4c88-9c13-03c2ea99c426",
   "metadata": {},
   "outputs": [
    {
     "data": {
      "image/png": "[encoded data removed]",
      "text/plain": [
       "<Figure size 432x288 with 2 Axes>"
      ]
     },
     "metadata": {
      "needs_background": "light"
     },
     "output_type": "display_data"
    }
   ],
   "source": [
    "ag = ldr.load_agent_from_path(cps[0])\n",
    "ww, ll, p, z = policy_pricer_python.create_map(ag, larger_offset=True, w_points = 200, l_points=100, lam_lim=20)\n",
    "\n",
    "plt.pcolormesh(ww, ll, p, shading='auto')\n",
    "plt.colorbar()\n",
    "plt.show()"
   ]
  },
  {
   "cell_type": "code",
   "execution_count": 24,
   "id": "4ecd5a21-12c4-46e2-a475-42a45e0454b2",
   "metadata": {},
   "outputs": [
    {
     "data": {
      "text/plain": [
       "(-61.32199544684396, 42.62757481611748)"
      ]
     },
     "execution_count": 24,
     "metadata": {},
     "output_type": "execute_result"
    }
   ],
   "source": [
    "calc_checkpoint_value(portfolio, cps[0], niter=5000, w_points = 200, l_points=100, lam_lim=20)"
   ]
  },
  {
   "cell_type": "code",
   "execution_count": 46,
   "id": "documentary-relationship",
   "metadata": {},
   "outputs": [],
   "source": [
    "skip_checkpoints = 10\n",
    "vals = value_names(ldr, AGENTS, portfolio, file_name='DQN_DQNL_BSPLINES', n_jobs=6, log_num=0, niter=10000, w_points = 200, l_points=100, lam_lim=20, skip_checkpoints=skip_checkpoints)"
   ]
  },
  {
   "cell_type": "code",
   "execution_count": 47,
   "id": "miniature-religious",
   "metadata": {},
   "outputs": [],
   "source": [
    "LEARNING_STEPS = 10000\n",
    "STEP_BY = 10*skip_checkpoints\n",
    "LEARNING_STEPS_CUTOFF = 10000\n",
    "\n",
    "def process_plot_data(vals, key: str, cutoff: int):\n",
    "    data_from_key = dqns = [ l for k,l in vals.items() if k.startswith(key)]\n",
    "    avgs = np.zeros((cutoff, len(data_from_key)), dtype='float64')\n",
    "    stds = np.zeros((cutoff, len(data_from_key)), dtype='float64')\n",
    "    for i, teration in enumerate(data_from_key):\n",
    "        avgs[:, i] = [data[0] for data in data_from_key[i][:cutoff]]\n",
    "        stds[:, i] = [data[1] for data in data_from_key[i][:cutoff]]\n",
    "    return avgs, stds\n",
    "\n",
    "def plot_learning(names, vals, percentage=True, title=None):\n",
    "    fig, ax = plt.subplots(figsize=(20, 10))\n",
    "    x = np.arange(0, LEARNING_STEPS_CUTOFF, STEP_BY)\n",
    "    cutoff = LEARNING_STEPS_CUTOFF // STEP_BY\n",
    "    a_s = AAV_VAL\n",
    "    v_s = VOPT_VAL\n",
    "    ds = []\n",
    "    if percentage:\n",
    "        mean_pfolio = np.mean(portfolio, axis=0)[1]\n",
    "    for i, name in enumerate(names):\n",
    "        avgs, stds = process_plot_data(vals, name, cutoff)\n",
    "        if percentage:\n",
    "            avgs = avgs/mean_pfolio * 100\n",
    "            a_s = a_s / mean_pfolio * 100\n",
    "            v_s = VOPT_VAL / mean_pfolio * 100\n",
    "        stds = np.std(avgs, axis=1)\n",
    "        avgs = np.mean(avgs, axis=1)\n",
    "        ax.plot(x, avgs)\n",
    "        ax.fill_between(x, avgs-stds, avgs+stds, alpha=0.2)\n",
    "    ax.legend(names)\n",
    "    ax.set_xlabel(['Learning steps'])\n",
    "    ax.axhline(a_s, color='red', linestyle='--')\n",
    "    ax.axhline(v_s, color='brown', linestyle='--')\n",
    "    if percentage:\n",
    "        ax.axhline(100, color='black', linestyle=':')\n",
    "    if title is not None:\n",
    "        ax.set_title(title)\n",
    "    "
   ]
  },
  {
   "cell_type": "code",
   "execution_count": 48,
   "id": "upset-transformation",
   "metadata": {},
   "outputs": [
    {
     "data": {
      "image/png": "[encoded data removed]",
      "text/plain": [
       "<Figure size 1440x720 with 1 Axes>"
      ]
     },
     "metadata": {
      "needs_background": "light"
     },
     "output_type": "display_data"
    }
   ],
   "source": [
    "names_reuglarized = ['BSpline','BSplineConstr', 'DQN', 'DQNL1']# , 'DQN-monotone-low', 'DQN-monotone-high']\n",
    "plot_learning(names_reuglarized, vals, LEARNING_STEPS_CUTOFF, title='All regularized runs')"
   ]
  },
  {
   "cell_type": "code",
   "execution_count": null,
   "id": "c9970088-9f7a-42dd-aba1-9d22b99128f4",
   "metadata": {},
   "outputs": [],
   "source": []
  },
  {
   "cell_type": "code",
   "execution_count": null,
   "id": "fluid-elimination",
   "metadata": {},
   "outputs": [],
   "source": [
    "names_reuglarized = ['L1_high', 'L1_low']\n",
    "plot_learning(names_reuglarized, vals, LEARNING_STEPS_CUTOFF, title='L1 with 0.01 and 0.1 regularization param.')"
   ]
  },
  {
   "cell_type": "code",
   "execution_count": null,
   "id": "finite-macedonia",
   "metadata": {},
   "outputs": [],
   "source": [
    "names_reuglarized = ['L2_high', 'L2_low']\n",
    "plot_learning(names_reuglarized, vals, LEARNING_STEPS_CUTOFF, title='L2 with 0.01 and 0.1 regularization param.')"
   ]
  },
  {
   "cell_type": "code",
   "execution_count": null,
   "id": "verified-spirituality",
   "metadata": {},
   "outputs": [],
   "source": [
    "dqns = [ l for k,l in vals.items() if k.startswith('DQN200TRUEp')]\n",
    "dqnl1_h = [ l for k,l in vals.items() if k.startswith('L1_high')]\n",
    "dqnl1_l = [ l for k,l in vals.items() if k.startswith('L1_low')]\n",
    "dqnl2_h = [ l for k,l in vals.items() if k.startswith('L2_high')]\n",
    "dqnl2_l = [ l for k,l in vals.items() if k.startswith('L2_low')]"
   ]
  },
  {
   "cell_type": "code",
   "execution_count": null,
   "id": "terminal-agenda",
   "metadata": {},
   "outputs": [],
   "source": [
    "np.std([run[1][0] for run in dqns])"
   ]
  },
  {
   "cell_type": "markdown",
   "id": "dressed-cabinet",
   "metadata": {},
   "source": [
    "Load Neural nets with reularizer:"
   ]
  },
  {
   "cell_type": "code",
   "execution_count": null,
   "id": "outside-convergence",
   "metadata": {},
   "outputs": [],
   "source": [
    "monotone_models = ['DQN-monotone-high-' + str(i) for i in range(0, 5)] + ['DQN-monotone-low-' + str(i) for i in range(0, 5)]"
   ]
  },
  {
   "cell_type": "code",
   "execution_count": null,
   "id": "broken-satisfaction",
   "metadata": {},
   "outputs": [],
   "source": [
    "# monotone_models"
   ]
  },
  {
   "cell_type": "code",
   "execution_count": null,
   "id": "measured-string",
   "metadata": {},
   "outputs": [],
   "source": [
    "monotone_vals = value_names(ldr, monotone_models, portfolio, file_name='monotone_mc', n_jobs=45, log_num=0, niter= 5000, w_points = 100, l_points=100, lam_lim=5)"
   ]
  },
  {
   "cell_type": "code",
   "execution_count": null,
   "id": "intimate-welding",
   "metadata": {},
   "outputs": [],
   "source": [
    "LEARNING_STEPS = 50000\n",
    "STEP_BY = 500\n",
    "LEARNING_STEPS_CUTOFF = 20000\n",
    "\n",
    "plot_learning(['DQN-monotone-high-', 'DQN-monotone-low-'], monotone_vals, LEARNING_STEPS_CUTOFF, title='All regularized runs')"
   ]
  },
  {
   "cell_type": "code",
   "execution_count": null,
   "id": "fantastic-region",
   "metadata": {},
   "outputs": [],
   "source": [
    "combined_vals = {**vals, **monotone_vals}"
   ]
  },
  {
   "cell_type": "code",
   "execution_count": null,
   "id": "after-poker",
   "metadata": {},
   "outputs": [],
   "source": [
    "plot_learning(['L1_low', 'DQN-monotone-low-'], combined_vals, LEARNING_STEPS_CUTOFF, title='Best comparison - L_1 and Regularized DQN')"
   ]
  },
  {
   "cell_type": "code",
   "execution_count": null,
   "id": "indian-belly",
   "metadata": {},
   "outputs": [],
   "source": [
    "plot_learning(['L2_high', 'DQN-monotone-low-'], combined_vals, LEARNING_STEPS_CUTOFF, title='Best comparison - L_2 and Regularized DQN')"
   ]
  },
  {
   "cell_type": "markdown",
   "id": "attended-cylinder",
   "metadata": {},
   "source": [
    "### Let's see how weights change in time"
   ]
  },
  {
   "cell_type": "code",
   "execution_count": null,
   "id": "toxic-evaluation",
   "metadata": {},
   "outputs": [],
   "source": [
    "logging.getLogger().setLevel(logging.ERROR)\n",
    "\n",
    "def calc_checkpoint_weights(checkpoint):\n",
    "    model = tf.keras.models.load_model(os.path.join(checkpoint, 'main_net.h5'))\n",
    "    sys.stdout.flush()\n",
    "    return [weight.numpy() for weight in model.trainable_weights]\n",
    "\n",
    "def w_calc_agent(ldr, name, log_num=0):\n",
    "    checkpoint_paths = ldr.list_checkpoints(name, log_num=log_num)\n",
    "    vals = []\n",
    "    for i, path in enumerate(tqdm(checkpoint_paths)):\n",
    "    # for i, path in enumerate(checkpoint_paths):\n",
    "        vals.append(calc_checkpoint_weights(path))\n",
    "    return vals\n",
    "\n",
    "\n",
    "def w_calc_agent_parallel(ldr, name, n_jobs, log_num=0):\n",
    "    checkpoint_paths = ldr.list_checkpoints(name, log_num=log_num)\n",
    "#     vals = np.zeros(len(checkpoint_paths))\n",
    "#     stds = np.zeros(len(checkpoint_paths))\n",
    "    rets = Parallel(n_jobs=n_jobs)(delayed(calc_checkpoint_weights)(path) for path in checkpoint_paths)\n",
    "    return rets\n",
    "\n",
    "def weights_names(ldr, names, n_jobs=20, log_num=0):\n",
    "    results = {}\n",
    "    for i, name in enumerate(tqdm(names)):\n",
    "        if n_jobs>1:\n",
    "            results[name] =  w_calc_agent_parallel(ldr, name, log_num=0, n_jobs=n_jobs)\n",
    "        else:\n",
    "            results[name] = w_calc_agent(ldr, name, log_num=0)\n",
    "    return results"
   ]
  },
  {
   "cell_type": "code",
   "execution_count": null,
   "id": "accompanied-stuff",
   "metadata": {},
   "outputs": [],
   "source": [
    "cp = ldr.list_checkpoints('DQN-monotone-high-1', log_num=-1)[0]\n",
    "\n",
    "# calc_checkpoint_value()\n",
    "#ldr.load_agent_from_path(cp)\n",
    "# os.listdir(cp)"
   ]
  },
  {
   "cell_type": "code",
   "execution_count": null,
   "id": "stainless-killing",
   "metadata": {},
   "outputs": [],
   "source": [
    "os.path.join(cp, 'main_net.h5')"
   ]
  },
  {
   "cell_type": "code",
   "execution_count": null,
   "id": "cleared-saying",
   "metadata": {},
   "outputs": [],
   "source": [
    "w_norms_dqn_l1_high = w_calc_agent(ldr, 'L1_high-1' , log_num=0)\n",
    "w_norms_dqn_l1_low = w_calc_agent(ldr, 'L1_low-1' , log_num=0)\n",
    "w_norms_dqn_l2_high = w_calc_agent(ldr, 'L2_high-1' , log_num=0)\n",
    "w_norms_dqn_l2_low = w_calc_agent(ldr, 'L2_low-1' , log_num=0)\n",
    "w_norms_dqn_monotone_high = w_calc_agent(ldr, 'DQN-monotone-low-0' , log_num=0)\n",
    "w_norms_dqn_monotone_low = w_calc_agent(ldr, 'DQN-monotone-high-0' , log_num=0)\n",
    "w_norms_dqn_200p = w_calc_agent(ldr, 'DQN200Truep' , log_num=0)"
   ]
  },
  {
   "cell_type": "code",
   "execution_count": null,
   "id": "military-candy",
   "metadata": {},
   "outputs": [],
   "source": [
    "def calculate_normed_differences(retrieved_norms):\n",
    "    \"\"\"\n",
    "    Calculates the norm of the difference between consecutive weights. Takes into account only weights, no biases.\n",
    "    \"\"\"\n",
    "    i = 1\n",
    "    differences = []\n",
    "    for i, weights_stack in enumerate(retrieved_norms[1:]):\n",
    "        network_weights = [weight for weight in weights_stack if weight.ndim>1]\n",
    "        network_weights_previous = [weight for weight in retrieved_norms[i-1] if weight.ndim>1]\n",
    "        differences.append([np.linalg.norm(network_weights[j] - network_weights_previous[j]) for j,_ in enumerate(network_weights)])\n",
    "    return np.sum(differences, axis=1)"
   ]
  },
  {
   "cell_type": "code",
   "execution_count": null,
   "id": "brave-specification",
   "metadata": {},
   "outputs": [],
   "source": [
    "fig, ax = plt.subplots(figsize=(20,10))\n",
    "\n",
    "#ax.plot(calculate_normed_differences(w_norms_dqn_l1_high))\n",
    "ax.plot(calculate_normed_differences(w_norms_dqn_l1_low))\n",
    "#ax.plot(calculate_normed_differences(w_norms_dqn_l2_high))\n",
    "ax.plot(calculate_normed_differences(w_norms_dqn_l2_high))\n",
    "#ax.plot(calculate_normed_differences(w_norms_dqn_monotone_high))\n",
    "ax.plot(calculate_normed_differences(w_norms_dqn_monotone_low))\n",
    "ax.plot(calculate_normed_differences(w_norms_dqn_200p))\n",
    "ax.axhline(calculate_normed_differences(w_norms_dqn_200p)[-1], color='black')\n",
    "ax.legend(['L1_low', 'L2_high', 'Monotonic_low', '200p'])\n",
    "ax.set_ylabel(r'$\\sum_{L=0}||w_i^L - w_{i-1}^L||_2$')\n",
    "ax.set_ylabel(r'Learning step times 500')\n",
    "ax.set_yscale('log')"
   ]
  },
  {
   "cell_type": "markdown",
   "id": "cross-mason",
   "metadata": {},
   "source": [
    "#### THIS IS THE OLD EVALUATION METHOD"
   ]
  },
  {
   "cell_type": "code",
   "execution_count": null,
   "id": "christian-neighbor",
   "metadata": {},
   "outputs": [],
   "source": [
    "plt.plot(np.sum(differences, axis=1))"
   ]
  },
  {
   "cell_type": "code",
   "execution_count": null,
   "id": "attached-chair",
   "metadata": {},
   "outputs": [],
   "source": [
    "CUTOFF_LEARNING = 45000\n",
    "\n",
    "fig, ax = plt.subplots(figsize=(20,10))\n",
    "x = np.arange(0, CUTOFF_LEARNING, 500)\n",
    "\n",
    "#x2 = np.linspace(0, CUTOFF_LEARNING, 99)\n",
    "ax.plot(x, w_norms_dqn_l1_high[:len(x)] / w_norms_dqn_l1_high[len(x)])\n",
    "ax.plot(x, w_norms_dqn_l1_low[:len(x)] / w_norms_dqn_l1_low[len(x)])\n",
    "ax.plot(x, w_norms_dqn_l2_high[:len(x)] / w_norms_dqn_l2_high[len(x)])\n",
    "ax.plot(x, w_norms_dqn_l2_low[:len(x)] / w_norms_dqn_l2_low[len(x)])\n",
    "ax.legend(['L1-high', 'L1-low', 'L2-high', 'L2-low'])\n",
    "ax.set_xlabel('Training Step')\n",
    "ax.set_ylabel(r'$\\frac{||w_i||_2}{||w_50000||_2}$')"
   ]
  },
  {
   "cell_type": "code",
   "execution_count": null,
   "id": "miniature-leader",
   "metadata": {},
   "outputs": [],
   "source": []
  }
 ],
 "metadata": {
  "kernelspec": {
   "display_name": "Python 3",
   "language": "python",
   "name": "python3"
  },
  "language_info": {
   "codemirror_mode": {
    "name": "ipython",
    "version": 3
   },
   "file_extension": ".py",
   "mimetype": "text/x-python",
   "name": "python",
   "nbconvert_exporter": "python",
   "pygments_lexer": "ipython3",
   "version": "3.9.2"
  }
 },
 "nbformat": 4,
 "nbformat_minor": 5
}
