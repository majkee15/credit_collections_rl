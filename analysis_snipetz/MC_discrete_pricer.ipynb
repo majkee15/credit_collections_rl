{
 "cells": [
  {
   "cell_type": "code",
   "execution_count": 1,
   "metadata": {},
   "outputs": [],
   "source": [
    "import numpy as np\n",
    "import sys\n",
    "from scipy.interpolate import interp1d\n",
    "sys.path.append('..')\n",
    "from dcc import Parameters, AAV\n",
    "import matplotlib.pyplot as plt\n",
    "from scipy import stats\n",
    "import seaborn as sns\n",
    "from learning.collections_env import CollectionsEnv\n",
    "from learning.utils import DiscretizedActionWrapper\n",
    "\n",
    "p = Parameters()"
   ]
  },
  {
   "cell_type": "code",
   "execution_count": 2,
   "metadata": {},
   "outputs": [
    {
     "name": "stdout",
     "output_type": "stream",
     "text": [
      "New action space: Discrete(2)\n"
     ]
    },
    {
     "name": "stderr",
     "output_type": "stream",
     "text": [
      "c:\\users\\markm\\.conda\\envs\\tf2-gpu\\lib\\site-packages\\gym\\logger.py:30: UserWarning: \u001b[33mWARN: Box bound precision lowered by casting to float32\u001b[0m\n",
      "  warnings.warn(colorize('%s: %s'%('WARN', msg % args), 'yellow'))\n"
     ]
    }
   ],
   "source": [
    "actions_bins = np.array([0, 1.0])\n",
    "c_env = CollectionsEnv(params=p, reward_shaping='discrete', randomize_start=False, max_lambda=None, starting_state=np.array([0.11, 1], dtype=np.float32))\n",
    "environment = DiscretizedActionWrapper(c_env, actions_bins)"
   ]
  },
  {
   "cell_type": "code",
   "execution_count": 51,
   "metadata": {},
   "outputs": [],
   "source": [
    "import joblib\n",
    "\n",
    "class DiscretePolicyConstructor:\n",
    "    \n",
    "    def __init__(self, env ,mc_n):\n",
    "        self.env = env\n",
    "        self.n_actions = environment.action_space.n\n",
    "        self.mc_n = mc_n\n",
    "        n_pts_w = int(200)\n",
    "        n_pts_l = int(50)\n",
    "        MAX_L = 7.0\n",
    "        self.w_grid = np.linspace(0, self.env.w0, n_pts_w)\n",
    "        self.l_grid = np.linspace(self.env.params.lambdainf, MAX_L, n_pts_l)\n",
    "        self.ww, self.ll = np.meshgrid(self.w_grid, self.l_grid)\n",
    "        self.policy = np.zeros_like(self.ww, dtype=np.int32)\n",
    "        \n",
    "    def reconstruct_policy(self):\n",
    "        self.policy = interp1d(self.grid, self.lhats) \n",
    "    \n",
    "    def get_action(self, state):\n",
    "        bal = state[1]\n",
    "        lam = state[0]\n",
    "        i = np.digitize(bal, self.w_grid, right=True)\n",
    "        j = np.digitize(lam, self.l_grid, right=True)\n",
    "        return self.policy[j, i]\n",
    "    \n",
    "    def evaluate(self, start_state, first_action):\n",
    "        self.env.reset(tostate=start_state)\n",
    "        done = False\n",
    "        score = 0\n",
    "\n",
    "        next_state, reward, done, info = self.env.step(first_action)\n",
    "        score += reward\n",
    "        state = next_state.copy()\n",
    "        \n",
    "        while not done:\n",
    "            action = self.get_action(state)\n",
    "            next_state, reward, done, info = self.env.step(action)\n",
    "            score += reward\n",
    "            state = next_state.copy()      \n",
    "        return score\n",
    "    \n",
    "    def parallel_evaluate(self, state, first_ac, mc):\n",
    "        res = joblib.Parallel(n_jobs=6)(joblib.delayed(self.evaluate)(state, first_ac) for i in range(mc))\n",
    "        return np.mean(res) \n",
    "    \n",
    "    def run(self):\n",
    "        action_estimates = np.zeros(self.n_actions)\n",
    "        i = 0\n",
    "        for j, w in enumerate(self.w_grid):\n",
    "            print(f'Balance: {w}')\n",
    "            flag_searching = True\n",
    "            while flag_searching:\n",
    "                l = self.l_grid[i]\n",
    "                state = np.array([l, w])\n",
    "                for a_index in range(self.n_actions):\n",
    "                    action_estimates[a_index] = self.parallel_evaluate(state, a_index, self.mc_n)\n",
    "                \n",
    "                best_action = np.argmax(action_estimates)\n",
    "                \n",
    "                if best_action == 0:\n",
    "                    flag_searching = False\n",
    "                else:\n",
    "                    self.policy[i , j:] = best_action\n",
    "                    i += 1\n",
    "                    print(i)"
   ]
  },
  {
   "cell_type": "code",
   "execution_count": 52,
   "metadata": {},
   "outputs": [],
   "source": [
    "agent = DiscretePolicyConstructor(environment, 500)"
   ]
  },
  {
   "cell_type": "code",
   "execution_count": 53,
   "metadata": {},
   "outputs": [
    {
     "name": "stdout",
     "output_type": "stream",
     "text": [
      "Balance: 0.0\n",
      "Balance: 1.0050251256281406\n",
      "Balance: 2.0100502512562812\n",
      "Balance: 3.015075376884422\n",
      "Balance: 4.0201005025125625\n",
      "Balance: 5.025125628140703\n",
      "Balance: 6.030150753768844\n",
      "Balance: 7.035175879396984\n",
      "Balance: 8.040201005025125\n",
      "Balance: 9.045226130653266\n",
      "Balance: 10.050251256281406\n",
      "Balance: 11.055276381909547\n",
      "Balance: 12.060301507537687\n",
      "Balance: 13.065326633165828\n",
      "Balance: 14.070351758793969\n",
      "Balance: 15.07537688442211\n",
      "Balance: 16.08040201005025\n",
      "Balance: 17.08542713567839\n",
      "Balance: 18.09045226130653\n",
      "Balance: 19.09547738693467\n",
      "Balance: 20.100502512562812\n",
      "Balance: 21.105527638190953\n",
      "Balance: 22.110552763819094\n",
      "Balance: 23.115577889447234\n",
      "Balance: 24.120603015075375\n",
      "Balance: 25.125628140703515\n",
      "Balance: 26.130653266331656\n",
      "Balance: 27.135678391959797\n",
      "Balance: 28.140703517587937\n",
      "Balance: 29.145728643216078\n",
      "Balance: 30.15075376884422\n",
      "Balance: 31.15577889447236\n",
      "Balance: 32.1608040201005\n",
      "Balance: 33.16582914572864\n",
      "Balance: 34.17085427135678\n",
      "Balance: 35.175879396984925\n",
      "Balance: 36.18090452261306\n",
      "Balance: 37.1859296482412\n",
      "Balance: 38.19095477386934\n",
      "Balance: 39.19597989949749\n",
      "1\n",
      "Balance: 40.201005025125625\n",
      "Balance: 41.20603015075376\n",
      "Balance: 42.211055276381906\n",
      "Balance: 43.21608040201005\n",
      "Balance: 44.22110552763819\n",
      "Balance: 45.226130653266324\n",
      "Balance: 46.23115577889447\n",
      "2\n",
      "Balance: 47.23618090452261\n",
      "Balance: 48.24120603015075\n",
      "Balance: 49.24623115577889\n",
      "Balance: 50.25125628140703\n",
      "Balance: 51.256281407035175\n",
      "3\n",
      "Balance: 52.26130653266331\n",
      "Balance: 53.26633165829145\n",
      "Balance: 54.27135678391959\n",
      "Balance: 55.27638190954774\n",
      "Balance: 56.281407035175874\n",
      "Balance: 57.28643216080401\n",
      "Balance: 58.291457286432156\n",
      "Balance: 59.2964824120603\n",
      "Balance: 60.30150753768844\n",
      "Balance: 61.306532663316574\n",
      "Balance: 62.31155778894472\n",
      "Balance: 63.31658291457286\n",
      "Balance: 64.321608040201\n",
      "Balance: 65.32663316582914\n",
      "Balance: 66.33165829145727\n",
      "Balance: 67.33668341708542\n",
      "Balance: 68.34170854271356\n",
      "Balance: 69.3467336683417\n",
      "4\n",
      "5\n",
      "Balance: 70.35175879396985\n",
      "Balance: 71.35678391959799\n",
      "Balance: 72.36180904522612\n",
      "Balance: 73.36683417085426\n",
      "Balance: 74.3718592964824\n",
      "Balance: 75.37688442211055\n",
      "Balance: 76.38190954773869\n",
      "Balance: 77.38693467336682\n",
      "Balance: 78.39195979899498\n",
      "Balance: 79.39698492462311\n",
      "Balance: 80.40201005025125\n",
      "6\n",
      "Balance: 81.40703517587939\n",
      "Balance: 82.41206030150752\n",
      "7\n",
      "Balance: 83.41708542713567\n",
      "8\n",
      "Balance: 84.42211055276381\n",
      "Balance: 85.42713567839195\n",
      "Balance: 86.4321608040201\n",
      "Balance: 87.43718592964824\n",
      "Balance: 88.44221105527637\n",
      "Balance: 89.44723618090451\n",
      "Balance: 90.45226130653265\n",
      "Balance: 91.4572864321608\n",
      "Balance: 92.46231155778894\n",
      "9\n",
      "Balance: 93.46733668341707\n",
      "Balance: 94.47236180904522\n",
      "Balance: 95.47738693467336\n",
      "Balance: 96.4824120603015\n",
      "Balance: 97.48743718592964\n",
      "Balance: 98.49246231155777\n",
      "Balance: 99.49748743718592\n",
      "Balance: 100.50251256281406\n",
      "Balance: 101.5075376884422\n",
      "Balance: 102.51256281407035\n",
      "Balance: 103.51758793969849\n",
      "Balance: 104.52261306532662\n",
      "Balance: 105.52763819095476\n",
      "Balance: 106.5326633165829\n",
      "Balance: 107.53768844221105\n",
      "10\n",
      "Balance: 108.54271356783919\n",
      "Balance: 109.54773869346732\n",
      "Balance: 110.55276381909547\n",
      "Balance: 111.55778894472361\n",
      "Balance: 112.56281407035175\n",
      "Balance: 113.56783919597989\n",
      "11\n",
      "Balance: 114.57286432160802\n",
      "Balance: 115.57788944723617\n",
      "Balance: 116.58291457286431\n",
      "12\n",
      "Balance: 117.58793969849245\n",
      "Balance: 118.5929648241206\n",
      "Balance: 119.59798994974874\n",
      "Balance: 120.60301507537687\n",
      "Balance: 121.60804020100501\n",
      "Balance: 122.61306532663315\n",
      "Balance: 123.6180904522613\n",
      "Balance: 124.62311557788944\n",
      "13\n",
      "Balance: 125.62814070351757\n",
      "Balance: 126.63316582914572\n",
      "Balance: 127.63819095477386\n",
      "Balance: 128.643216080402\n",
      "Balance: 129.64824120603015\n",
      "Balance: 130.65326633165827\n",
      "Balance: 131.65829145728642\n",
      "Balance: 132.66331658291455\n",
      "Balance: 133.6683417085427\n",
      "Balance: 134.67336683417085\n",
      "Balance: 135.67839195979897\n",
      "Balance: 136.68341708542712\n",
      "Balance: 137.68844221105527\n",
      "Balance: 138.6934673366834\n",
      "Balance: 139.69849246231155\n",
      "Balance: 140.7035175879397\n",
      "Balance: 141.70854271356782\n",
      "Balance: 142.71356783919597\n",
      "Balance: 143.7185929648241\n",
      "Balance: 144.72361809045225\n",
      "14\n",
      "Balance: 145.7286432160804\n",
      "Balance: 146.73366834170852\n",
      "Balance: 147.73869346733667\n",
      "Balance: 148.7437185929648\n",
      "Balance: 149.74874371859295\n",
      "Balance: 150.7537688442211\n",
      "Balance: 151.75879396984922\n",
      "Balance: 152.76381909547737\n",
      "Balance: 153.76884422110552\n",
      "Balance: 154.77386934673365\n",
      "15\n",
      "Balance: 155.7788944723618\n",
      "Balance: 156.78391959798995\n",
      "Balance: 157.78894472361807\n",
      "Balance: 158.79396984924622\n",
      "Balance: 159.79899497487435\n",
      "Balance: 160.8040201005025\n",
      "Balance: 161.80904522613065\n",
      "Balance: 162.81407035175877\n",
      "Balance: 163.81909547738692\n",
      "Balance: 164.82412060301505\n",
      "Balance: 165.8291457286432\n",
      "Balance: 166.83417085427135\n",
      "Balance: 167.83919597989947\n",
      "Balance: 168.84422110552762\n",
      "16\n",
      "Balance: 169.84924623115577\n",
      "Balance: 170.8542713567839\n",
      "Balance: 171.85929648241205\n",
      "Balance: 172.8643216080402\n",
      "Balance: 173.86934673366832\n",
      "Balance: 174.87437185929647\n",
      "Balance: 175.8793969849246\n",
      "Balance: 176.88442211055275\n",
      "Balance: 177.8894472361809\n",
      "Balance: 178.89447236180902\n",
      "Balance: 179.89949748743717\n",
      "Balance: 180.9045226130653\n",
      "17\n",
      "Balance: 181.90954773869345\n",
      "Balance: 182.9145728643216\n",
      "Balance: 183.91959798994972\n",
      "Balance: 184.92462311557787\n",
      "Balance: 185.92964824120602\n",
      "Balance: 186.93467336683415\n",
      "Balance: 187.9396984924623\n",
      "Balance: 188.94472361809045\n",
      "Balance: 189.94974874371857\n",
      "Balance: 190.95477386934672\n",
      "Balance: 191.95979899497485\n",
      "Balance: 192.964824120603\n",
      "Balance: 193.96984924623115\n",
      "Balance: 194.97487437185927\n",
      "Balance: 195.97989949748742\n",
      "18\n",
      "Balance: 196.98492462311555\n",
      "Balance: 197.9899497487437\n",
      "Balance: 198.99497487437185\n",
      "Balance: 200.0\n",
      "19\n"
     ]
    }
   ],
   "source": [
    "agent.run()"
   ]
  },
  {
   "cell_type": "code",
   "execution_count": 56,
   "metadata": {},
   "outputs": [
    {
     "data": {
      "text/plain": [
       "(50, 200)"
      ]
     },
     "execution_count": 56,
     "metadata": {},
     "output_type": "execute_result"
    }
   ],
   "source": [
    "agent.policy.shape"
   ]
  },
  {
   "cell_type": "code",
   "execution_count": 57,
   "metadata": {},
   "outputs": [
    {
     "data": {
      "image/png": "[encoded data removed]",
      "text/plain": [
       "<Figure size 432x288 with 2 Axes>"
      ]
     },
     "metadata": {
      "needs_background": "light"
     },
     "output_type": "display_data"
    }
   ],
   "source": [
    "plt.pcolor(agent.ww, agent.ll, agent.policy)\n",
    "plt.colorbar()\n",
    "plt.show()"
   ]
  },
  {
   "cell_type": "code",
   "execution_count": 45,
   "metadata": {},
   "outputs": [
    {
     "data": {
      "text/plain": [
       "0"
      ]
     },
     "execution_count": 45,
     "metadata": {},
     "output_type": "execute_result"
    }
   ],
   "source": [
    "agent.get_action(np.array([1.0, 0.0]))"
   ]
  },
  {
   "cell_type": "code",
   "execution_count": null,
   "metadata": {},
   "outputs": [],
   "source": [
    "rew_list = []\n",
    "for i in range(500):\n",
    "    rew_list.append(agent.evaluate(np.array([0.11, 100.0]), 0))"
   ]
  },
  {
   "cell_type": "code",
   "execution_count": null,
   "metadata": {},
   "outputs": [],
   "source": [
    "np.mean(rew_list)"
   ]
  },
  {
   "cell_type": "code",
   "execution_count": null,
   "metadata": {},
   "outputs": [],
   "source": [
    "res = agent.parallel_evaluate(500)"
   ]
  },
  {
   "cell_type": "code",
   "execution_count": null,
   "metadata": {},
   "outputs": [],
   "source": [
    "plt.plot(res)"
   ]
  },
  {
   "cell_type": "code",
   "execution_count": null,
   "metadata": {},
   "outputs": [],
   "source": [
    "import seaborn as sns\n",
    "sns.distplot(res)"
   ]
  },
  {
   "cell_type": "code",
   "execution_count": null,
   "metadata": {},
   "outputs": [],
   "source": [
    "agent.get_action(np.array([2, 100]))\n",
    "agent.env.action_bins"
   ]
  },
  {
   "cell_type": "code",
   "execution_count": null,
   "metadata": {},
   "outputs": [],
   "source": [
    "agent.policy.shape"
   ]
  },
  {
   "cell_type": "code",
   "execution_count": null,
   "metadata": {},
   "outputs": [],
   "source": [
    "np.digitize(100, agent.w_grid)"
   ]
  },
  {
   "cell_type": "code",
   "execution_count": null,
   "metadata": {},
   "outputs": [],
   "source": [
    "w_grid = np.linspace(1, 200, 20)\n",
    "l_grid = np.linspace(0, 7, 20)\n",
    "a_grid = np.linspace(0, 1, 2)\n",
    "ww, ll = np.meshgrid(w_grid, l_grid)"
   ]
  },
  {
   "cell_type": "code",
   "execution_count": null,
   "metadata": {},
   "outputs": [],
   "source": [
    "grid"
   ]
  },
  {
   "cell_type": "code",
   "execution_count": null,
   "metadata": {},
   "outputs": [],
   "source": [
    "environment.step(1)"
   ]
  },
  {
   "cell_type": "code",
   "execution_count": null,
   "metadata": {},
   "outputs": [],
   "source": [
    "discretized_grid = np.linspace(1, environment.w0, 200)\n",
    "short_grid = np.linspace(1, environment.w0, 15)\n",
    "def lin(x):\n",
    "    return np.sin(x * 0.03)\n",
    "\n",
    "lams = lin(short_grid)\n",
    "full_lams = lin(discretized_grid)"
   ]
  },
  {
   "cell_type": "code",
   "execution_count": null,
   "metadata": {},
   "outputs": [],
   "source": [
    " interp = interp1d(short_grid, lams)"
   ]
  },
  {
   "cell_type": "code",
   "execution_count": null,
   "metadata": {},
   "outputs": [],
   "source": [
    "plt.plot(discretized_grid, full_lams)\n",
    "plt.plot(short_grid, lams, marker='o')"
   ]
  },
  {
   "cell_type": "code",
   "execution_count": null,
   "metadata": {},
   "outputs": [],
   "source": []
  }
 ],
 "metadata": {
  "kernelspec": {
   "display_name": "Python 3",
   "language": "python",
   "name": "python3"
  },
  "language_info": {
   "codemirror_mode": {
    "name": "ipython",
    "version": 3
   },
   "file_extension": ".py",
   "mimetype": "text/x-python",
   "name": "python",
   "nbconvert_exporter": "python",
   "pygments_lexer": "ipython3",
   "version": "3.7.9"
  }
 },
 "nbformat": 4,
 "nbformat_minor": 4
}
